{
 "cells": [
  {
   "cell_type": "markdown",
   "metadata": {},
   "source": [
    "# Examen Adelantado Econometría 2020-2021\n",
    "## 12 de Enero de 2021"
   ]
  },
  {
   "cell_type": "markdown",
   "metadata": {},
   "source": [
    "\n",
    "### Instrucciones\n",
    "\n",
    "+ La duración del examen de 1.5 horas.\n",
    "+ Cada pregunta se responderá en el recuadro bajo la pregunta, bien en modo sólo texto (Preguntas 1 a 5) o bien en modo códigos de Python + texto respuesta en base a los resultados obtenidos (Preguntas 6 a 10).\n",
    "+ Los datos necesarios está disponibles bien en la librería wooldridge o en el fichero Excel \"Pregunta7.xls\" que se encuentra en github (las órdenes orientativas para leer los ficheros se encuentran descritas bajo cada uno de esos ejercicios).\n",
    "+ No se evaluarán respuestas en las que únicamente haya códigos. Los resultados deberán servir para responder a las preguntas.\n",
    "+ Las puntuaciones de cada ejercicio se encuentran en el propio enunciado.\n",
    "+ El fichero final del examen se enviará a vía PRADO en la Tarea habilitada para el examen."
   ]
  },
  {
   "cell_type": "markdown",
   "metadata": {},
   "source": [
    "\n",
    "### APELLIDOS,  NOMBRE: \n",
    "### DNI: "
   ]
  },
  {
   "cell_type": "markdown",
   "metadata": {},
   "source": [
    "### Pregunta 1: (1 punto)\n",
    "\n",
    "Justificar que $\\widehat{\\boldsymbol{\\beta}} \\sim N \\left( \\boldsymbol{\\beta}, \\ \\sigma^{2} \\cdot \\left( \\mathbf{X}^{t} \\mathbf{X} \\right)^{-1} \\right)$. ¿Qué supone este resultado cuando realizamos inferencia sobre los coeficientes de un modelo lineal múltiple?"
   ]
  },
  {
   "cell_type": "markdown",
   "metadata": {},
   "source": [
    "- Respuesta:\n"
   ]
  },
  {
   "cell_type": "markdown",
   "metadata": {},
   "source": [
    "### Pregunta 2: (1 punto)\n",
    "\n",
    "Considera el modelo $Y_i = \\beta_0 + \\beta_1 X_i + u_i$ ($i=1,2,\\ldots,20$). Si realizamos la regresión de Mínimos Cuadrados Ordinarios de los residuos obtenidos en el modelo al cuadrado $u_i^2$ sobre las variables $X$ y $X^2$ (y la constante), obtenemos un $R^2$ de 0.35.  ¿Qué podemos decir sobre la homocedasticidad del modelo planteado?"
   ]
  },
  {
   "cell_type": "markdown",
   "metadata": {},
   "source": [
    "- Respuesta:\n"
   ]
  },
  {
   "cell_type": "markdown",
   "metadata": {},
   "source": [
    "### Pregunta 3: (0.75 puntos)\n",
    "\n",
    "Enumerar y describir brevemente la hipótesis básicas necesarias para realizar el análisis de un\n",
    "modelo de regresión lineal múltiple. Justificar las razones por las que se exigen cada una de\n",
    "estas hipótesis."
   ]
  },
  {
   "cell_type": "markdown",
   "metadata": {},
   "source": [
    "- Respuesta:\n"
   ]
  },
  {
   "cell_type": "markdown",
   "metadata": {},
   "source": [
    "### Pregunta 4: (0.5 puntos)\n",
    "\n",
    "En el caso de tener que decidir qu\\'e modelo es el mejor en el siguiente caso:\n",
    "        \\begin{eqnarray*}\n",
    "            \\mbox{Modelo 1: } & & \\mathbf{Y} = \\beta_{1} + \\beta_{2} \\cdot \\mathbf{X}_{2} + \\beta_{3} \\cdot \\mathbf{X}_{3} + \\mathbf{u}. \\\\\n",
    "            \\mbox{Modelo 2: } & & \\mathbf{Y} = \\alpha_{1} + \\alpha_{2} \\cdot \\mathbf{X}_{2} + \\alpha_{3} \\cdot \\mathbf{X}_{3} + \\alpha_{4} \\cdot \\mathbf{X}_{4} + \\mathbf{v}.\n",
    "        \\end{eqnarray*}\n",
    "        ¿Qué herramientas usaría y con qué criterios? Justifique su respuesta."
   ]
  },
  {
   "cell_type": "markdown",
   "metadata": {},
   "source": [
    "- Respuesta:\n"
   ]
  },
  {
   "cell_type": "markdown",
   "metadata": {},
   "source": [
    "### Pregunta 5: (0.75 puntos)\n",
    "\n",
    "Consideremos un modelo económico en el que se desea explicar el precio de la vivienda en función de la zona donde se encuentra la vivienda, sus metros cuadrados, número de habitaciones, número de baños y si tiene o no cochera. Puesto que se sospecha que pudieran existir relaciones lineales entre los metros cuadrados de la vivienda y el número de baños y habitaciones de la misma, se calcula el factor de inflación de la varianza, obteniéndose que el mayor de ellos es igual a 4.78. ¿Se puede decir que el grado de multicolinealidad aproximada existente es preocupante? "
   ]
  },
  {
   "cell_type": "markdown",
   "metadata": {},
   "source": [
    "- Respuesta:\n"
   ]
  },
  {
   "cell_type": "markdown",
   "metadata": {},
   "source": [
    "### Pregunta 6: (1.5 puntos)\n",
    "\n",
    "Se desea analizar el número de becarios en la enseñanza universitaria, $\\mathbf{B}$ (medidos en miles), a partir del número de alumnos matriculados en los estudios de primer y segundo ciclo, $\\mathbf{A}$ (medidos en miles), y el importe destinado a becas, $\\mathbf{I}$ (medido en millones de euros). A partir de las universidades de las 17 comunidades autónomas más la universidad a distancia, se obtiene:\n",
    "        $$(\\mathbf{X}^{t} \\mathbf{X})^{-1} =  \\begin{pmatrix} 0.114 & -0.0005 & -0.0002 \\\\ -0.0005 & 0.00002 & -0.00002 \\\\ -0.0002 & -0.00002 & 0.00003 \\end{pmatrix}, \\mathbf{X}^{t} \\mathbf{y} = \n",
    "            \\begin{pmatrix}\n",
    "                443.818 \\\\\n",
    "         66792.89 \\\\\n",
    "                53125.748\n",
    "            \\end{pmatrix}, \\mathbf{y}^{t} \\mathbf{y} = 21953.5,$$\n",
    "            \n",
    "Se pide responder de forma razonada las siguientes cuestiones:\n",
    "1. Especificar los modelos económico y econométrico.\n",
    "1. Obtener la estimación de los coeficientes del modelo.\n",
    "1. ¿Es el coeficiente del número de alumnos matriculados en los estudios de primer y segundo ciclo significativamente distinto de cero al 95% de confianza? Indique las consecuencias del análisis realizado.\n",
    "1. Es el coeficiente del importe destinado a becas significativamente distinto de cero al 5% de significación? Indique las consecuencias del análisis realizado.\n",
    "1. Es el modelo globalmente significativo? "
   ]
  },
  {
   "cell_type": "code",
   "execution_count": null,
   "metadata": {},
   "outputs": [],
   "source": [
    "#Cálculos:\n"
   ]
  },
  {
   "cell_type": "markdown",
   "metadata": {},
   "source": [
    "- Respuesta:\n"
   ]
  },
  {
   "cell_type": "markdown",
   "metadata": {},
   "source": [
    "### Pregunta 7: (1.5 puntos)\n",
    "\n",
    "Se considera el modelo econométrico $Y_i = \\beta_0 X_i^{\\beta_1} X_2^{\\beta_2} {\\rm exp}({u_i})$ $i=1, \\ldots, n$, donde $Y$ es la producción total de un bien, $X_1$ es el stock de capital, $X_2$ es el número de empleados para producir el bien y $u_i$ es la perturbación aleatoria. \n",
    "1. Transforma el modelo anterior en un modelo lineal múltiple.\n",
    "1. ¿Cómo se interpretarían los coeficientes del modelo? \n",
    "1. Que sentido tendría que $\\beta_1+\\beta_2=1$.\n",
    "1. Estima el modelo para los datos de \"Pregunta2.xls\", interpreta los coeficientes obtenidos y comprueba si $\\beta_1+\\beta_2=1$."
   ]
  },
  {
   "cell_type": "code",
   "execution_count": null,
   "metadata": {},
   "outputs": [],
   "source": [
    "#Cálculos:\n",
    "\n",
    "import pandas as pd\n",
    "\n",
    "datos7 = pd.read_excel (\"Pregunta7.xls\")\n",
    "#print(datos7)"
   ]
  },
  {
   "cell_type": "markdown",
   "metadata": {},
   "source": [
    "- Respuesta:\n"
   ]
  },
  {
   "cell_type": "markdown",
   "metadata": {},
   "source": [
    "### Pregunta 8: (1 punto)\n",
    "\n",
    "En la base de datos $\\texttt{phillips}$ se encuentra información para analizar el efecto del desempleo (unem) en el IPC (inf) desde 1948 a 2003. Estima el modelo lineal simple y estudia la existencia de autocorrelación en éste. En caso afirmativo, aplica alguna estrategia para corregirla y comprueba si ha concluido con éxito."
   ]
  },
  {
   "cell_type": "code",
   "execution_count": null,
   "metadata": {},
   "outputs": [],
   "source": [
    "#Cálculos:\n",
    "\n",
    "from wooldridge import *\n",
    "datos8=dataWoo(\"phillips\")"
   ]
  },
  {
   "cell_type": "markdown",
   "metadata": {},
   "source": [
    "- Respuesta:\n"
   ]
  },
  {
   "cell_type": "markdown",
   "metadata": {},
   "source": [
    "### Pregunta 9: (1 punto)\n",
    "\n",
    "Comprueba la existencia de heteroscedasticidad en el modelo $\\log(price) = \\beta_0+ \\beta_1 \\log(lotsize)+\\log(sqrft)+bdrms$ usando los datos de $\\texttt{hprice1}$ utilizando el test de Breush-Pagan. ¿Qué consecuencias tendría en el análisis del modelo su existencia?"
   ]
  },
  {
   "cell_type": "code",
   "execution_count": null,
   "metadata": {},
   "outputs": [],
   "source": [
    "#Cálculos:\n",
    "\n",
    "from wooldridge import *\n",
    "datos9=dataWoo(\"hprice1\")"
   ]
  },
  {
   "cell_type": "markdown",
   "metadata": {},
   "source": [
    "- Respuesta:\n"
   ]
  },
  {
   "cell_type": "markdown",
   "metadata": {},
   "source": [
    "### Pregunta 10: (1 punto)\n",
    "\n",
    "Se pretende analizar el efecto de los ingresos per cápita (pcinc), de la población (popul) y del número de médicos por cada 100 mil habitantes (physic) en la mortalidad infantil (infmrt), medida como el número de muertes infantiles por cada mil nacimientos vivos.\n",
    "1. Usando la base de datos $\\texttt{infmrt}$ para 1990, estima el modelo econométrico lineal usando los logaritmos de las variables exógenas e interpreta los resultados obtenidos.\n",
    "2. Analiza si existen diferencias significativas entre los resultados obtenidos para 1990 y para los de 1987."
   ]
  },
  {
   "cell_type": "code",
   "execution_count": null,
   "metadata": {},
   "outputs": [],
   "source": [
    "#Cálculos:\n",
    "\n",
    "from wooldridge import *\n",
    "datosPreg10=dataWoo(\"infmrt\")"
   ]
  },
  {
   "cell_type": "markdown",
   "metadata": {},
   "source": [
    "- Respuesta:\n"
   ]
  }
 ],
 "metadata": {
  "kernelspec": {
   "display_name": "Python 3",
   "language": "python",
   "name": "python3"
  },
  "language_info": {
   "codemirror_mode": {
    "name": "ipython",
    "version": 3
   },
   "file_extension": ".py",
   "mimetype": "text/x-python",
   "name": "python",
   "nbconvert_exporter": "python",
   "pygments_lexer": "ipython3",
   "version": "3.8.5"
  }
 },
 "nbformat": 4,
 "nbformat_minor": 4
}
