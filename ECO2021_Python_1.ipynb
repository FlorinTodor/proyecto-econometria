{
 "cells": [
  {
   "cell_type": "markdown",
   "metadata": {},
   "source": [
    "# Práctica 1: Estimación e Inferencia en Modelos de Regresión Lineales"
   ]
  },
  {
   "cell_type": "markdown",
   "metadata": {},
   "source": [
    "## Modelo 1"
   ]
  },
  {
   "cell_type": "markdown",
   "metadata": {},
   "source": [
    "Carguemos una base de datos de Woldridge \"csal1\""
   ]
  },
  {
   "cell_type": "code",
   "execution_count": 1,
   "metadata": {},
   "outputs": [
    {
     "name": "stdout",
     "output_type": "stream",
     "text": [
      "name of dataset: ceosal1\n",
      "no of variables: 12\n",
      "no of observations: 209\n",
      "\n",
      "+----------+-------------------------------+\n",
      "| variable | label                         |\n",
      "+----------+-------------------------------+\n",
      "| salary   | 1990 salary, thousands $      |\n",
      "| pcsalary | % change salary, 89-90        |\n",
      "| sales    | 1990 firm sales, millions $   |\n",
      "| roe      | return on equity, 88-90 avg   |\n",
      "| pcroe    | % change roe, 88-90           |\n",
      "| ros      | return on firm's stock, 88-90 |\n",
      "| indus    | =1 if industrial firm         |\n",
      "| finance  | =1 if financial firm          |\n",
      "| consprod | =1 if consumer product firm   |\n",
      "| utility  | =1 if transport. or utilties  |\n",
      "| lsalary  | natural log of salary         |\n",
      "| lsales   | natural log of sales          |\n",
      "+----------+-------------------------------+\n",
      "\n",
      "I took a random sample of data reported in the May 6, 1991 issue of\n",
      "Businessweek.\n"
     ]
    }
   ],
   "source": [
    "import numpy as np\n",
    "import statsmodels.api as sm\n",
    "import statsmodels.formula.api as smf\n",
    "import matplotlib.pylab as plt\n",
    "from wooldridge import *\n",
    "\n",
    "dataWoo('ceosal1', description=True) #con description=True tenemos una descripción de las variables"
   ]
  },
  {
   "cell_type": "markdown",
   "metadata": {},
   "source": [
    "Llamamos \"datos\" a los datos de esa base de datos, y dentro de tal, notamos por \"y\" al salario de los CEOS y a \"X\" la matriz de datos con columna de unos (constante) y \"roe\" (rendimiento medio del CEO):"
   ]
  },
  {
   "cell_type": "code",
   "execution_count": 2,
   "metadata": {},
   "outputs": [],
   "source": [
    "datos=dataWoo('ceosal1')\n",
    "\n",
    "y=datos['salary']\n",
    "X=sm.add_constant(datos['roe'])"
   ]
  },
  {
   "cell_type": "markdown",
   "metadata": {},
   "source": [
    "### Estadísticos Descriptivos:"
   ]
  },
  {
   "cell_type": "code",
   "execution_count": 3,
   "metadata": {},
   "outputs": [
    {
     "name": "stdout",
     "output_type": "stream",
     "text": [
      "DT:  1369.0582486088983\n",
      "Q1:  736.0 Mediana:  1039.0 Q3: 1407.0\n"
     ]
    }
   ],
   "source": [
    "media=np.mean(y)\n",
    "Q1=np.quantile(y, 0.25)\n",
    "Q3=np.quantile(y, 0.75)\n",
    "Varianza=np.var(y)\n",
    "DesviacionTipica=np.std(y)\n",
    "Mediana=np.median(y)\n",
    "print(\"DT: \", DesviacionTipica)\n",
    "print(\"Q1: \", Q1, \"Mediana: \", Mediana, \"Q3:\", Q3)"
   ]
  },
  {
   "cell_type": "markdown",
   "metadata": {},
   "source": [
    "Ahora ajustamos el modelo $y = X\\beta + u$ y extraemos un resumen del resultado:"
   ]
  },
  {
   "cell_type": "code",
   "execution_count": 4,
   "metadata": {},
   "outputs": [
    {
     "data": {
      "text/html": [
       "<table class=\"simpletable\">\n",
       "<caption>OLS Regression Results</caption>\n",
       "<tr>\n",
       "  <th>Dep. Variable:</th>         <td>salary</td>      <th>  R-squared:         </th> <td>   0.013</td>\n",
       "</tr>\n",
       "<tr>\n",
       "  <th>Model:</th>                   <td>OLS</td>       <th>  Adj. R-squared:    </th> <td>   0.008</td>\n",
       "</tr>\n",
       "<tr>\n",
       "  <th>Method:</th>             <td>Least Squares</td>  <th>  F-statistic:       </th> <td>   2.767</td>\n",
       "</tr>\n",
       "<tr>\n",
       "  <th>Date:</th>             <td>Tue, 03 Nov 2020</td> <th>  Prob (F-statistic):</th>  <td>0.0978</td> \n",
       "</tr>\n",
       "<tr>\n",
       "  <th>Time:</th>                 <td>08:42:03</td>     <th>  Log-Likelihood:    </th> <td> -1804.5</td>\n",
       "</tr>\n",
       "<tr>\n",
       "  <th>No. Observations:</th>      <td>   209</td>      <th>  AIC:               </th> <td>   3613.</td>\n",
       "</tr>\n",
       "<tr>\n",
       "  <th>Df Residuals:</th>          <td>   207</td>      <th>  BIC:               </th> <td>   3620.</td>\n",
       "</tr>\n",
       "<tr>\n",
       "  <th>Df Model:</th>              <td>     1</td>      <th>                     </th>     <td> </td>   \n",
       "</tr>\n",
       "<tr>\n",
       "  <th>Covariance Type:</th>      <td>nonrobust</td>    <th>                     </th>     <td> </td>   \n",
       "</tr>\n",
       "</table>\n",
       "<table class=\"simpletable\">\n",
       "<tr>\n",
       "    <td></td>       <th>coef</th>     <th>std err</th>      <th>t</th>      <th>P>|t|</th>  <th>[0.025</th>    <th>0.975]</th>  \n",
       "</tr>\n",
       "<tr>\n",
       "  <th>const</th> <td>  963.1913</td> <td>  213.240</td> <td>    4.517</td> <td> 0.000</td> <td>  542.790</td> <td> 1383.592</td>\n",
       "</tr>\n",
       "<tr>\n",
       "  <th>roe</th>   <td>   18.5012</td> <td>   11.123</td> <td>    1.663</td> <td> 0.098</td> <td>   -3.428</td> <td>   40.431</td>\n",
       "</tr>\n",
       "</table>\n",
       "<table class=\"simpletable\">\n",
       "<tr>\n",
       "  <th>Omnibus:</th>       <td>311.096</td> <th>  Durbin-Watson:     </th> <td>   2.105</td> \n",
       "</tr>\n",
       "<tr>\n",
       "  <th>Prob(Omnibus):</th> <td> 0.000</td>  <th>  Jarque-Bera (JB):  </th> <td>31120.902</td>\n",
       "</tr>\n",
       "<tr>\n",
       "  <th>Skew:</th>          <td> 6.915</td>  <th>  Prob(JB):          </th> <td>    0.00</td> \n",
       "</tr>\n",
       "<tr>\n",
       "  <th>Kurtosis:</th>      <td>61.158</td>  <th>  Cond. No.          </th> <td>    43.3</td> \n",
       "</tr>\n",
       "</table><br/><br/>Warnings:<br/>[1] Standard Errors assume that the covariance matrix of the errors is correctly specified."
      ],
      "text/plain": [
       "<class 'statsmodels.iolib.summary.Summary'>\n",
       "\"\"\"\n",
       "                            OLS Regression Results                            \n",
       "==============================================================================\n",
       "Dep. Variable:                 salary   R-squared:                       0.013\n",
       "Model:                            OLS   Adj. R-squared:                  0.008\n",
       "Method:                 Least Squares   F-statistic:                     2.767\n",
       "Date:                Tue, 03 Nov 2020   Prob (F-statistic):             0.0978\n",
       "Time:                        08:42:03   Log-Likelihood:                -1804.5\n",
       "No. Observations:                 209   AIC:                             3613.\n",
       "Df Residuals:                     207   BIC:                             3620.\n",
       "Df Model:                           1                                         \n",
       "Covariance Type:            nonrobust                                         \n",
       "==============================================================================\n",
       "                 coef    std err          t      P>|t|      [0.025      0.975]\n",
       "------------------------------------------------------------------------------\n",
       "const        963.1913    213.240      4.517      0.000     542.790    1383.592\n",
       "roe           18.5012     11.123      1.663      0.098      -3.428      40.431\n",
       "==============================================================================\n",
       "Omnibus:                      311.096   Durbin-Watson:                   2.105\n",
       "Prob(Omnibus):                  0.000   Jarque-Bera (JB):            31120.902\n",
       "Skew:                           6.915   Prob(JB):                         0.00\n",
       "Kurtosis:                      61.158   Cond. No.                         43.3\n",
       "==============================================================================\n",
       "\n",
       "Warnings:\n",
       "[1] Standard Errors assume that the covariance matrix of the errors is correctly specified.\n",
       "\"\"\""
      ]
     },
     "execution_count": 4,
     "metadata": {},
     "output_type": "execute_result"
    }
   ],
   "source": [
    "mco1 = sm.OLS(y, X).fit()\n",
    "mco1.summary()"
   ]
  },
  {
   "cell_type": "markdown",
   "metadata": {},
   "source": [
    "Existen otras formas de obtener las estimaciones del modelo:"
   ]
  },
  {
   "cell_type": "code",
   "execution_count": 5,
   "metadata": {},
   "outputs": [
    {
     "data": {
      "text/html": [
       "<table class=\"simpletable\">\n",
       "<caption>OLS Regression Results</caption>\n",
       "<tr>\n",
       "  <th>Dep. Variable:</th>         <td>salary</td>      <th>  R-squared:         </th> <td>   0.013</td>\n",
       "</tr>\n",
       "<tr>\n",
       "  <th>Model:</th>                   <td>OLS</td>       <th>  Adj. R-squared:    </th> <td>   0.008</td>\n",
       "</tr>\n",
       "<tr>\n",
       "  <th>Method:</th>             <td>Least Squares</td>  <th>  F-statistic:       </th> <td>   2.767</td>\n",
       "</tr>\n",
       "<tr>\n",
       "  <th>Date:</th>             <td>Tue, 03 Nov 2020</td> <th>  Prob (F-statistic):</th>  <td>0.0978</td> \n",
       "</tr>\n",
       "<tr>\n",
       "  <th>Time:</th>                 <td>08:42:03</td>     <th>  Log-Likelihood:    </th> <td> -1804.5</td>\n",
       "</tr>\n",
       "<tr>\n",
       "  <th>No. Observations:</th>      <td>   209</td>      <th>  AIC:               </th> <td>   3613.</td>\n",
       "</tr>\n",
       "<tr>\n",
       "  <th>Df Residuals:</th>          <td>   207</td>      <th>  BIC:               </th> <td>   3620.</td>\n",
       "</tr>\n",
       "<tr>\n",
       "  <th>Df Model:</th>              <td>     1</td>      <th>                     </th>     <td> </td>   \n",
       "</tr>\n",
       "<tr>\n",
       "  <th>Covariance Type:</th>      <td>nonrobust</td>    <th>                     </th>     <td> </td>   \n",
       "</tr>\n",
       "</table>\n",
       "<table class=\"simpletable\">\n",
       "<tr>\n",
       "      <td></td>         <th>coef</th>     <th>std err</th>      <th>t</th>      <th>P>|t|</th>  <th>[0.025</th>    <th>0.975]</th>  \n",
       "</tr>\n",
       "<tr>\n",
       "  <th>Intercept</th> <td>  963.1913</td> <td>  213.240</td> <td>    4.517</td> <td> 0.000</td> <td>  542.790</td> <td> 1383.592</td>\n",
       "</tr>\n",
       "<tr>\n",
       "  <th>roe</th>       <td>   18.5012</td> <td>   11.123</td> <td>    1.663</td> <td> 0.098</td> <td>   -3.428</td> <td>   40.431</td>\n",
       "</tr>\n",
       "</table>\n",
       "<table class=\"simpletable\">\n",
       "<tr>\n",
       "  <th>Omnibus:</th>       <td>311.096</td> <th>  Durbin-Watson:     </th> <td>   2.105</td> \n",
       "</tr>\n",
       "<tr>\n",
       "  <th>Prob(Omnibus):</th> <td> 0.000</td>  <th>  Jarque-Bera (JB):  </th> <td>31120.902</td>\n",
       "</tr>\n",
       "<tr>\n",
       "  <th>Skew:</th>          <td> 6.915</td>  <th>  Prob(JB):          </th> <td>    0.00</td> \n",
       "</tr>\n",
       "<tr>\n",
       "  <th>Kurtosis:</th>      <td>61.158</td>  <th>  Cond. No.          </th> <td>    43.3</td> \n",
       "</tr>\n",
       "</table><br/><br/>Warnings:<br/>[1] Standard Errors assume that the covariance matrix of the errors is correctly specified."
      ],
      "text/plain": [
       "<class 'statsmodels.iolib.summary.Summary'>\n",
       "\"\"\"\n",
       "                            OLS Regression Results                            \n",
       "==============================================================================\n",
       "Dep. Variable:                 salary   R-squared:                       0.013\n",
       "Model:                            OLS   Adj. R-squared:                  0.008\n",
       "Method:                 Least Squares   F-statistic:                     2.767\n",
       "Date:                Tue, 03 Nov 2020   Prob (F-statistic):             0.0978\n",
       "Time:                        08:42:03   Log-Likelihood:                -1804.5\n",
       "No. Observations:                 209   AIC:                             3613.\n",
       "Df Residuals:                     207   BIC:                             3620.\n",
       "Df Model:                           1                                         \n",
       "Covariance Type:            nonrobust                                         \n",
       "==============================================================================\n",
       "                 coef    std err          t      P>|t|      [0.025      0.975]\n",
       "------------------------------------------------------------------------------\n",
       "Intercept    963.1913    213.240      4.517      0.000     542.790    1383.592\n",
       "roe           18.5012     11.123      1.663      0.098      -3.428      40.431\n",
       "==============================================================================\n",
       "Omnibus:                      311.096   Durbin-Watson:                   2.105\n",
       "Prob(Omnibus):                  0.000   Jarque-Bera (JB):            31120.902\n",
       "Skew:                           6.915   Prob(JB):                         0.00\n",
       "Kurtosis:                      61.158   Cond. No.                         43.3\n",
       "==============================================================================\n",
       "\n",
       "Warnings:\n",
       "[1] Standard Errors assume that the covariance matrix of the errors is correctly specified.\n",
       "\"\"\""
      ]
     },
     "execution_count": 5,
     "metadata": {},
     "output_type": "execute_result"
    }
   ],
   "source": [
    "mco1=smf.ols('salary ~ roe', data=datos).fit()\n",
    "mco1.summary()"
   ]
  },
  {
   "cell_type": "markdown",
   "metadata": {},
   "source": [
    "Como el modelo solo tiene dos variables (\"salary\" y \"roe\") podemos dibujar los datos y la recta de regresión ajustada:"
   ]
  },
  {
   "cell_type": "code",
   "execution_count": 6,
   "metadata": {},
   "outputs": [
    {
     "data": {
      "image/png": "[encoded data removed]",
      "text/plain": [
       "<Figure size 432x288 with 1 Axes>"
      ]
     },
     "metadata": {
      "needs_background": "light"
     },
     "output_type": "display_data"
    }
   ],
   "source": [
    "beta=mco1.params\n",
    "plt.plot(datos['roe'], y, 'o')\n",
    "xmin=np.min(datos['roe'])\n",
    "xmax=np.max(datos['roe'])\n",
    "plt.plot([xmin,xmax], [beta[0]+beta[1]*xmin,beta[0]+beta[1]*xmax])\n",
    "plt.show()"
   ]
  },
  {
   "cell_type": "markdown",
   "metadata": {},
   "source": [
    "El modelo obtenido permite realizar algunas gráficas más que nos permitirán validar el modelo:"
   ]
  },
  {
   "cell_type": "code",
   "execution_count": 7,
   "metadata": {},
   "outputs": [
    {
     "data": {
      "image/png": "[encoded data removed]",
      "text/plain": [
       "<Figure size 432x288 with 4 Axes>"
      ]
     },
     "execution_count": 7,
     "metadata": {},
     "output_type": "execute_result"
    },
    {
     "data": {
      "image/png": "[encoded data removed]",
      "text/plain": [
       "<Figure size 432x288 with 4 Axes>"
      ]
     },
     "metadata": {
      "needs_background": "light"
     },
     "output_type": "display_data"
    }
   ],
   "source": [
    "sm.graphics.plot_regress_exog(mco1, 'roe')"
   ]
  },
  {
   "cell_type": "markdown",
   "metadata": {},
   "source": [
    "Del modelo se pueden extraer otras medidas como:\n",
    "\n",
    "* Valores predichos $\\hat y$\n",
    "* Residuos\n",
    "\n"
   ]
  },
  {
   "cell_type": "code",
   "execution_count": 21,
   "metadata": {},
   "outputs": [
    {
     "name": "stdout",
     "output_type": "stream",
     "text": [
      "1281.1196172248804 1281.1196172248804\n",
      "0.01318862408103394\n",
      "1883331.6442767757 5166419.039866626 386566562.9697027 391732982.00956935\n"
     ]
    }
   ],
   "source": [
    "yhat=mco1.fittedvalues\n",
    "e=mco1.resid\n",
    "\n",
    "print(np.mean(y), np.mean(yhat))\n",
    "R2=mco1.rsquared\n",
    "print(R2)\n",
    "\n",
    "SCT=mco1.mse_total\n",
    "SCE=mco1.mse_model\n",
    "SCR=mco1.ssr\n",
    "mco1.ssr\n",
    "print(SCT, SCE, SCR, SCE+SCR)\n"
   ]
  },
  {
   "cell_type": "markdown",
   "metadata": {},
   "source": [
    "* ANOVA"
   ]
  },
  {
   "cell_type": "code",
   "execution_count": 9,
   "metadata": {},
   "outputs": [
    {
     "name": "stdout",
     "output_type": "stream",
     "text": [
      "             df        sum_sq       mean_sq         F    PR(>F)\n",
      "roe         1.0  5.166419e+06  5.166419e+06  2.766532  0.097768\n",
      "Residual  207.0  3.865666e+08  1.867471e+06       NaN       NaN\n"
     ]
    }
   ],
   "source": [
    "table = sm.stats.anova_lm(mco1, typ=1)\n",
    "print(table)"
   ]
  },
  {
   "cell_type": "markdown",
   "metadata": {},
   "source": [
    "* Suma de Cuadrados Totales (SCT)"
   ]
  },
  {
   "cell_type": "code",
   "execution_count": 22,
   "metadata": {},
   "outputs": [
    {
     "data": {
      "text/plain": [
       "391732982.00956935"
      ]
     },
     "execution_count": 22,
     "metadata": {},
     "output_type": "execute_result"
    }
   ],
   "source": [
    "mco1.centered_tss\n",
    "sum((y-np.mean(y))**2)"
   ]
  },
  {
   "cell_type": "markdown",
   "metadata": {},
   "source": [
    "* Suma de Cuadrados Explicada (SCE): $\\sum_{i=1}^n (\\hat{y}_i-\\bar y)^2$"
   ]
  },
  {
   "cell_type": "code",
   "execution_count": 24,
   "metadata": {},
   "outputs": [
    {
     "name": "stdout",
     "output_type": "stream",
     "text": [
      "5166419.039866626 5166419.039866708\n"
     ]
    }
   ],
   "source": [
    "mco1.ess\n",
    "sce=sum((mco1.fittedvalues-np.mean(y))**2)\n",
    "\n",
    "print(mco1.ess, sce)"
   ]
  },
  {
   "cell_type": "markdown",
   "metadata": {},
   "source": [
    "* Suma de Cuadrados de los residuos (SCR): $\\sum_{i=1}^n e_i^2 = \\sum_{i=1}^n (y_i-\\hat y_i)^2$"
   ]
  },
  {
   "cell_type": "code",
   "execution_count": 26,
   "metadata": {},
   "outputs": [
    {
     "name": "stdout",
     "output_type": "stream",
     "text": [
      "386566562.9697027 386566562.9697028\n"
     ]
    }
   ],
   "source": [
    "mco1.ssr\n",
    "sum(e**2)\n",
    "scr=sum((y - mco1.fittedvalues)**2)\n",
    "print(mco1.ssr, scr)"
   ]
  },
  {
   "cell_type": "markdown",
   "metadata": {},
   "source": [
    "* $R^2$ y $R^2$-ajustado"
   ]
  },
  {
   "cell_type": "code",
   "execution_count": 28,
   "metadata": {},
   "outputs": [
    {
     "name": "stdout",
     "output_type": "stream",
     "text": [
      "0.01318862408103394 0.008421419366449578\n"
     ]
    }
   ],
   "source": [
    "R2=mco1.rsquared\n",
    "R2adj=mco1.rsquared_adj\n",
    "print(R2, R2adj)"
   ]
  },
  {
   "cell_type": "markdown",
   "metadata": {},
   "source": [
    "* Valor $F_{exp}$ y de $F_{teo}$. Para rechazar: $F_{exp} > F_{teo}(\\alpha) \\equiv F_{n-k, k-1, 1-\\alpha}$"
   ]
  },
  {
   "cell_type": "code",
   "execution_count": 31,
   "metadata": {},
   "outputs": [
    {
     "name": "stdout",
     "output_type": "stream",
     "text": [
      "2.7665319344658634\n",
      "0.05 2.7665319344658634 3.8867743652252242\n",
      "0.1 2.7665319344658634 2.7299237376681003\n"
     ]
    }
   ],
   "source": [
    "Fexp=mco1.fvalue\n",
    "print(Fexp)\n",
    "from scipy import stats\n",
    "alpha=0.05\n",
    "Fteo= stats.f.ppf(1-alpha, mco1.df_model, mco1.df_resid)\n",
    "print(alpha, Fexp, Fteo)\n",
    "alpha=0.10\n",
    "Fteo= stats.f.ppf(1-alpha, mco1.df_model, mco1.df_resid)\n",
    "print(alpha, Fexp, Fteo)"
   ]
  },
  {
   "cell_type": "markdown",
   "metadata": {},
   "source": [
    "* Valores $t_{exp}$ y $t_{teo}$: $t_{exp} > t_{teo} \\equiv t_{n-1}(1-\\frac{\\alpha}{2})$"
   ]
  },
  {
   "cell_type": "code",
   "execution_count": 32,
   "metadata": {},
   "outputs": [
    {
     "name": "stdout",
     "output_type": "stream",
     "text": [
      "texp:  Intercept    4.516930\n",
      "roe          1.663289\n",
      "dtype: float64\n"
     ]
    }
   ],
   "source": [
    "texp=mco1.tvalues\n",
    "print(\"texp: \", texp)\n"
   ]
  },
  {
   "cell_type": "code",
   "execution_count": 33,
   "metadata": {},
   "outputs": [
    {
     "name": "stdout",
     "output_type": "stream",
     "text": [
      "0.05\n",
      "1.9714903918653968\n"
     ]
    }
   ],
   "source": [
    "alpha=0.05\n",
    "tteo= stats.t.ppf(1-(alpha/2),mco1.df_resid)\n",
    "print(alpha)\n",
    "print(tteo)"
   ]
  },
  {
   "cell_type": "code",
   "execution_count": 34,
   "metadata": {},
   "outputs": [
    {
     "name": "stdout",
     "output_type": "stream",
     "text": [
      "0.1\n",
      "1.6522480859926563\n"
     ]
    }
   ],
   "source": [
    "alpha=0.10\n",
    "tteo= stats.t.ppf(1-(alpha/2),mco1.df_resid)\n",
    "print(alpha)\n",
    "print(tteo)"
   ]
  },
  {
   "cell_type": "markdown",
   "metadata": {},
   "source": [
    "* Intervalos de confianza de Estimadores"
   ]
  },
  {
   "cell_type": "code",
   "execution_count": 36,
   "metadata": {},
   "outputs": [
    {
     "data": {
      "text/html": [
       "<div>\n",
       "<style scoped>\n",
       "    .dataframe tbody tr th:only-of-type {\n",
       "        vertical-align: middle;\n",
       "    }\n",
       "\n",
       "    .dataframe tbody tr th {\n",
       "        vertical-align: top;\n",
       "    }\n",
       "\n",
       "    .dataframe thead th {\n",
       "        text-align: right;\n",
       "    }\n",
       "</style>\n",
       "<table border=\"1\" class=\"dataframe\">\n",
       "  <thead>\n",
       "    <tr style=\"text-align: right;\">\n",
       "      <th></th>\n",
       "      <th>0</th>\n",
       "      <th>1</th>\n",
       "    </tr>\n",
       "  </thead>\n",
       "  <tbody>\n",
       "    <tr>\n",
       "      <th>Intercept</th>\n",
       "      <td>610.865530</td>\n",
       "      <td>1315.517143</td>\n",
       "    </tr>\n",
       "    <tr>\n",
       "      <th>roe</th>\n",
       "      <td>0.122816</td>\n",
       "      <td>36.879556</td>\n",
       "    </tr>\n",
       "  </tbody>\n",
       "</table>\n",
       "</div>"
      ],
      "text/plain": [
       "                    0            1\n",
       "Intercept  610.865530  1315.517143\n",
       "roe          0.122816    36.879556"
      ]
     },
     "execution_count": 36,
     "metadata": {},
     "output_type": "execute_result"
    }
   ],
   "source": [
    "mco1.conf_int(alpha=0.1)"
   ]
  },
  {
   "cell_type": "markdown",
   "metadata": {},
   "source": [
    "* Estimación de la varianza de la pertrubación: $\\hat \\sigma^2 = \\frac{SCR}{n-k}$"
   ]
  },
  {
   "cell_type": "code",
   "execution_count": 38,
   "metadata": {},
   "outputs": [
    {
     "data": {
      "text/plain": [
       "array([963.19133647,  18.50118635])"
      ]
     },
     "execution_count": 38,
     "metadata": {},
     "output_type": "execute_result"
    }
   ],
   "source": [
    "beta=np.array(mco1.params)\n",
    "beta"
   ]
  },
  {
   "cell_type": "code",
   "execution_count": 41,
   "metadata": {},
   "outputs": [
    {
     "data": {
      "text/plain": [
       "1867471.3186942164"
      ]
     },
     "execution_count": 41,
     "metadata": {},
     "output_type": "execute_result"
    }
   ],
   "source": [
    "sum(e**2)/mco1.df_resid"
   ]
  },
  {
   "cell_type": "markdown",
   "metadata": {},
   "source": [
    "* Predicciones:"
   ]
  },
  {
   "cell_type": "code",
   "execution_count": 48,
   "metadata": {},
   "outputs": [],
   "source": [
    "from statsmodels.sandbox.regression.predstd import wls_prediction_std\n",
    "epred, lb, ub = wls_prediction_std(mco1, weights=1)"
   ]
  },
  {
   "cell_type": "code",
   "execution_count": 49,
   "metadata": {},
   "outputs": [
    {
     "data": {
      "text/plain": [
       "1055.6972681986326"
      ]
     },
     "execution_count": 49,
     "metadata": {},
     "output_type": "execute_result"
    }
   ],
   "source": [
    "x0=5\n",
    "beta[0]+beta[1]*x0"
   ]
  },
  {
   "cell_type": "code",
   "execution_count": 50,
   "metadata": {},
   "outputs": [
    {
     "data": {
      "text/plain": [
       "0    1055.697268\n",
       "dtype: float64"
      ]
     },
     "execution_count": 50,
     "metadata": {},
     "output_type": "execute_result"
    }
   ],
   "source": [
    "mco1.predict(exog=dict(roe=x0))"
   ]
  },
  {
   "cell_type": "markdown",
   "metadata": {},
   "source": [
    "## Cuestiones"
   ]
  },
  {
   "cell_type": "markdown",
   "metadata": {},
   "source": [
    "1. Analizar el salario en función de los años de educación utilizando la base de datos **wage1**. Interpretar los coeficientes obtenidos. Dibuja ajustes y residuos.\n",
    "$$\n",
    "Salario = f(AÑOS EDUCACION)\n",
    "$$\n",
    "$$\n",
    "y = f(X) \\Rightarrow y = \\beta_1 + \\beta_2 x\n",
    "$$"
   ]
  },
  {
   "cell_type": "code",
   "execution_count": 65,
   "metadata": {},
   "outputs": [
    {
     "data": {
      "text/plain": [
       "-2.2947423429134415e-15"
      ]
     },
     "execution_count": 65,
     "metadata": {},
     "output_type": "execute_result"
    }
   ],
   "source": [
    "#dataWoo('wage1', description=True)\n",
    "datos=dataWoo('wage1')\n",
    "\n",
    "y=datos['wage']\n",
    "X=sm.add_constant(datos['educ'])\n",
    "\n",
    "mco2 = sm.OLS(y, X).fit()\n",
    "mco2.summary()\n",
    "\n",
    "\n",
    "\n",
    "#beta=mco2.params\n",
    "#plt.plot(datos['educ'], y, 'o')\n",
    "#xmin=np.min(datos['educ'])\n",
    "#xmax=np.max(datos['educ'])\n",
    "#plt.plot([xmin,xmax], [beta[0]+beta[1]*xmin,beta[0]+beta[1]*xmax])\n",
    "#plt.show()\n",
    "\n",
    "\n",
    "#e=mco2.resid\n",
    "\n",
    "#plt.plot(e, 'o')\n",
    "\n",
    "\n",
    "#sm.stats.anova_lm(mco2, typ=1)\n",
    "\n",
    "e=mco2.resid\n",
    "np.mean(e)"
   ]
  },
  {
   "cell_type": "markdown",
   "metadata": {},
   "source": [
    "$\\widehat{salario} = -0.9049 + 0.5414 educación$"
   ]
  },
  {
   "cell_type": "markdown",
   "metadata": {},
   "source": [
    "3. Ajustar el modelo lineal del porcentaje de votos obtenido por el candidato A en base al porcentaje de gastos de campa\\~na para tal candidato con la base de datos **vote1**. Comprobar que la media de los residuos es 0 y cómo se relaciona la media de $y$ con respecto a la media de $\\hat{y}$.\n",
    "4. Ajustar el modelo no lineal $\\log(wage) = \\beta _0 + \\beta_1 {\\rm educ} + u$ con la base de datos {\\bf wage1} e interpretar los resultados obtenidos.\n",
    "5. Usar la base de datos {\\bf 401K} para estudiar la relación entre el porcentage de trabajadores activos que est\\'an inscritos en el plan de pensiones (prate) y la tase de contribución al plan (mrate)- cantidad promedio con que la empresa contribuye al plan de cada trabajador  por cada dolar que aporta el trabajador. Seg\\'un este modelo, ¿qué prate se predice para mrate=3.5? ? Cu\\'anta variación de prate se explica por mrate?\n",
    "6. Usando la base de datos **charity**:\n",
    " * ¿Cuál es el donativo (gift) promedio de esta muestra? ¿Qu\\'e porcentage no dio donativo?\n",
    " * ¿Cuál es el promedio de envíos por año (mailsyear)?\n",
    " * Estimar ${\\rm gift} = \\beta_0 + \\beta_1 {\\rm mailsyear} + u$.\n",
    " * Si cada envío cuesta un florín, espera la beneficiencia obtener una ganancia neta por cada env\\'io?\n",
    " * ¿Cu\\'al es el menor donativo? Con el modelo de regresi'on, se puede predecir que gift=0?\n",
    "7. Realiza el siguiente experimento:\n",
    " * Generar $500$ observaciones uniformes $[0,10]$. Calcular para esta muestra la media y la desviación t\\'ipica: $x$\n",
    " * Generar $500$ errores seg\\'un una normal $N(0,36)$: $e$. ? Es el promedio de la muestra 0? ¿Cu\\'al es su desviación t\\'ipica?\n",
    " * Ahora generar $y_i = 1 + 2x_i + e_i$ para $i=1, \\ldots, 500$.\n",
    " * Estimar el modelo $y = \\beta_0 + \\beta_1 x + u$. Comparar el modelo real con el modelo ajustado.\n",
    " * Obtener $\\hat{u}$ y probar si $\\sum_{i=1}^{500} \\hat{u}_i =0$ y que $\\sum_{i=1}^{500} x_i \\hat{u}_i =0$. ¿Ocurre lo mismo con $u$?\n",
    " * Generar de nuevo el modelo y comparar los resultados obtenidos. ¿Son iguales?"
   ]
  },
  {
   "cell_type": "code",
   "execution_count": null,
   "metadata": {},
   "outputs": [],
   "source": []
  },
  {
   "cell_type": "code",
   "execution_count": null,
   "metadata": {},
   "outputs": [],
   "source": []
  }
 ],
 "metadata": {
  "kernelspec": {
   "display_name": "Python 3",
   "language": "python",
   "name": "python3"
  },
  "language_info": {
   "codemirror_mode": {
    "name": "ipython",
    "version": 3
   },
   "file_extension": ".py",
   "mimetype": "text/x-python",
   "name": "python",
   "nbconvert_exporter": "python",
   "pygments_lexer": "ipython3",
   "version": "3.7.6"
  }
 },
 "nbformat": 4,
 "nbformat_minor": 2
}
