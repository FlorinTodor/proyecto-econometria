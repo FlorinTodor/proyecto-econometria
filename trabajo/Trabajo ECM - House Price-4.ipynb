{
 "cells": [
  {
   "cell_type": "markdown",
   "id": "2f586ab5",
   "metadata": {},
   "source": [
    "# TRABAJO FINAL ECONOMETRÍA - HOUSE PRICE\n",
    "## DOBLE GRADO INGENIERÍA INFORMÁTICA Y ADE\n",
    "## Componentes del grupo:\n",
    "- **Pablo Bolaños Martínez**\n",
    "- **Gabriel Filipov Petkov**\n",
    "- **Pedro Antonio Prieto Fernández**\n",
    "- **Florín Emanuel Todor Gliga**\n",
    "\n",
    "## Descripción:\n",
    "Este estudio se enfoca en examinar el precio de algunas de las casas de un área de EEUU, considerando varios factores clave. Se recopiló información sobre los ingresos promedios del area, la antigüedad de las casas, el número de habitaciones, el número de dormitorios, la población del área y el precio de venta. "
   ]
  },
  {
   "cell_type": "markdown",
   "id": "2c6ea28c",
   "metadata": {},
   "source": [
    "El objetivo principal es hacer una estimación del precio de la vivienda respecto a las diferentes variables que tenemos. Los resultados de este estudio proporcionarán información valiosa para compradores, vendedores y agentes inmobiliarios interesados en el mercado de bienes raíces del área."
   ]
  },
  {
   "cell_type": "markdown",
   "id": "2ee47598",
   "metadata": {},
   "source": [
    "## Desarrollo del estudio:"
   ]
  },
  {
   "cell_type": "markdown",
   "id": "8017643d",
   "metadata": {},
   "source": [
    "### Cargamos nuestra base de datos"
   ]
  },
  {
   "cell_type": "markdown",
   "id": "c4f26f3f",
   "metadata": {},
   "source": [
    "1. Eliminamos la columna de Address (que no nos aporta datos numéricos).\n",
    "2. Redondeamos tanto el Number of Rooms como el Number of Bedrooms (ya que aparecían con decimales y no debe ser así porque las habitaciones tienen que ser números enteros).\n",
    "3. Tomamos logaritmos en algunas de nuestras variables para ver si podemos \"suavizar\" el modelo.  \n",
    "4. Mostramos las 5 primeras líneas para ver cómo se nos han quedado los datos finalmente."
   ]
  },
  {
   "cell_type": "code",
   "execution_count": 34,
   "id": "075afd9c",
   "metadata": {},
   "outputs": [
    {
     "name": "stdout",
     "output_type": "stream",
     "text": [
      "Index(['Address', 'Avg. Area Income', 'House Age', 'Number of Rooms',\n",
      "       'Number of Bedrooms', 'Area Population', 'Price'],\n",
      "      dtype='object')\n"
     ]
    }
   ],
   "source": [
    "import pandas as pd\n",
    "import numpy as np\n",
    "from matplotlib import pyplot as plt\n",
    "\n",
    "df= pd.read_csv ('House_price.csv', sep=';')\n",
    "\n",
    "print(df.columns)\n",
    "\n",
    "df = df.drop(columns=['Address'])\n",
    "\n",
    "df['Number of Rooms'] = np.ceil(df['Number of Rooms'])\n",
    "df['Number of Bedrooms'] = np.ceil(df['Number of Bedrooms'])\n",
    "\n",
    "df['lAvg. Area Income'] = np.log(df['Avg. Area Income'])\n",
    "df['lHouse Age'] = np.log(df['House Age'])\n",
    "df['lArea Population'] = np.log(df['Area Population'])\n",
    "df['lPrice'] = np.log(df['Price'])"
   ]
  },
  {
   "cell_type": "code",
   "execution_count": 35,
   "id": "cc2b7447",
   "metadata": {},
   "outputs": [
    {
     "data": {
      "text/html": [
       "<div>\n",
       "<style scoped>\n",
       "    .dataframe tbody tr th:only-of-type {\n",
       "        vertical-align: middle;\n",
       "    }\n",
       "\n",
       "    .dataframe tbody tr th {\n",
       "        vertical-align: top;\n",
       "    }\n",
       "\n",
       "    .dataframe thead th {\n",
       "        text-align: right;\n",
       "    }\n",
       "</style>\n",
       "<table border=\"1\" class=\"dataframe\">\n",
       "  <thead>\n",
       "    <tr style=\"text-align: right;\">\n",
       "      <th></th>\n",
       "      <th>Avg. Area Income</th>\n",
       "      <th>House Age</th>\n",
       "      <th>Number of Rooms</th>\n",
       "      <th>Number of Bedrooms</th>\n",
       "      <th>Area Population</th>\n",
       "      <th>Price</th>\n",
       "      <th>lAvg. Area Income</th>\n",
       "      <th>lHouse Age</th>\n",
       "      <th>lArea Population</th>\n",
       "      <th>lPrice</th>\n",
       "    </tr>\n",
       "  </thead>\n",
       "  <tbody>\n",
       "    <tr>\n",
       "      <th>0</th>\n",
       "      <td>79545.45857</td>\n",
       "      <td>5.682861</td>\n",
       "      <td>8.0</td>\n",
       "      <td>5.0</td>\n",
       "      <td>23086.80050</td>\n",
       "      <td>1.059034e+06</td>\n",
       "      <td>11.284084</td>\n",
       "      <td>1.737455</td>\n",
       "      <td>10.047016</td>\n",
       "      <td>13.872867</td>\n",
       "    </tr>\n",
       "    <tr>\n",
       "      <th>1</th>\n",
       "      <td>79248.64245</td>\n",
       "      <td>6.002900</td>\n",
       "      <td>7.0</td>\n",
       "      <td>4.0</td>\n",
       "      <td>40173.07217</td>\n",
       "      <td>1.505891e+06</td>\n",
       "      <td>11.280346</td>\n",
       "      <td>1.792243</td>\n",
       "      <td>10.600952</td>\n",
       "      <td>14.224895</td>\n",
       "    </tr>\n",
       "    <tr>\n",
       "      <th>2</th>\n",
       "      <td>61287.06718</td>\n",
       "      <td>5.865890</td>\n",
       "      <td>9.0</td>\n",
       "      <td>6.0</td>\n",
       "      <td>36882.15940</td>\n",
       "      <td>1.058988e+06</td>\n",
       "      <td>11.023324</td>\n",
       "      <td>1.769154</td>\n",
       "      <td>10.515483</td>\n",
       "      <td>13.872824</td>\n",
       "    </tr>\n",
       "    <tr>\n",
       "      <th>3</th>\n",
       "      <td>63345.24005</td>\n",
       "      <td>7.188236</td>\n",
       "      <td>6.0</td>\n",
       "      <td>4.0</td>\n",
       "      <td>34310.24283</td>\n",
       "      <td>1.260617e+06</td>\n",
       "      <td>11.056355</td>\n",
       "      <td>1.972446</td>\n",
       "      <td>10.443199</td>\n",
       "      <td>14.047112</td>\n",
       "    </tr>\n",
       "    <tr>\n",
       "      <th>4</th>\n",
       "      <td>59982.19723</td>\n",
       "      <td>5.040555</td>\n",
       "      <td>8.0</td>\n",
       "      <td>5.0</td>\n",
       "      <td>26354.10947</td>\n",
       "      <td>6.309435e+05</td>\n",
       "      <td>11.001803</td>\n",
       "      <td>1.617516</td>\n",
       "      <td>10.179379</td>\n",
       "      <td>13.354972</td>\n",
       "    </tr>\n",
       "  </tbody>\n",
       "</table>\n",
       "</div>"
      ],
      "text/plain": [
       "   Avg. Area Income  House Age  Number of Rooms  Number of Bedrooms  \\\n",
       "0       79545.45857   5.682861              8.0                 5.0   \n",
       "1       79248.64245   6.002900              7.0                 4.0   \n",
       "2       61287.06718   5.865890              9.0                 6.0   \n",
       "3       63345.24005   7.188236              6.0                 4.0   \n",
       "4       59982.19723   5.040555              8.0                 5.0   \n",
       "\n",
       "   Area Population         Price  lAvg. Area Income  lHouse Age  \\\n",
       "0      23086.80050  1.059034e+06          11.284084    1.737455   \n",
       "1      40173.07217  1.505891e+06          11.280346    1.792243   \n",
       "2      36882.15940  1.058988e+06          11.023324    1.769154   \n",
       "3      34310.24283  1.260617e+06          11.056355    1.972446   \n",
       "4      26354.10947  6.309435e+05          11.001803    1.617516   \n",
       "\n",
       "   lArea Population     lPrice  \n",
       "0         10.047016  13.872867  \n",
       "1         10.600952  14.224895  \n",
       "2         10.515483  13.872824  \n",
       "3         10.443199  14.047112  \n",
       "4         10.179379  13.354972  "
      ]
     },
     "execution_count": 35,
     "metadata": {},
     "output_type": "execute_result"
    }
   ],
   "source": [
    "df.head()"
   ]
  },
  {
   "cell_type": "markdown",
   "id": "d954cc0b",
   "metadata": {},
   "source": [
    "### Explicación de las variables"
   ]
  },
  {
   "cell_type": "markdown",
   "id": "ba0a0b45",
   "metadata": {},
   "source": [
    "#### Variables endógenas (X):\n",
    "- _Average Area Income:_ Ingresos promedios del area donde se ubica la vivienda medida en dólares.\n",
    "- _House Age:_ Antigüedad de la casa en años.\n",
    "- _Number of Rooms:_ Número de habitaciones.\n",
    "- _Number of Bedrooms:_ Número de dormitorios.\n",
    "- _Area Population:_ Población de la zona donde se encuentra la casa medida en $habitantes/km^2$.\n",
    "- _lAverage Area Income:_ logaritmo de Average Area Income.\n",
    "- _lHouse Age:_ logaritmo de House Age.\n",
    "- _lArea Population:_ logaritmo de Area Population.\n",
    "\n",
    "#### Variables exógenas (y):\n",
    "- _Price:_ Precio de la vivienda medido en dólares.\n",
    "- _lPrice:_ logaritmo de Price."
   ]
  },
  {
   "cell_type": "markdown",
   "id": "1ebc8904",
   "metadata": {},
   "source": [
    "### Asignamos las variables a los 2 modelos: sin y con logaritmos"
   ]
  },
  {
   "cell_type": "code",
   "execution_count": 36,
   "id": "f55b1cef",
   "metadata": {
    "scrolled": true
   },
   "outputs": [
    {
     "name": "stdout",
     "output_type": "stream",
     "text": [
      "      Avg. Area Income  House Age  Number of Rooms  Number of Bedrooms  \\\n",
      "0          79545.45857   5.682861              8.0                 5.0   \n",
      "1          79248.64245   6.002900              7.0                 4.0   \n",
      "2          61287.06718   5.865890              9.0                 6.0   \n",
      "3          63345.24005   7.188236              6.0                 4.0   \n",
      "4          59982.19723   5.040555              8.0                 5.0   \n",
      "...                ...        ...              ...                 ...   \n",
      "4543       84556.63627   5.092459              7.0                 3.0   \n",
      "4544       82732.98111   5.332712              7.0                 4.0   \n",
      "4545       65694.05127   6.436741              7.0                 4.0   \n",
      "4546       76061.35071   7.148713              8.0                 7.0   \n",
      "4547       66935.47508   6.376390              9.0                 6.0   \n",
      "\n",
      "      Area Population  \n",
      "0         23086.80050  \n",
      "1         40173.07217  \n",
      "2         36882.15940  \n",
      "3         34310.24283  \n",
      "4         26354.10947  \n",
      "...               ...  \n",
      "4543      31797.31744  \n",
      "4544      41136.52722  \n",
      "4545      43406.71203  \n",
      "4546      40876.96459  \n",
      "4547      17573.61710  \n",
      "\n",
      "[4548 rows x 5 columns]\n",
      "0       1.059034e+06\n",
      "1       1.505891e+06\n",
      "2       1.058988e+06\n",
      "3       1.260617e+06\n",
      "4       6.309435e+05\n",
      "            ...     \n",
      "4543    1.326847e+06\n",
      "4544    1.252664e+06\n",
      "4545    1.359763e+06\n",
      "4546    1.778013e+06\n",
      "4547    1.109059e+06\n",
      "Name: Price, Length: 4548, dtype: float64\n"
     ]
    }
   ],
   "source": [
    "import statsmodels.api as sm\n",
    "\n",
    "y1=df[\"Price\"]\n",
    "X1=df[[\"Avg. Area Income\", \"House Age\", \"Number of Rooms\", \"Number of Bedrooms\", \"Area Population\"]]\n",
    "\n",
    "print(X1)\n",
    "print(y1)"
   ]
  },
  {
   "cell_type": "code",
   "execution_count": 37,
   "id": "e63f54c1",
   "metadata": {
    "scrolled": false
   },
   "outputs": [
    {
     "name": "stdout",
     "output_type": "stream",
     "text": [
      "      lAvg. Area Income  lHouse Age  Number of Rooms  Number of Bedrooms  \\\n",
      "0             11.284084    1.737455              8.0                 5.0   \n",
      "1             11.280346    1.792243              7.0                 4.0   \n",
      "2             11.023324    1.769154              9.0                 6.0   \n",
      "3             11.056355    1.972446              6.0                 4.0   \n",
      "4             11.001803    1.617516              8.0                 5.0   \n",
      "...                 ...         ...              ...                 ...   \n",
      "4543          11.345177    1.627761              7.0                 3.0   \n",
      "4544          11.323374    1.673860              7.0                 4.0   \n",
      "4545          11.092764    1.862022              7.0                 4.0   \n",
      "4546          11.239296    1.966932              8.0                 7.0   \n",
      "4547          11.111484    1.852602              9.0                 6.0   \n",
      "\n",
      "      lArea Population  \n",
      "0            10.047016  \n",
      "1            10.600952  \n",
      "2            10.515483  \n",
      "3            10.443199  \n",
      "4            10.179379  \n",
      "...                ...  \n",
      "4543         10.367137  \n",
      "4544         10.624652  \n",
      "4545         10.678369  \n",
      "4546         10.618322  \n",
      "4547          9.774154  \n",
      "\n",
      "[4548 rows x 5 columns]\n",
      "0       13.872867\n",
      "1       14.224895\n",
      "2       13.872824\n",
      "3       14.047112\n",
      "4       13.354972\n",
      "          ...    \n",
      "4543    14.098316\n",
      "4544    14.040783\n",
      "4545    14.122821\n",
      "4546    14.391007\n",
      "4547    13.919023\n",
      "Name: lPrice, Length: 4548, dtype: float64\n"
     ]
    }
   ],
   "source": [
    "y2=df[\"lPrice\"]\n",
    "X2=df[[\"lAvg. Area Income\", \"lHouse Age\", \"Number of Rooms\", \"Number of Bedrooms\", \"lArea Population\"]]\n",
    "\n",
    "print(X2)\n",
    "print(y2)"
   ]
  },
  {
   "cell_type": "markdown",
   "id": "ffb57b5a",
   "metadata": {},
   "source": [
    "# Mínimos Cuadrados Ordinarios"
   ]
  },
  {
   "cell_type": "code",
   "execution_count": 38,
   "id": "0bc3b78f",
   "metadata": {
    "scrolled": false
   },
   "outputs": [
    {
     "data": {
      "text/html": [
       "<table class=\"simpletable\">\n",
       "<caption>OLS Regression Results</caption>\n",
       "<tr>\n",
       "  <th>Dep. Variable:</th>          <td>Price</td>      <th>  R-squared:         </th> <td>   0.909</td> \n",
       "</tr>\n",
       "<tr>\n",
       "  <th>Model:</th>                   <td>OLS</td>       <th>  Adj. R-squared:    </th> <td>   0.909</td> \n",
       "</tr>\n",
       "<tr>\n",
       "  <th>Method:</th>             <td>Least Squares</td>  <th>  F-statistic:       </th> <td>   9054.</td> \n",
       "</tr>\n",
       "<tr>\n",
       "  <th>Date:</th>             <td>Mon, 18 Dec 2023</td> <th>  Prob (F-statistic):</th>  <td>  0.00</td>  \n",
       "</tr>\n",
       "<tr>\n",
       "  <th>Time:</th>                 <td>23:55:04</td>     <th>  Log-Likelihood:    </th> <td> -59124.</td> \n",
       "</tr>\n",
       "<tr>\n",
       "  <th>No. Observations:</th>      <td>  4548</td>      <th>  AIC:               </th> <td>1.183e+05</td>\n",
       "</tr>\n",
       "<tr>\n",
       "  <th>Df Residuals:</th>          <td>  4542</td>      <th>  BIC:               </th> <td>1.183e+05</td>\n",
       "</tr>\n",
       "<tr>\n",
       "  <th>Df Model:</th>              <td>     5</td>      <th>                     </th>     <td> </td>    \n",
       "</tr>\n",
       "<tr>\n",
       "  <th>Covariance Type:</th>      <td>nonrobust</td>    <th>                     </th>     <td> </td>    \n",
       "</tr>\n",
       "</table>\n",
       "<table class=\"simpletable\">\n",
       "<tr>\n",
       "           <td></td>             <th>coef</th>     <th>std err</th>      <th>t</th>      <th>P>|t|</th>  <th>[0.025</th>    <th>0.975]</th>  \n",
       "</tr>\n",
       "<tr>\n",
       "  <th>const</th>              <td>-2.622e+06</td> <td> 1.91e+04</td> <td> -137.150</td> <td> 0.000</td> <td>-2.66e+06</td> <td>-2.58e+06</td>\n",
       "</tr>\n",
       "<tr>\n",
       "  <th>Avg. Area Income</th>   <td>   21.6000</td> <td>    0.149</td> <td>  145.217</td> <td> 0.000</td> <td>   21.308</td> <td>   21.892</td>\n",
       "</tr>\n",
       "<tr>\n",
       "  <th>House Age</th>          <td> 1.643e+05</td> <td> 1603.793</td> <td>  102.456</td> <td> 0.000</td> <td> 1.61e+05</td> <td> 1.67e+05</td>\n",
       "</tr>\n",
       "<tr>\n",
       "  <th>Number of Rooms</th>    <td>  1.11e+05</td> <td> 1732.366</td> <td>   64.082</td> <td> 0.000</td> <td> 1.08e+05</td> <td> 1.14e+05</td>\n",
       "</tr>\n",
       "<tr>\n",
       "  <th>Number of Bedrooms</th> <td> 1996.0785</td> <td> 1475.660</td> <td>    1.353</td> <td> 0.176</td> <td> -896.932</td> <td> 4889.089</td>\n",
       "</tr>\n",
       "<tr>\n",
       "  <th>Area Population</th>    <td>   15.2029</td> <td>    0.160</td> <td>   94.808</td> <td> 0.000</td> <td>   14.889</td> <td>   15.517</td>\n",
       "</tr>\n",
       "</table>\n",
       "<table class=\"simpletable\">\n",
       "<tr>\n",
       "  <th>Omnibus:</th>       <td> 1.676</td> <th>  Durbin-Watson:     </th> <td>   2.019</td>\n",
       "</tr>\n",
       "<tr>\n",
       "  <th>Prob(Omnibus):</th> <td> 0.433</td> <th>  Jarque-Bera (JB):  </th> <td>   1.651</td>\n",
       "</tr>\n",
       "<tr>\n",
       "  <th>Skew:</th>          <td>-0.008</td> <th>  Prob(JB):          </th> <td>   0.438</td>\n",
       "</tr>\n",
       "<tr>\n",
       "  <th>Kurtosis:</th>      <td> 2.908</td> <th>  Cond. No.          </th> <td>9.44e+05</td>\n",
       "</tr>\n",
       "</table><br/><br/>Notes:<br/>[1] Standard Errors assume that the covariance matrix of the errors is correctly specified.<br/>[2] The condition number is large, 9.44e+05. This might indicate that there are<br/>strong multicollinearity or other numerical problems."
      ],
      "text/latex": [
       "\\begin{center}\n",
       "\\begin{tabular}{lclc}\n",
       "\\toprule\n",
       "\\textbf{Dep. Variable:}     &      Price       & \\textbf{  R-squared:         } &     0.909   \\\\\n",
       "\\textbf{Model:}             &       OLS        & \\textbf{  Adj. R-squared:    } &     0.909   \\\\\n",
       "\\textbf{Method:}            &  Least Squares   & \\textbf{  F-statistic:       } &     9054.   \\\\\n",
       "\\textbf{Date:}              & Mon, 18 Dec 2023 & \\textbf{  Prob (F-statistic):} &     0.00    \\\\\n",
       "\\textbf{Time:}              &     23:55:04     & \\textbf{  Log-Likelihood:    } &   -59124.   \\\\\n",
       "\\textbf{No. Observations:}  &        4548      & \\textbf{  AIC:               } & 1.183e+05   \\\\\n",
       "\\textbf{Df Residuals:}      &        4542      & \\textbf{  BIC:               } & 1.183e+05   \\\\\n",
       "\\textbf{Df Model:}          &           5      & \\textbf{                     } &             \\\\\n",
       "\\textbf{Covariance Type:}   &    nonrobust     & \\textbf{                     } &             \\\\\n",
       "\\bottomrule\n",
       "\\end{tabular}\n",
       "\\begin{tabular}{lcccccc}\n",
       "                            & \\textbf{coef} & \\textbf{std err} & \\textbf{t} & \\textbf{P$> |$t$|$} & \\textbf{[0.025} & \\textbf{0.975]}  \\\\\n",
       "\\midrule\n",
       "\\textbf{const}              &   -2.622e+06  &     1.91e+04     &  -137.150  &         0.000        &    -2.66e+06    &    -2.58e+06     \\\\\n",
       "\\textbf{Avg. Area Income}   &      21.6000  &        0.149     &   145.217  &         0.000        &       21.308    &       21.892     \\\\\n",
       "\\textbf{House Age}          &    1.643e+05  &     1603.793     &   102.456  &         0.000        &     1.61e+05    &     1.67e+05     \\\\\n",
       "\\textbf{Number of Rooms}    &     1.11e+05  &     1732.366     &    64.082  &         0.000        &     1.08e+05    &     1.14e+05     \\\\\n",
       "\\textbf{Number of Bedrooms} &    1996.0785  &     1475.660     &     1.353  &         0.176        &     -896.932    &     4889.089     \\\\\n",
       "\\textbf{Area Population}    &      15.2029  &        0.160     &    94.808  &         0.000        &       14.889    &       15.517     \\\\\n",
       "\\bottomrule\n",
       "\\end{tabular}\n",
       "\\begin{tabular}{lclc}\n",
       "\\textbf{Omnibus:}       &  1.676 & \\textbf{  Durbin-Watson:     } &    2.019  \\\\\n",
       "\\textbf{Prob(Omnibus):} &  0.433 & \\textbf{  Jarque-Bera (JB):  } &    1.651  \\\\\n",
       "\\textbf{Skew:}          & -0.008 & \\textbf{  Prob(JB):          } &    0.438  \\\\\n",
       "\\textbf{Kurtosis:}      &  2.908 & \\textbf{  Cond. No.          } & 9.44e+05  \\\\\n",
       "\\bottomrule\n",
       "\\end{tabular}\n",
       "%\\caption{OLS Regression Results}\n",
       "\\end{center}\n",
       "\n",
       "Notes: \\newline\n",
       " [1] Standard Errors assume that the covariance matrix of the errors is correctly specified. \\newline\n",
       " [2] The condition number is large, 9.44e+05. This might indicate that there are \\newline\n",
       " strong multicollinearity or other numerical problems."
      ],
      "text/plain": [
       "<class 'statsmodels.iolib.summary.Summary'>\n",
       "\"\"\"\n",
       "                            OLS Regression Results                            \n",
       "==============================================================================\n",
       "Dep. Variable:                  Price   R-squared:                       0.909\n",
       "Model:                            OLS   Adj. R-squared:                  0.909\n",
       "Method:                 Least Squares   F-statistic:                     9054.\n",
       "Date:                Mon, 18 Dec 2023   Prob (F-statistic):               0.00\n",
       "Time:                        23:55:04   Log-Likelihood:                -59124.\n",
       "No. Observations:                4548   AIC:                         1.183e+05\n",
       "Df Residuals:                    4542   BIC:                         1.183e+05\n",
       "Df Model:                           5                                         \n",
       "Covariance Type:            nonrobust                                         \n",
       "======================================================================================\n",
       "                         coef    std err          t      P>|t|      [0.025      0.975]\n",
       "--------------------------------------------------------------------------------------\n",
       "const              -2.622e+06   1.91e+04   -137.150      0.000   -2.66e+06   -2.58e+06\n",
       "Avg. Area Income      21.6000      0.149    145.217      0.000      21.308      21.892\n",
       "House Age           1.643e+05   1603.793    102.456      0.000    1.61e+05    1.67e+05\n",
       "Number of Rooms      1.11e+05   1732.366     64.082      0.000    1.08e+05    1.14e+05\n",
       "Number of Bedrooms  1996.0785   1475.660      1.353      0.176    -896.932    4889.089\n",
       "Area Population       15.2029      0.160     94.808      0.000      14.889      15.517\n",
       "==============================================================================\n",
       "Omnibus:                        1.676   Durbin-Watson:                   2.019\n",
       "Prob(Omnibus):                  0.433   Jarque-Bera (JB):                1.651\n",
       "Skew:                          -0.008   Prob(JB):                        0.438\n",
       "Kurtosis:                       2.908   Cond. No.                     9.44e+05\n",
       "==============================================================================\n",
       "\n",
       "Notes:\n",
       "[1] Standard Errors assume that the covariance matrix of the errors is correctly specified.\n",
       "[2] The condition number is large, 9.44e+05. This might indicate that there are\n",
       "strong multicollinearity or other numerical problems.\n",
       "\"\"\""
      ]
     },
     "execution_count": 38,
     "metadata": {},
     "output_type": "execute_result"
    }
   ],
   "source": [
    "results = sm.OLS(y1, sm.add_constant(X1)).fit()\n",
    "\n",
    "results.summary()"
   ]
  },
  {
   "cell_type": "markdown",
   "id": "f06e85ed",
   "metadata": {},
   "source": [
    "A partir de la información que nos proporciona nuestro modelo podemos hacer un análisis:\n",
    "\n",
    ">**R-squared: 0.909**\n",
    "\n",
    "- $R^2$, o coeficiente de determinación, es una medida que indica cuánta variabilidad en la variable dependiente es explicada por el modelo. En este caso, el 90.9% de la variabilidad en el precio se explica por las variables independientes en el modelo.\n",
    "\n",
    ">**Prob (F-statistic), p-valor: 0.00**\n",
    "\n",
    "- Esta es la probabilidad asociada al estadístico F. En este caso, el valor extremadamente bajo (0.00) indica que el modelo es **GLOBALMENTE SIGNIFICATIVO**."
   ]
  },
  {
   "cell_type": "markdown",
   "id": "95c0852f",
   "metadata": {},
   "source": [
    "# Mínimos Cuadrados Ordinarios con Logaritmos"
   ]
  },
  {
   "cell_type": "markdown",
   "id": "dc40b777",
   "metadata": {},
   "source": [
    "Ahora haremos el estudio aplicando el uso de logaritmos. El uso de logaritmos en el modelo de MCO es una estrategia valiosa para mejorar la calidad del ajuste, abordar ciertos problemas estadísticos y hacer que el modelo sea más apropiado para la relación implícita entre las variables."
   ]
  },
  {
   "cell_type": "code",
   "execution_count": 39,
   "id": "620f6f6f",
   "metadata": {},
   "outputs": [
    {
     "data": {
      "text/html": [
       "<table class=\"simpletable\">\n",
       "<caption>OLS Regression Results</caption>\n",
       "<tr>\n",
       "  <th>Dep. Variable:</th>         <td>lPrice</td>      <th>  R-squared:         </th> <td>   0.824</td>\n",
       "</tr>\n",
       "<tr>\n",
       "  <th>Model:</th>                   <td>OLS</td>       <th>  Adj. R-squared:    </th> <td>   0.824</td>\n",
       "</tr>\n",
       "<tr>\n",
       "  <th>Method:</th>             <td>Least Squares</td>  <th>  F-statistic:       </th> <td>   4252.</td>\n",
       "</tr>\n",
       "<tr>\n",
       "  <th>Date:</th>             <td>Mon, 18 Dec 2023</td> <th>  Prob (F-statistic):</th>  <td>  0.00</td> \n",
       "</tr>\n",
       "<tr>\n",
       "  <th>Time:</th>                 <td>23:55:04</td>     <th>  Log-Likelihood:    </th> <td>  2427.0</td>\n",
       "</tr>\n",
       "<tr>\n",
       "  <th>No. Observations:</th>      <td>  4548</td>      <th>  AIC:               </th> <td>  -4842.</td>\n",
       "</tr>\n",
       "<tr>\n",
       "  <th>Df Residuals:</th>          <td>  4542</td>      <th>  BIC:               </th> <td>  -4803.</td>\n",
       "</tr>\n",
       "<tr>\n",
       "  <th>Df Model:</th>              <td>     5</td>      <th>                     </th>     <td> </td>   \n",
       "</tr>\n",
       "<tr>\n",
       "  <th>Covariance Type:</th>      <td>nonrobust</td>    <th>                     </th>     <td> </td>   \n",
       "</tr>\n",
       "</table>\n",
       "<table class=\"simpletable\">\n",
       "<tr>\n",
       "           <td></td>             <th>coef</th>     <th>std err</th>      <th>t</th>      <th>P>|t|</th>  <th>[0.025</th>    <th>0.975]</th>  \n",
       "</tr>\n",
       "<tr>\n",
       "  <th>const</th>              <td>   -7.3095</td> <td>    0.164</td> <td>  -44.499</td> <td> 0.000</td> <td>   -7.632</td> <td>   -6.987</td>\n",
       "</tr>\n",
       "<tr>\n",
       "  <th>lAvg. Area Income</th>  <td>    1.3095</td> <td>    0.013</td> <td>  100.448</td> <td> 0.000</td> <td>    1.284</td> <td>    1.335</td>\n",
       "</tr>\n",
       "<tr>\n",
       "  <th>lHouse Age</th>         <td>    0.8694</td> <td>    0.012</td> <td>   70.974</td> <td> 0.000</td> <td>    0.845</td> <td>    0.893</td>\n",
       "</tr>\n",
       "<tr>\n",
       "  <th>Number of Rooms</th>    <td>    0.1003</td> <td>    0.002</td> <td>   43.685</td> <td> 0.000</td> <td>    0.096</td> <td>    0.105</td>\n",
       "</tr>\n",
       "<tr>\n",
       "  <th>Number of Bedrooms</th> <td>    0.0016</td> <td>    0.002</td> <td>    0.810</td> <td> 0.418</td> <td>   -0.002</td> <td>    0.005</td>\n",
       "</tr>\n",
       "<tr>\n",
       "  <th>lArea Population</th>   <td>    0.4227</td> <td>    0.007</td> <td>   63.562</td> <td> 0.000</td> <td>    0.410</td> <td>    0.436</td>\n",
       "</tr>\n",
       "</table>\n",
       "<table class=\"simpletable\">\n",
       "<tr>\n",
       "  <th>Omnibus:</th>       <td>4526.572</td> <th>  Durbin-Watson:     </th>  <td>   2.007</td>  \n",
       "</tr>\n",
       "<tr>\n",
       "  <th>Prob(Omnibus):</th>  <td> 0.000</td>  <th>  Jarque-Bera (JB):  </th> <td>1275707.383</td>\n",
       "</tr>\n",
       "<tr>\n",
       "  <th>Skew:</th>           <td>-4.233</td>  <th>  Prob(JB):          </th>  <td>    0.00</td>  \n",
       "</tr>\n",
       "<tr>\n",
       "  <th>Kurtosis:</th>       <td>84.611</td>  <th>  Cond. No.          </th>  <td>1.39e+03</td>  \n",
       "</tr>\n",
       "</table><br/><br/>Notes:<br/>[1] Standard Errors assume that the covariance matrix of the errors is correctly specified.<br/>[2] The condition number is large, 1.39e+03. This might indicate that there are<br/>strong multicollinearity or other numerical problems."
      ],
      "text/latex": [
       "\\begin{center}\n",
       "\\begin{tabular}{lclc}\n",
       "\\toprule\n",
       "\\textbf{Dep. Variable:}     &      lPrice      & \\textbf{  R-squared:         } &      0.824   \\\\\n",
       "\\textbf{Model:}             &       OLS        & \\textbf{  Adj. R-squared:    } &      0.824   \\\\\n",
       "\\textbf{Method:}            &  Least Squares   & \\textbf{  F-statistic:       } &      4252.   \\\\\n",
       "\\textbf{Date:}              & Mon, 18 Dec 2023 & \\textbf{  Prob (F-statistic):} &      0.00    \\\\\n",
       "\\textbf{Time:}              &     23:55:04     & \\textbf{  Log-Likelihood:    } &     2427.0   \\\\\n",
       "\\textbf{No. Observations:}  &        4548      & \\textbf{  AIC:               } &     -4842.   \\\\\n",
       "\\textbf{Df Residuals:}      &        4542      & \\textbf{  BIC:               } &     -4803.   \\\\\n",
       "\\textbf{Df Model:}          &           5      & \\textbf{                     } &              \\\\\n",
       "\\textbf{Covariance Type:}   &    nonrobust     & \\textbf{                     } &              \\\\\n",
       "\\bottomrule\n",
       "\\end{tabular}\n",
       "\\begin{tabular}{lcccccc}\n",
       "                            & \\textbf{coef} & \\textbf{std err} & \\textbf{t} & \\textbf{P$> |$t$|$} & \\textbf{[0.025} & \\textbf{0.975]}  \\\\\n",
       "\\midrule\n",
       "\\textbf{const}              &      -7.3095  &        0.164     &   -44.499  &         0.000        &       -7.632    &       -6.987     \\\\\n",
       "\\textbf{lAvg. Area Income}  &       1.3095  &        0.013     &   100.448  &         0.000        &        1.284    &        1.335     \\\\\n",
       "\\textbf{lHouse Age}         &       0.8694  &        0.012     &    70.974  &         0.000        &        0.845    &        0.893     \\\\\n",
       "\\textbf{Number of Rooms}    &       0.1003  &        0.002     &    43.685  &         0.000        &        0.096    &        0.105     \\\\\n",
       "\\textbf{Number of Bedrooms} &       0.0016  &        0.002     &     0.810  &         0.418        &       -0.002    &        0.005     \\\\\n",
       "\\textbf{lArea Population}   &       0.4227  &        0.007     &    63.562  &         0.000        &        0.410    &        0.436     \\\\\n",
       "\\bottomrule\n",
       "\\end{tabular}\n",
       "\\begin{tabular}{lclc}\n",
       "\\textbf{Omnibus:}       & 4526.572 & \\textbf{  Durbin-Watson:     } &      2.007   \\\\\n",
       "\\textbf{Prob(Omnibus):} &   0.000  & \\textbf{  Jarque-Bera (JB):  } & 1275707.383  \\\\\n",
       "\\textbf{Skew:}          &  -4.233  & \\textbf{  Prob(JB):          } &       0.00   \\\\\n",
       "\\textbf{Kurtosis:}      &  84.611  & \\textbf{  Cond. No.          } &   1.39e+03   \\\\\n",
       "\\bottomrule\n",
       "\\end{tabular}\n",
       "%\\caption{OLS Regression Results}\n",
       "\\end{center}\n",
       "\n",
       "Notes: \\newline\n",
       " [1] Standard Errors assume that the covariance matrix of the errors is correctly specified. \\newline\n",
       " [2] The condition number is large, 1.39e+03. This might indicate that there are \\newline\n",
       " strong multicollinearity or other numerical problems."
      ],
      "text/plain": [
       "<class 'statsmodels.iolib.summary.Summary'>\n",
       "\"\"\"\n",
       "                            OLS Regression Results                            \n",
       "==============================================================================\n",
       "Dep. Variable:                 lPrice   R-squared:                       0.824\n",
       "Model:                            OLS   Adj. R-squared:                  0.824\n",
       "Method:                 Least Squares   F-statistic:                     4252.\n",
       "Date:                Mon, 18 Dec 2023   Prob (F-statistic):               0.00\n",
       "Time:                        23:55:04   Log-Likelihood:                 2427.0\n",
       "No. Observations:                4548   AIC:                            -4842.\n",
       "Df Residuals:                    4542   BIC:                            -4803.\n",
       "Df Model:                           5                                         \n",
       "Covariance Type:            nonrobust                                         \n",
       "======================================================================================\n",
       "                         coef    std err          t      P>|t|      [0.025      0.975]\n",
       "--------------------------------------------------------------------------------------\n",
       "const                 -7.3095      0.164    -44.499      0.000      -7.632      -6.987\n",
       "lAvg. Area Income      1.3095      0.013    100.448      0.000       1.284       1.335\n",
       "lHouse Age             0.8694      0.012     70.974      0.000       0.845       0.893\n",
       "Number of Rooms        0.1003      0.002     43.685      0.000       0.096       0.105\n",
       "Number of Bedrooms     0.0016      0.002      0.810      0.418      -0.002       0.005\n",
       "lArea Population       0.4227      0.007     63.562      0.000       0.410       0.436\n",
       "==============================================================================\n",
       "Omnibus:                     4526.572   Durbin-Watson:                   2.007\n",
       "Prob(Omnibus):                  0.000   Jarque-Bera (JB):          1275707.383\n",
       "Skew:                          -4.233   Prob(JB):                         0.00\n",
       "Kurtosis:                      84.611   Cond. No.                     1.39e+03\n",
       "==============================================================================\n",
       "\n",
       "Notes:\n",
       "[1] Standard Errors assume that the covariance matrix of the errors is correctly specified.\n",
       "[2] The condition number is large, 1.39e+03. This might indicate that there are\n",
       "strong multicollinearity or other numerical problems.\n",
       "\"\"\""
      ]
     },
     "execution_count": 39,
     "metadata": {},
     "output_type": "execute_result"
    }
   ],
   "source": [
    "results2 = sm.OLS(y2, sm.add_constant(X2)).fit()\n",
    "\n",
    "results2.summary()"
   ]
  },
  {
   "cell_type": "markdown",
   "id": "89dbb5dd",
   "metadata": {},
   "source": [
    "A partir de la información que nos proporciona nuestro modelo (tomando logaritmos) podemos hacer un análisis:\n",
    "\n",
    ">**R-squared: 0.824**\n",
    "\n",
    "- En este caso, el 82.4% de la variabilidad está explicada. Aunque el valor del coeficiente de correlación es inferior al aplicar logaritmos, sigue habiendo una gran correlación y además mejoramos los datos que tienen que ver con el AIC y el BIC, que veremos más adelante.\n",
    "\n",
    ">**Prob (F-statistic), p-valor: 0.00**\n",
    "\n",
    "- Como tenemos un p-valor de 0.00, y es menor que nuestro valor de alfa = 0,05, nuestro modelo es **GLOBALMENTE SIGNIFICATIVO**\n",
    "\n"
   ]
  },
  {
   "cell_type": "markdown",
   "id": "3cb9d1b7",
   "metadata": {},
   "source": [
    "# ¿Con logaritmos o sin?"
   ]
  },
  {
   "cell_type": "code",
   "execution_count": 40,
   "id": "0dcaf351",
   "metadata": {},
   "outputs": [
    {
     "name": "stdout",
     "output_type": "stream",
     "text": [
      "AIC1:  118260.49787285608 AIC2:  -4841.933766643597\n",
      "BIC1:  118299.0325299853 BIC2:  -4803.399109514374\n"
     ]
    }
   ],
   "source": [
    "print(\"AIC1: \", results.aic, \"AIC2: \", results2.aic)\n",
    "print(\"BIC1: \", results.bic, \"BIC2: \", results2.bic)"
   ]
  },
  {
   "cell_type": "markdown",
   "id": "4bd2d6e8",
   "metadata": {},
   "source": [
    "Para saber cual de los dos modelos es mejor, comparamos los criterios de información AIC y BIC de cada uno de ellos, nos quedamos con aquel que tenga unos valores más pequeños. En este caso, nos quedamos con el segundo, en el que hemos aplicado logaritmos.\n",
    "\n",
    "\n"
   ]
  },
  {
   "cell_type": "markdown",
   "id": "71969e29",
   "metadata": {},
   "source": [
    "\n",
    "<div class=\"alert alert-block alert-info\">\n",
    "<b>A partir de aquí nuestro modelo será el que tiene logaritmos</b>  \n",
    "</div>"
   ]
  },
  {
   "cell_type": "markdown",
   "id": "37f49d81",
   "metadata": {},
   "source": [
    "### Eliminamos las columnas del modelo antiguo y lo actualizamos"
   ]
  },
  {
   "cell_type": "code",
   "execution_count": 41,
   "id": "5b8446a4",
   "metadata": {},
   "outputs": [],
   "source": [
    "df = df.drop(columns=['Avg. Area Income'])\n",
    "df = df.drop(columns=['House Age'])\n",
    "df = df.drop(columns=['Area Population'])\n",
    "df = df.drop(columns=['Price'])"
   ]
  },
  {
   "cell_type": "code",
   "execution_count": 42,
   "id": "871851b3",
   "metadata": {
    "scrolled": true
   },
   "outputs": [
    {
     "data": {
      "text/html": [
       "<div>\n",
       "<style scoped>\n",
       "    .dataframe tbody tr th:only-of-type {\n",
       "        vertical-align: middle;\n",
       "    }\n",
       "\n",
       "    .dataframe tbody tr th {\n",
       "        vertical-align: top;\n",
       "    }\n",
       "\n",
       "    .dataframe thead th {\n",
       "        text-align: right;\n",
       "    }\n",
       "</style>\n",
       "<table border=\"1\" class=\"dataframe\">\n",
       "  <thead>\n",
       "    <tr style=\"text-align: right;\">\n",
       "      <th></th>\n",
       "      <th>Number of Rooms</th>\n",
       "      <th>Number of Bedrooms</th>\n",
       "      <th>lAvg. Area Income</th>\n",
       "      <th>lHouse Age</th>\n",
       "      <th>lArea Population</th>\n",
       "      <th>lPrice</th>\n",
       "    </tr>\n",
       "  </thead>\n",
       "  <tbody>\n",
       "    <tr>\n",
       "      <th>0</th>\n",
       "      <td>8.0</td>\n",
       "      <td>5.0</td>\n",
       "      <td>11.284084</td>\n",
       "      <td>1.737455</td>\n",
       "      <td>10.047016</td>\n",
       "      <td>13.872867</td>\n",
       "    </tr>\n",
       "    <tr>\n",
       "      <th>1</th>\n",
       "      <td>7.0</td>\n",
       "      <td>4.0</td>\n",
       "      <td>11.280346</td>\n",
       "      <td>1.792243</td>\n",
       "      <td>10.600952</td>\n",
       "      <td>14.224895</td>\n",
       "    </tr>\n",
       "    <tr>\n",
       "      <th>2</th>\n",
       "      <td>9.0</td>\n",
       "      <td>6.0</td>\n",
       "      <td>11.023324</td>\n",
       "      <td>1.769154</td>\n",
       "      <td>10.515483</td>\n",
       "      <td>13.872824</td>\n",
       "    </tr>\n",
       "    <tr>\n",
       "      <th>3</th>\n",
       "      <td>6.0</td>\n",
       "      <td>4.0</td>\n",
       "      <td>11.056355</td>\n",
       "      <td>1.972446</td>\n",
       "      <td>10.443199</td>\n",
       "      <td>14.047112</td>\n",
       "    </tr>\n",
       "    <tr>\n",
       "      <th>4</th>\n",
       "      <td>8.0</td>\n",
       "      <td>5.0</td>\n",
       "      <td>11.001803</td>\n",
       "      <td>1.617516</td>\n",
       "      <td>10.179379</td>\n",
       "      <td>13.354972</td>\n",
       "    </tr>\n",
       "  </tbody>\n",
       "</table>\n",
       "</div>"
      ],
      "text/plain": [
       "   Number of Rooms  Number of Bedrooms  lAvg. Area Income  lHouse Age  \\\n",
       "0              8.0                 5.0          11.284084    1.737455   \n",
       "1              7.0                 4.0          11.280346    1.792243   \n",
       "2              9.0                 6.0          11.023324    1.769154   \n",
       "3              6.0                 4.0          11.056355    1.972446   \n",
       "4              8.0                 5.0          11.001803    1.617516   \n",
       "\n",
       "   lArea Population     lPrice  \n",
       "0         10.047016  13.872867  \n",
       "1         10.600952  14.224895  \n",
       "2         10.515483  13.872824  \n",
       "3         10.443199  14.047112  \n",
       "4         10.179379  13.354972  "
      ]
     },
     "execution_count": 42,
     "metadata": {},
     "output_type": "execute_result"
    }
   ],
   "source": [
    "df.head()"
   ]
  },
  {
   "cell_type": "markdown",
   "id": "95888605",
   "metadata": {},
   "source": [
    "### Analizamos en profundidad el modelo de logaritmos que es el que nos hemos quedado finalmente"
   ]
  },
  {
   "cell_type": "code",
   "execution_count": 43,
   "id": "c9295744",
   "metadata": {},
   "outputs": [
    {
     "data": {
      "text/html": [
       "<table class=\"simpletable\">\n",
       "<caption>OLS Regression Results</caption>\n",
       "<tr>\n",
       "  <th>Dep. Variable:</th>         <td>lPrice</td>      <th>  R-squared:         </th> <td>   0.824</td>\n",
       "</tr>\n",
       "<tr>\n",
       "  <th>Model:</th>                   <td>OLS</td>       <th>  Adj. R-squared:    </th> <td>   0.824</td>\n",
       "</tr>\n",
       "<tr>\n",
       "  <th>Method:</th>             <td>Least Squares</td>  <th>  F-statistic:       </th> <td>   4252.</td>\n",
       "</tr>\n",
       "<tr>\n",
       "  <th>Date:</th>             <td>Mon, 18 Dec 2023</td> <th>  Prob (F-statistic):</th>  <td>  0.00</td> \n",
       "</tr>\n",
       "<tr>\n",
       "  <th>Time:</th>                 <td>23:55:04</td>     <th>  Log-Likelihood:    </th> <td>  2427.0</td>\n",
       "</tr>\n",
       "<tr>\n",
       "  <th>No. Observations:</th>      <td>  4548</td>      <th>  AIC:               </th> <td>  -4842.</td>\n",
       "</tr>\n",
       "<tr>\n",
       "  <th>Df Residuals:</th>          <td>  4542</td>      <th>  BIC:               </th> <td>  -4803.</td>\n",
       "</tr>\n",
       "<tr>\n",
       "  <th>Df Model:</th>              <td>     5</td>      <th>                     </th>     <td> </td>   \n",
       "</tr>\n",
       "<tr>\n",
       "  <th>Covariance Type:</th>      <td>nonrobust</td>    <th>                     </th>     <td> </td>   \n",
       "</tr>\n",
       "</table>\n",
       "<table class=\"simpletable\">\n",
       "<tr>\n",
       "           <td></td>             <th>coef</th>     <th>std err</th>      <th>t</th>      <th>P>|t|</th>  <th>[0.025</th>    <th>0.975]</th>  \n",
       "</tr>\n",
       "<tr>\n",
       "  <th>const</th>              <td>   -7.3095</td> <td>    0.164</td> <td>  -44.499</td> <td> 0.000</td> <td>   -7.632</td> <td>   -6.987</td>\n",
       "</tr>\n",
       "<tr>\n",
       "  <th>lAvg. Area Income</th>  <td>    1.3095</td> <td>    0.013</td> <td>  100.448</td> <td> 0.000</td> <td>    1.284</td> <td>    1.335</td>\n",
       "</tr>\n",
       "<tr>\n",
       "  <th>lHouse Age</th>         <td>    0.8694</td> <td>    0.012</td> <td>   70.974</td> <td> 0.000</td> <td>    0.845</td> <td>    0.893</td>\n",
       "</tr>\n",
       "<tr>\n",
       "  <th>Number of Rooms</th>    <td>    0.1003</td> <td>    0.002</td> <td>   43.685</td> <td> 0.000</td> <td>    0.096</td> <td>    0.105</td>\n",
       "</tr>\n",
       "<tr>\n",
       "  <th>Number of Bedrooms</th> <td>    0.0016</td> <td>    0.002</td> <td>    0.810</td> <td> 0.418</td> <td>   -0.002</td> <td>    0.005</td>\n",
       "</tr>\n",
       "<tr>\n",
       "  <th>lArea Population</th>   <td>    0.4227</td> <td>    0.007</td> <td>   63.562</td> <td> 0.000</td> <td>    0.410</td> <td>    0.436</td>\n",
       "</tr>\n",
       "</table>\n",
       "<table class=\"simpletable\">\n",
       "<tr>\n",
       "  <th>Omnibus:</th>       <td>4526.572</td> <th>  Durbin-Watson:     </th>  <td>   2.007</td>  \n",
       "</tr>\n",
       "<tr>\n",
       "  <th>Prob(Omnibus):</th>  <td> 0.000</td>  <th>  Jarque-Bera (JB):  </th> <td>1275707.383</td>\n",
       "</tr>\n",
       "<tr>\n",
       "  <th>Skew:</th>           <td>-4.233</td>  <th>  Prob(JB):          </th>  <td>    0.00</td>  \n",
       "</tr>\n",
       "<tr>\n",
       "  <th>Kurtosis:</th>       <td>84.611</td>  <th>  Cond. No.          </th>  <td>1.39e+03</td>  \n",
       "</tr>\n",
       "</table><br/><br/>Notes:<br/>[1] Standard Errors assume that the covariance matrix of the errors is correctly specified.<br/>[2] The condition number is large, 1.39e+03. This might indicate that there are<br/>strong multicollinearity or other numerical problems."
      ],
      "text/latex": [
       "\\begin{center}\n",
       "\\begin{tabular}{lclc}\n",
       "\\toprule\n",
       "\\textbf{Dep. Variable:}     &      lPrice      & \\textbf{  R-squared:         } &      0.824   \\\\\n",
       "\\textbf{Model:}             &       OLS        & \\textbf{  Adj. R-squared:    } &      0.824   \\\\\n",
       "\\textbf{Method:}            &  Least Squares   & \\textbf{  F-statistic:       } &      4252.   \\\\\n",
       "\\textbf{Date:}              & Mon, 18 Dec 2023 & \\textbf{  Prob (F-statistic):} &      0.00    \\\\\n",
       "\\textbf{Time:}              &     23:55:04     & \\textbf{  Log-Likelihood:    } &     2427.0   \\\\\n",
       "\\textbf{No. Observations:}  &        4548      & \\textbf{  AIC:               } &     -4842.   \\\\\n",
       "\\textbf{Df Residuals:}      &        4542      & \\textbf{  BIC:               } &     -4803.   \\\\\n",
       "\\textbf{Df Model:}          &           5      & \\textbf{                     } &              \\\\\n",
       "\\textbf{Covariance Type:}   &    nonrobust     & \\textbf{                     } &              \\\\\n",
       "\\bottomrule\n",
       "\\end{tabular}\n",
       "\\begin{tabular}{lcccccc}\n",
       "                            & \\textbf{coef} & \\textbf{std err} & \\textbf{t} & \\textbf{P$> |$t$|$} & \\textbf{[0.025} & \\textbf{0.975]}  \\\\\n",
       "\\midrule\n",
       "\\textbf{const}              &      -7.3095  &        0.164     &   -44.499  &         0.000        &       -7.632    &       -6.987     \\\\\n",
       "\\textbf{lAvg. Area Income}  &       1.3095  &        0.013     &   100.448  &         0.000        &        1.284    &        1.335     \\\\\n",
       "\\textbf{lHouse Age}         &       0.8694  &        0.012     &    70.974  &         0.000        &        0.845    &        0.893     \\\\\n",
       "\\textbf{Number of Rooms}    &       0.1003  &        0.002     &    43.685  &         0.000        &        0.096    &        0.105     \\\\\n",
       "\\textbf{Number of Bedrooms} &       0.0016  &        0.002     &     0.810  &         0.418        &       -0.002    &        0.005     \\\\\n",
       "\\textbf{lArea Population}   &       0.4227  &        0.007     &    63.562  &         0.000        &        0.410    &        0.436     \\\\\n",
       "\\bottomrule\n",
       "\\end{tabular}\n",
       "\\begin{tabular}{lclc}\n",
       "\\textbf{Omnibus:}       & 4526.572 & \\textbf{  Durbin-Watson:     } &      2.007   \\\\\n",
       "\\textbf{Prob(Omnibus):} &   0.000  & \\textbf{  Jarque-Bera (JB):  } & 1275707.383  \\\\\n",
       "\\textbf{Skew:}          &  -4.233  & \\textbf{  Prob(JB):          } &       0.00   \\\\\n",
       "\\textbf{Kurtosis:}      &  84.611  & \\textbf{  Cond. No.          } &   1.39e+03   \\\\\n",
       "\\bottomrule\n",
       "\\end{tabular}\n",
       "%\\caption{OLS Regression Results}\n",
       "\\end{center}\n",
       "\n",
       "Notes: \\newline\n",
       " [1] Standard Errors assume that the covariance matrix of the errors is correctly specified. \\newline\n",
       " [2] The condition number is large, 1.39e+03. This might indicate that there are \\newline\n",
       " strong multicollinearity or other numerical problems."
      ],
      "text/plain": [
       "<class 'statsmodels.iolib.summary.Summary'>\n",
       "\"\"\"\n",
       "                            OLS Regression Results                            \n",
       "==============================================================================\n",
       "Dep. Variable:                 lPrice   R-squared:                       0.824\n",
       "Model:                            OLS   Adj. R-squared:                  0.824\n",
       "Method:                 Least Squares   F-statistic:                     4252.\n",
       "Date:                Mon, 18 Dec 2023   Prob (F-statistic):               0.00\n",
       "Time:                        23:55:04   Log-Likelihood:                 2427.0\n",
       "No. Observations:                4548   AIC:                            -4842.\n",
       "Df Residuals:                    4542   BIC:                            -4803.\n",
       "Df Model:                           5                                         \n",
       "Covariance Type:            nonrobust                                         \n",
       "======================================================================================\n",
       "                         coef    std err          t      P>|t|      [0.025      0.975]\n",
       "--------------------------------------------------------------------------------------\n",
       "const                 -7.3095      0.164    -44.499      0.000      -7.632      -6.987\n",
       "lAvg. Area Income      1.3095      0.013    100.448      0.000       1.284       1.335\n",
       "lHouse Age             0.8694      0.012     70.974      0.000       0.845       0.893\n",
       "Number of Rooms        0.1003      0.002     43.685      0.000       0.096       0.105\n",
       "Number of Bedrooms     0.0016      0.002      0.810      0.418      -0.002       0.005\n",
       "lArea Population       0.4227      0.007     63.562      0.000       0.410       0.436\n",
       "==============================================================================\n",
       "Omnibus:                     4526.572   Durbin-Watson:                   2.007\n",
       "Prob(Omnibus):                  0.000   Jarque-Bera (JB):          1275707.383\n",
       "Skew:                          -4.233   Prob(JB):                         0.00\n",
       "Kurtosis:                      84.611   Cond. No.                     1.39e+03\n",
       "==============================================================================\n",
       "\n",
       "Notes:\n",
       "[1] Standard Errors assume that the covariance matrix of the errors is correctly specified.\n",
       "[2] The condition number is large, 1.39e+03. This might indicate that there are\n",
       "strong multicollinearity or other numerical problems.\n",
       "\"\"\""
      ]
     },
     "execution_count": 43,
     "metadata": {},
     "output_type": "execute_result"
    }
   ],
   "source": [
    "results2.summary()"
   ]
  },
  {
   "cell_type": "markdown",
   "id": "df8805ea",
   "metadata": {},
   "source": [
    ">**P-valores de las variables**\n",
    "\n",
    "- Prácticamente todas tienen un p-valor de 0.00 que al ser mucho más pequeño que nuestro valor de alfa, todas estas variables serían significativas para nuestro modelo (**lAvg. Area Income, lHouse Age, Number of Rooms, lArea Population**).\n",
    "- Sin embargo, la variable **Number of Bedrooms** al tener un p-valor alto (0,418) y es mucho mayor que nuestro valor de alfa, esta variable no es significativa para nuestro modelo.\n",
    "\n",
    "> **Podemos observar que:**\n",
    "\n",
    "- Un aumento del 1 % en la superficie media de la renta, afecta un 130 % al precio de la vivienda.\n",
    "- Un aumento del 1 % en la antigüedad de la vivienda, afecta un 86,9 % de su precio.\n",
    "- Por cada habitación más, se incrementa un 10 % el precio de la vivienda.\n",
    "- Por cada dormitorio más, se incrementa un 0,16 % el precio de la vivienda.\n",
    "- Un aumento del 1 % en la población de la zona, afecta un 42,3 % de su precio.\n",
    "\n",
    "> **Intervalos de confianza**: muestran el rango de valores en el cual es probable que resida el verdadero valor de los coeficientes en el contexto de nuestro modelo. Los coeficientes cuyos intervalos de confianza no incluyen el cero son más probables de ser significativos para el modelo.\n",
    "\n",
    "- En cuanto al de los ingresos promedios del area, la variable parece estable, ya que tiene un intervalo entre 1.284 y 1.335 siendo una variable que afecta mucho al precio de la vivienda.\n",
    "- La antigüedad de la casa se mueve entre 0.845 y 0.893, siendo también valores bastantes parecidos y que demuestra ser una variable importante.\n",
    "- El número de habitaciones está entre 0.096 y 0.105 , siendo una variable menos significativa pero que sigue siendo consistente.\n",
    "- En cuanto al número de dormitorios si podriamos tener un problema ya que el valor medio es 0.0016 y  el intervalo de confianza se mueve entre -0.002 y 0.005, lo que implica que esta variable podría hacer aumentar o disminuir el precio (como en su intervalo incluye el cero, es probable que no sea significativa para el modelo, que es justo lo que hemos demostrado con el p-valor).\n",
    "- Por último, la  densidad poblacional en el área  tiene un intervalo de confianza entre 0.41 o 0.436 que también parecen valores aceptables"
   ]
  },
  {
   "cell_type": "markdown",
   "id": "de59c594",
   "metadata": {},
   "source": [
    "## Estadísticos Descriptivos"
   ]
  },
  {
   "cell_type": "code",
   "execution_count": 44,
   "id": "000251e4",
   "metadata": {},
   "outputs": [
    {
     "data": {
      "image/png": "[encoded data removed]",
      "text/plain": [
       "<Figure size 640x480 with 1 Axes>"
      ]
     },
     "metadata": {},
     "output_type": "display_data"
    },
    {
     "name": "stdout",
     "output_type": "stream",
     "text": [
      "Q1:  13.81328318542297 Mediana:  14.026233831476684 Q3:  14.201191630219697 Desv. Típica: 0.33821869127135884 Media:  13.976583498981562\n"
     ]
    }
   ],
   "source": [
    "media=np.mean(y2)\n",
    "Q1=np.quantile(y2, 0.25)\n",
    "Q3=np.quantile(y2, 0.75)\n",
    "Varianza=np.var(y2)\n",
    "DesviacionTipica=np.std(y2)\n",
    "Mediana=np.median(y2)\n",
    "histograma=plt.hist(y2, bins='auto', rwidth=0.85)\n",
    "plt.xlabel('y2')\n",
    "plt.ylabel('Frecuencia')\n",
    "plt.title(\"Histograma de y2 (lPrice)\")\n",
    "plt.show()\n",
    "print(\"Q1: \", Q1,  \"Mediana: \", Mediana, \"Q3: \", Q3, \"Desv. Típica:\", DesviacionTipica, \"Media: \", np.mean(y2))"
   ]
  },
  {
   "cell_type": "markdown",
   "id": "18ddb357",
   "metadata": {},
   "source": [
    "De este histograma podemos sacar una serie de conclusiones a partir de la frecuencia del precio:\n",
    "- La distribución de los precios de la vivienda es asimétrica, con una cola larga a la izquierda. Esto sugiere que hay una mayor proporción de viviendas de precio elevado que de viviendas de precio bajo.\n",
    "- La mediana de los precios de las viviendas es de aproximadamente 14.03. Esto indica que el 50% de las viviendas tienen precios  inferiores a este valor, y el otro 50% tiene precios superiores.\n",
    "- La media de los precios de las viviendas es alrededor de 13.98. Esta medida es ligeramente inferior a la mediana, sugiriendo una leve inclinación hacia la izquierda en la distribución de los precios.\n",
    "- La desviación típica de los precios de las viviendas es aproximadamente 0.34. Esto significa que la mayoría de los precios se encuentran dentro de un rango de ±1.77 veces la desviación típica de la media. Esta desviación indica la dispersión de los precios alrededor de la media transformada."
   ]
  },
  {
   "cell_type": "markdown",
   "id": "8ffd942c",
   "metadata": {},
   "source": [
    "## Valores predichos  𝑦̂ "
   ]
  },
  {
   "cell_type": "markdown",
   "id": "354d945f",
   "metadata": {},
   "source": [
    "Los valores predichos son las estimaciones que el modelo hace para la variable dependiente (y) dadas las observaciones de las variables independientes. Comparando estos valores con los valores reales de la variable dependiente (y), se evalúa como de bien el modelo representa los datos observados."
   ]
  },
  {
   "cell_type": "code",
   "execution_count": 45,
   "id": "03e910ef",
   "metadata": {},
   "outputs": [
    {
     "name": "stdout",
     "output_type": "stream",
     "text": [
      "0       14.035028\n",
      "1       14.209988\n",
      "2       14.021013\n",
      "3       13.906348\n",
      "4       13.617032\n",
      "          ...    \n",
      "4543    14.051471\n",
      "4544    14.173424\n",
      "4545    14.057731\n",
      "4546    14.420528\n",
      "4547    13.895691\n",
      "Length: 4548, dtype: float64\n"
     ]
    }
   ],
   "source": [
    "yhat=results2.fittedvalues\n",
    "print (yhat)"
   ]
  },
  {
   "cell_type": "markdown",
   "id": "58d19ad1",
   "metadata": {},
   "source": [
    "## Residuos"
   ]
  },
  {
   "cell_type": "markdown",
   "id": "6ea0e2dc",
   "metadata": {},
   "source": [
    "Los residuos son las diferencias entre los valores reales de la variable dependiente (y) y los valores predichos (𝑦̂). Los residuos proporcionan información sobre la magnitud y dirección de los errores de predicción del modelo. Un residuo positivo indica que la predicción fue inferior al valor real, y viceversa."
   ]
  },
  {
   "cell_type": "code",
   "execution_count": 46,
   "id": "6736a666",
   "metadata": {},
   "outputs": [
    {
     "name": "stdout",
     "output_type": "stream",
     "text": [
      "0      -0.162161\n",
      "1       0.014907\n",
      "2      -0.148189\n",
      "3       0.140764\n",
      "4      -0.262060\n",
      "          ...   \n",
      "4543    0.046844\n",
      "4544   -0.132641\n",
      "4545    0.065089\n",
      "4546   -0.029521\n",
      "4547    0.023331\n",
      "Length: 4548, dtype: float64\n"
     ]
    },
    {
     "data": {
      "text/plain": [
       "-2.159085965813686e-14"
      ]
     },
     "execution_count": 46,
     "metadata": {},
     "output_type": "execute_result"
    }
   ],
   "source": [
    "e=results2.resid\n",
    "print(e)\n",
    "\n",
    "np.mean(e)"
   ]
  },
  {
   "cell_type": "markdown",
   "id": "a5b2c77b",
   "metadata": {},
   "source": [
    "Una media de residuos muy cercana a cero, como -2.159085965813686e-14, indica que, en promedio, los residuos son mínimos y prácticamente se cancelan entre sí. Esto quiere decir que el modelo está realizando predicciones bastante precisas en promedio, ya que la suma total de los errores es muy pequeña, indicando que, en conjunto, el modelo no tiende a sobreestimar ni subestimar consistentemente los valores observados."
   ]
  },
  {
   "cell_type": "code",
   "execution_count": 47,
   "id": "e740e335",
   "metadata": {
    "scrolled": true
   },
   "outputs": [
    {
     "data": {
      "image/png": "[encoded data removed]",
      "text/plain": [
       "<Figure size 640x480 with 1 Axes>"
      ]
     },
     "metadata": {},
     "output_type": "display_data"
    }
   ],
   "source": [
    "plt.scatter(yhat, e, s=10)\n",
    "plt.xlabel('Valores Predichos (ŷ)')\n",
    "plt.ylabel('Residuos')\n",
    "plt.title('Gráfico de Residuos')\n",
    "\n",
    "plt.axhline(y=0, color='y', linestyle='-')\n",
    "\n",
    "plt.show()"
   ]
  },
  {
   "cell_type": "markdown",
   "id": "ceb46d0f",
   "metadata": {},
   "source": [
    "Como podemos observar en el Gráfico de Residuos, la mayoría de ellos fluctúan entre una banda cerca de y = 0. Esto quiere decir que, complementando con lo que hemos dicho antes con la media de los residuos, en conjunto, el modelo está realizando predicciones bastante precisas en promedio porque su comportamiento es más o menos homogéneo (los residuos de un lado se compensan con los del otro)."
   ]
  },
  {
   "cell_type": "markdown",
   "id": "9e1ecfe3",
   "metadata": {},
   "source": [
    "## Suma de Cuadrados Totales (SCT)"
   ]
  },
  {
   "cell_type": "code",
   "execution_count": 48,
   "id": "ce7f8386",
   "metadata": {},
   "outputs": [
    {
     "data": {
      "text/plain": [
       "520.2542844539137"
      ]
     },
     "execution_count": 48,
     "metadata": {},
     "output_type": "execute_result"
    }
   ],
   "source": [
    "results2.centered_tss\n",
    "sum((y2-np.mean(y2))**2)"
   ]
  },
  {
   "cell_type": "markdown",
   "id": "54be96f1",
   "metadata": {},
   "source": [
    "Esta es la variabilidad total de la variable dependiente (y2). En este contexto específico, la SCT es la suma de los cuadrados de las diferencias entre cada valor observado y la media de todos los valores observados. En este caso, la SCT es de aproximadamente 520.25."
   ]
  },
  {
   "cell_type": "markdown",
   "id": "43d217be",
   "metadata": {},
   "source": [
    "## Suma de Cuadrados Explicada (SCE)"
   ]
  },
  {
   "cell_type": "code",
   "execution_count": 49,
   "id": "5d71991d",
   "metadata": {},
   "outputs": [
    {
     "data": {
      "text/plain": [
       "428.6664886021558"
      ]
     },
     "execution_count": 49,
     "metadata": {},
     "output_type": "execute_result"
    }
   ],
   "source": [
    "results2.ess\n",
    "sum((results2.fittedvalues-np.mean(y2))**2)"
   ]
  },
  {
   "cell_type": "markdown",
   "id": "3f05c43a",
   "metadata": {},
   "source": [
    "Esta es la variabilidad explicada por el modelo de regresión. El valor de 428.67 indica que el modelo está explicando una cantidad significativa de la variabilidad en los datos. En este contexto, es crucial notar que este valor solo cobra sentido en relación con la SCT y otros aspectos del análisis."
   ]
  },
  {
   "cell_type": "markdown",
   "id": "95160499",
   "metadata": {},
   "source": [
    "## Suma de Cuadrados de los residuos (SCR)"
   ]
  },
  {
   "cell_type": "code",
   "execution_count": 50,
   "id": "de1a14a3",
   "metadata": {},
   "outputs": [
    {
     "data": {
      "text/plain": [
       "91.58779585175881"
      ]
     },
     "execution_count": 50,
     "metadata": {},
     "output_type": "execute_result"
    }
   ],
   "source": [
    "results2.ssr\n",
    "sum(e**2)"
   ]
  },
  {
   "cell_type": "markdown",
   "id": "9d530d6a",
   "metadata": {},
   "source": [
    "Esta es la variabilidad no explicada por el modelo, es decir, la diferencia entre los valores observados y los valores predichos por el modelo. Un valor relativamente pequeño de SCR sugiere que el modelo está ajustando bastante bien los datos, ya que la cantidad de variabilidad no explicada es baja en comparación con la variabilidad total."
   ]
  },
  {
   "cell_type": "markdown",
   "id": "7cd37534",
   "metadata": {},
   "source": [
    "## Estimación de la varianza de la perturbación"
   ]
  },
  {
   "cell_type": "code",
   "execution_count": 51,
   "id": "3e3e00f7",
   "metadata": {},
   "outputs": [
    {
     "data": {
      "text/plain": [
       "0.020142466648726386"
      ]
     },
     "execution_count": 51,
     "metadata": {},
     "output_type": "execute_result"
    }
   ],
   "source": [
    "beta = np.array(results2.params)\n",
    "\n",
    "# Calcular la estimación de la varianza de los errores\n",
    "sigmagorro = np.dot(e, e) / (results2.nobs - 1)\n",
    "sigmagorro"
   ]
  },
  {
   "cell_type": "markdown",
   "id": "308431f4",
   "metadata": {},
   "source": [
    "Nos ha salido un valor de 0.020142466648726386. Esto quiere decir que la dispersión de los datos alrededor de la línea de regresión es relativamente baja, lo que implica que el modelo puede explicar una cantidad significativa de la variabilidad observada en los datos."
   ]
  },
  {
   "cell_type": "markdown",
   "id": "58ea7400",
   "metadata": {},
   "source": [
    "## Predicción con datos seleccionados"
   ]
  },
  {
   "cell_type": "code",
   "execution_count": 52,
   "id": "3eb1588c",
   "metadata": {},
   "outputs": [
    {
     "data": {
      "text/plain": [
       "array([19969.67696166])"
      ]
     },
     "execution_count": 52,
     "metadata": {},
     "output_type": "execute_result"
    }
   ],
   "source": [
    "x0 = [1, 12000, 40.5, 7, 4, 10000]\n",
    "results2.predict(x0)"
   ]
  },
  {
   "cell_type": "markdown",
   "id": "572b4530",
   "metadata": {},
   "source": [
    "Hemos realizado la predicción del lPrice para un valor de:"
   ]
  },
  {
   "cell_type": "markdown",
   "id": "3642c6c2",
   "metadata": {},
   "source": [
    " - **lAvg. Area Income = 12000**\n",
    " - **House Age = 40.5**\n",
    " - **Number of Rooms = 7**\n",
    " - **Number of Bedrooms = 4**\n",
    " - **lArea Population = 10000**\t"
   ]
  },
  {
   "cell_type": "markdown",
   "id": "709c76b1",
   "metadata": {},
   "source": [
    "Y podemos concluir que el lPrice de la vivienda es de 19969.67 dólares para los valores que le hemos pasado."
   ]
  },
  {
   "cell_type": "markdown",
   "id": "b4e95600",
   "metadata": {},
   "source": [
    "Esta predicción nos permite obtener una serie de estimaciones de nuestro modelo de regresión para un conjunto específico de valores independientes. Esto resulta sumamente útil para comprender la variabilidad en las estimaciones y evaluar la precisión de nuestro modelo al prever la variable dependiente para diferentes valores de las variables independientes."
   ]
  },
  {
   "cell_type": "code",
   "execution_count": 53,
   "id": "256d66a3",
   "metadata": {
    "scrolled": true
   },
   "outputs": [
    {
     "data": {
      "text/html": [
       "<div>\n",
       "<style scoped>\n",
       "    .dataframe tbody tr th:only-of-type {\n",
       "        vertical-align: middle;\n",
       "    }\n",
       "\n",
       "    .dataframe tbody tr th {\n",
       "        vertical-align: top;\n",
       "    }\n",
       "\n",
       "    .dataframe thead th {\n",
       "        text-align: right;\n",
       "    }\n",
       "</style>\n",
       "<table border=\"1\" class=\"dataframe\">\n",
       "  <thead>\n",
       "    <tr style=\"text-align: right;\">\n",
       "      <th></th>\n",
       "      <th>mean</th>\n",
       "      <th>mean_se</th>\n",
       "      <th>mean_ci_lower</th>\n",
       "      <th>mean_ci_upper</th>\n",
       "      <th>obs_ci_lower</th>\n",
       "      <th>obs_ci_upper</th>\n",
       "    </tr>\n",
       "  </thead>\n",
       "  <tbody>\n",
       "    <tr>\n",
       "      <th>0</th>\n",
       "      <td>19969.676962</td>\n",
       "      <td>170.713563</td>\n",
       "      <td>19634.995341</td>\n",
       "      <td>20304.358583</td>\n",
       "      <td>19634.995225</td>\n",
       "      <td>20304.358698</td>\n",
       "    </tr>\n",
       "  </tbody>\n",
       "</table>\n",
       "</div>"
      ],
      "text/plain": [
       "           mean     mean_se  mean_ci_lower  mean_ci_upper  obs_ci_lower  \\\n",
       "0  19969.676962  170.713563   19634.995341   20304.358583  19634.995225   \n",
       "\n",
       "   obs_ci_upper  \n",
       "0  20304.358698  "
      ]
     },
     "execution_count": 53,
     "metadata": {},
     "output_type": "execute_result"
    }
   ],
   "source": [
    "predictions = results2.get_prediction(x0)\n",
    "predictions.summary_frame(alpha=0.05)"
   ]
  },
  {
   "cell_type": "markdown",
   "id": "3e353e35",
   "metadata": {},
   "source": [
    ">**mean:** Es la media de las predicciones. En nuestro caso, la media de las predicciones es 19969.676962.\n",
    "\n",
    ">**mean_se:** Representa el error estándar de la media de las predicciones. En nuestro caso, es 170.713563.\n",
    "\n",
    ">**mean_ci_lower y mean_ci_upper:** Estos son los límites inferiores y superiores, respectivamente, del intervalo de confianza al 95% para la media de las predicciones. En nuestro caso, el intervalo de confianza para la media de las predicciones va desde 19634.995341 a 20304.358583.\n",
    "\n",
    ">**obs_ci_lower y obs_ci_upper:** Son los límites inferiores y superiores, respectivamente, del intervalo de confianza al 95% para las observaciones individuales. Estos límites representan el rango dentro del cual se espera que caiga cada observación con un 95% de confianza. En nuestro caso, el intervalo de confianza para cada observación individual está entre 19634.995225 y 20304.358698."
   ]
  },
  {
   "cell_type": "markdown",
   "id": "e88051fa",
   "metadata": {},
   "source": [
    "# MULTICOLINEALIDAD"
   ]
  },
  {
   "cell_type": "markdown",
   "id": "7f68bb25",
   "metadata": {},
   "source": [
    "A continuación, vamos a ver si tenemos un problema de multicolinealidad. Que se da cuando existe una alta correlación entre dos o más variables predictoras del modelo. Esto puede causar problemas al intentar estimar los coeficientes de regresión de manera precisa y confiable."
   ]
  },
  {
   "cell_type": "markdown",
   "id": "dd6a5f51",
   "metadata": {},
   "source": [
    "### Número de condición"
   ]
  },
  {
   "cell_type": "code",
   "execution_count": 54,
   "id": "303d3406",
   "metadata": {},
   "outputs": [
    {
     "data": {
      "text/plain": [
       "37.288194486122016"
      ]
     },
     "execution_count": 54,
     "metadata": {},
     "output_type": "execute_result"
    }
   ],
   "source": [
    "results2.condition_number ** 0.5"
   ]
  },
  {
   "cell_type": "markdown",
   "id": "952f5873",
   "metadata": {},
   "source": [
    "Como tenemos un número de condición de 37.29, al ser mayor que 30 tenemos un problema de multicolinealidad."
   ]
  },
  {
   "cell_type": "markdown",
   "id": "23d17f79",
   "metadata": {},
   "source": [
    "### FIV"
   ]
  },
  {
   "cell_type": "code",
   "execution_count": 55,
   "id": "121a7b9d",
   "metadata": {
    "scrolled": true
   },
   "outputs": [
    {
     "data": {
      "text/plain": [
       "[983.0889789640219,\n",
       " 105.2278795953661,\n",
       " 67.438197727851,\n",
       " 20.461909773331378,\n",
       " 880.7575330672645]"
      ]
     },
     "execution_count": 55,
     "metadata": {},
     "output_type": "execute_result"
    }
   ],
   "source": [
    "import statsmodels.stats.outliers_influence as oi\n",
    "\n",
    "vifs=[oi.variance_inflation_factor(X2.values, i) for i in range(X2.shape[1])]\n",
    "vifs"
   ]
  },
  {
   "cell_type": "markdown",
   "id": "e2edce11",
   "metadata": {},
   "source": [
    "El FIV (Factor de Inflación de la Varianza) nos dice que cuando este es superior a 10 ya tenemos un problema grande de multicolinealidad. \n",
    "Como nos salen todos mayores (\"lAvg. Area Income\", \"lHouse Age\", \"Number of Rooms\", \"Number of Bedrooms\", \"lArea Population\"), parece que sí tenemos un problema de multicolinealidad."
   ]
  },
  {
   "cell_type": "markdown",
   "id": "ed678e7a",
   "metadata": {},
   "source": [
    "## Matriz de correlación"
   ]
  },
  {
   "cell_type": "markdown",
   "id": "a3d33bd3",
   "metadata": {},
   "source": [
    "<div class=\"alert alert-block alert-info\">\n",
    "<b>A continuación, como hay correlación entre nuestras variables, vamos a hacer la matriz de correlación para ver de forma más exacta qué variables están claramente relacionadas.</b>  \n",
    "</div>"
   ]
  },
  {
   "cell_type": "code",
   "execution_count": 56,
   "id": "6801bb64",
   "metadata": {},
   "outputs": [
    {
     "name": "stdout",
     "output_type": "stream",
     "text": [
      "[[ 1.         -0.00737043 -0.00633276  0.02458218 -0.01452829]\n",
      " [-0.00737043  1.          0.01037491  0.01210783 -0.01750687]\n",
      " [-0.00633276  0.01037491  1.          0.48409549 -0.00511646]\n",
      " [ 0.02458218  0.01210783  0.48409549  1.         -0.0113165 ]\n",
      " [-0.01452829 -0.01750687 -0.00511646 -0.0113165   1.        ]]\n"
     ]
    }
   ],
   "source": [
    "corr_matrix=np.corrcoef(X2.T)\n",
    "print(corr_matrix)"
   ]
  },
  {
   "cell_type": "code",
   "execution_count": 57,
   "id": "3f933928",
   "metadata": {},
   "outputs": [
    {
     "data": {
      "image/png": "[encoded data removed]",
      "text/plain": [
       "<Figure size 640x480 with 2 Axes>"
      ]
     },
     "metadata": {},
     "output_type": "display_data"
    }
   ],
   "source": [
    "import statsmodels.graphics.api as smg\n",
    "smg.plot_corr(corr_matrix, xnames=[\"lAvg. Area Income\", \"lHouse Age\", \"Number of Rooms\", \"Number of Bedrooms\", \"lArea Population\"])\n",
    "plt.show()"
   ]
  },
  {
   "cell_type": "markdown",
   "id": "0c067e14",
   "metadata": {},
   "source": [
    "Podemos observar que las variables *Number of Rooms* y *Number of Bedrooms* están muy relacionadas, ya que tienen un coeficiente de correlación en torno a 0,48."
   ]
  },
  {
   "cell_type": "markdown",
   "id": "6a238523",
   "metadata": {},
   "source": [
    "El resto de variables no parece que tengan una relación tan clara entre sí."
   ]
  },
  {
   "cell_type": "markdown",
   "id": "e44667e7",
   "metadata": {},
   "source": [
    "# MITIGACIÓN DE LA MULTICOLINEALIDAD"
   ]
  },
  {
   "cell_type": "markdown",
   "id": "4204666e",
   "metadata": {},
   "source": [
    "Como hemos visto que las anteriores dos variables están muy relacionadas, vamos a eliminar una de ellas para ver si solucionamos el problema."
   ]
  },
  {
   "cell_type": "markdown",
   "id": "e2a1fa70",
   "metadata": {},
   "source": [
    "Entre *Number of Rooms* y *Number of Bedrooms*, vamos a eliminar *Number of Bedrooms* ya que, como hemos estado viendo, tanto con el p-valor como con el intervalo de confianza, esta variable no era significativa para nuestro modelo."
   ]
  },
  {
   "cell_type": "code",
   "execution_count": 58,
   "id": "773398dd",
   "metadata": {},
   "outputs": [],
   "source": [
    "df = df.drop(columns=['Number of Bedrooms'])"
   ]
  },
  {
   "cell_type": "markdown",
   "id": "827ba48c",
   "metadata": {},
   "source": [
    "Volvemos a asignar nuestras variables pero ahora quitando *Number of Bedrooms* y volvemos a hacer MCO."
   ]
  },
  {
   "cell_type": "code",
   "execution_count": 59,
   "id": "780e6056",
   "metadata": {},
   "outputs": [
    {
     "name": "stdout",
     "output_type": "stream",
     "text": [
      "      lAvg. Area Income  lHouse Age  Number of Rooms  lArea Population\n",
      "0             11.284084    1.737455              8.0         10.047016\n",
      "1             11.280346    1.792243              7.0         10.600952\n",
      "2             11.023324    1.769154              9.0         10.515483\n",
      "3             11.056355    1.972446              6.0         10.443199\n",
      "4             11.001803    1.617516              8.0         10.179379\n",
      "...                 ...         ...              ...               ...\n",
      "4543          11.345177    1.627761              7.0         10.367137\n",
      "4544          11.323374    1.673860              7.0         10.624652\n",
      "4545          11.092764    1.862022              7.0         10.678369\n",
      "4546          11.239296    1.966932              8.0         10.618322\n",
      "4547          11.111484    1.852602              9.0          9.774154\n",
      "\n",
      "[4548 rows x 4 columns]\n",
      "0       13.872867\n",
      "1       14.224895\n",
      "2       13.872824\n",
      "3       14.047112\n",
      "4       13.354972\n",
      "          ...    \n",
      "4543    14.098316\n",
      "4544    14.040783\n",
      "4545    14.122821\n",
      "4546    14.391007\n",
      "4547    13.919023\n",
      "Name: lPrice, Length: 4548, dtype: float64\n"
     ]
    }
   ],
   "source": [
    "y3=df[\"lPrice\"]\n",
    "X3=df[[\"lAvg. Area Income\", \"lHouse Age\", \"Number of Rooms\", \"lArea Population\"]]\n",
    "\n",
    "print(X3)\n",
    "print(y3)"
   ]
  },
  {
   "cell_type": "code",
   "execution_count": 60,
   "id": "8c86f185",
   "metadata": {},
   "outputs": [
    {
     "data": {
      "text/html": [
       "<table class=\"simpletable\">\n",
       "<caption>OLS Regression Results</caption>\n",
       "<tr>\n",
       "  <th>Dep. Variable:</th>         <td>lPrice</td>      <th>  R-squared:         </th> <td>   0.824</td>\n",
       "</tr>\n",
       "<tr>\n",
       "  <th>Model:</th>                   <td>OLS</td>       <th>  Adj. R-squared:    </th> <td>   0.824</td>\n",
       "</tr>\n",
       "<tr>\n",
       "  <th>Method:</th>             <td>Least Squares</td>  <th>  F-statistic:       </th> <td>   5315.</td>\n",
       "</tr>\n",
       "<tr>\n",
       "  <th>Date:</th>             <td>Mon, 18 Dec 2023</td> <th>  Prob (F-statistic):</th>  <td>  0.00</td> \n",
       "</tr>\n",
       "<tr>\n",
       "  <th>Time:</th>                 <td>23:55:05</td>     <th>  Log-Likelihood:    </th> <td>  2426.6</td>\n",
       "</tr>\n",
       "<tr>\n",
       "  <th>No. Observations:</th>      <td>  4548</td>      <th>  AIC:               </th> <td>  -4843.</td>\n",
       "</tr>\n",
       "<tr>\n",
       "  <th>Df Residuals:</th>          <td>  4543</td>      <th>  BIC:               </th> <td>  -4811.</td>\n",
       "</tr>\n",
       "<tr>\n",
       "  <th>Df Model:</th>              <td>     4</td>      <th>                     </th>     <td> </td>   \n",
       "</tr>\n",
       "<tr>\n",
       "  <th>Covariance Type:</th>      <td>nonrobust</td>    <th>                     </th>     <td> </td>   \n",
       "</tr>\n",
       "</table>\n",
       "<table class=\"simpletable\">\n",
       "<tr>\n",
       "          <td></td>             <th>coef</th>     <th>std err</th>      <th>t</th>      <th>P>|t|</th>  <th>[0.025</th>    <th>0.975]</th>  \n",
       "</tr>\n",
       "<tr>\n",
       "  <th>const</th>             <td>   -7.3121</td> <td>    0.164</td> <td>  -44.525</td> <td> 0.000</td> <td>   -7.634</td> <td>   -6.990</td>\n",
       "</tr>\n",
       "<tr>\n",
       "  <th>lAvg. Area Income</th> <td>    1.3099</td> <td>    0.013</td> <td>  100.527</td> <td> 0.000</td> <td>    1.284</td> <td>    1.335</td>\n",
       "</tr>\n",
       "<tr>\n",
       "  <th>lHouse Age</th>        <td>    0.8695</td> <td>    0.012</td> <td>   70.985</td> <td> 0.000</td> <td>    0.846</td> <td>    0.894</td>\n",
       "</tr>\n",
       "<tr>\n",
       "  <th>Number of Rooms</th>   <td>    0.1012</td> <td>    0.002</td> <td>   50.383</td> <td> 0.000</td> <td>    0.097</td> <td>    0.105</td>\n",
       "</tr>\n",
       "<tr>\n",
       "  <th>lArea Population</th>  <td>    0.4226</td> <td>    0.007</td> <td>   63.560</td> <td> 0.000</td> <td>    0.410</td> <td>    0.436</td>\n",
       "</tr>\n",
       "</table>\n",
       "<table class=\"simpletable\">\n",
       "<tr>\n",
       "  <th>Omnibus:</th>       <td>4528.227</td> <th>  Durbin-Watson:     </th>  <td>   2.008</td>  \n",
       "</tr>\n",
       "<tr>\n",
       "  <th>Prob(Omnibus):</th>  <td> 0.000</td>  <th>  Jarque-Bera (JB):  </th> <td>1276540.159</td>\n",
       "</tr>\n",
       "<tr>\n",
       "  <th>Skew:</th>           <td>-4.236</td>  <th>  Prob(JB):          </th>  <td>    0.00</td>  \n",
       "</tr>\n",
       "<tr>\n",
       "  <th>Kurtosis:</th>       <td>84.637</td>  <th>  Cond. No.          </th>  <td>1.34e+03</td>  \n",
       "</tr>\n",
       "</table><br/><br/>Notes:<br/>[1] Standard Errors assume that the covariance matrix of the errors is correctly specified.<br/>[2] The condition number is large, 1.34e+03. This might indicate that there are<br/>strong multicollinearity or other numerical problems."
      ],
      "text/latex": [
       "\\begin{center}\n",
       "\\begin{tabular}{lclc}\n",
       "\\toprule\n",
       "\\textbf{Dep. Variable:}    &      lPrice      & \\textbf{  R-squared:         } &      0.824   \\\\\n",
       "\\textbf{Model:}            &       OLS        & \\textbf{  Adj. R-squared:    } &      0.824   \\\\\n",
       "\\textbf{Method:}           &  Least Squares   & \\textbf{  F-statistic:       } &      5315.   \\\\\n",
       "\\textbf{Date:}             & Mon, 18 Dec 2023 & \\textbf{  Prob (F-statistic):} &      0.00    \\\\\n",
       "\\textbf{Time:}             &     23:55:05     & \\textbf{  Log-Likelihood:    } &     2426.6   \\\\\n",
       "\\textbf{No. Observations:} &        4548      & \\textbf{  AIC:               } &     -4843.   \\\\\n",
       "\\textbf{Df Residuals:}     &        4543      & \\textbf{  BIC:               } &     -4811.   \\\\\n",
       "\\textbf{Df Model:}         &           4      & \\textbf{                     } &              \\\\\n",
       "\\textbf{Covariance Type:}  &    nonrobust     & \\textbf{                     } &              \\\\\n",
       "\\bottomrule\n",
       "\\end{tabular}\n",
       "\\begin{tabular}{lcccccc}\n",
       "                           & \\textbf{coef} & \\textbf{std err} & \\textbf{t} & \\textbf{P$> |$t$|$} & \\textbf{[0.025} & \\textbf{0.975]}  \\\\\n",
       "\\midrule\n",
       "\\textbf{const}             &      -7.3121  &        0.164     &   -44.525  &         0.000        &       -7.634    &       -6.990     \\\\\n",
       "\\textbf{lAvg. Area Income} &       1.3099  &        0.013     &   100.527  &         0.000        &        1.284    &        1.335     \\\\\n",
       "\\textbf{lHouse Age}        &       0.8695  &        0.012     &    70.985  &         0.000        &        0.846    &        0.894     \\\\\n",
       "\\textbf{Number of Rooms}   &       0.1012  &        0.002     &    50.383  &         0.000        &        0.097    &        0.105     \\\\\n",
       "\\textbf{lArea Population}  &       0.4226  &        0.007     &    63.560  &         0.000        &        0.410    &        0.436     \\\\\n",
       "\\bottomrule\n",
       "\\end{tabular}\n",
       "\\begin{tabular}{lclc}\n",
       "\\textbf{Omnibus:}       & 4528.227 & \\textbf{  Durbin-Watson:     } &      2.008   \\\\\n",
       "\\textbf{Prob(Omnibus):} &   0.000  & \\textbf{  Jarque-Bera (JB):  } & 1276540.159  \\\\\n",
       "\\textbf{Skew:}          &  -4.236  & \\textbf{  Prob(JB):          } &       0.00   \\\\\n",
       "\\textbf{Kurtosis:}      &  84.637  & \\textbf{  Cond. No.          } &   1.34e+03   \\\\\n",
       "\\bottomrule\n",
       "\\end{tabular}\n",
       "%\\caption{OLS Regression Results}\n",
       "\\end{center}\n",
       "\n",
       "Notes: \\newline\n",
       " [1] Standard Errors assume that the covariance matrix of the errors is correctly specified. \\newline\n",
       " [2] The condition number is large, 1.34e+03. This might indicate that there are \\newline\n",
       " strong multicollinearity or other numerical problems."
      ],
      "text/plain": [
       "<class 'statsmodels.iolib.summary.Summary'>\n",
       "\"\"\"\n",
       "                            OLS Regression Results                            \n",
       "==============================================================================\n",
       "Dep. Variable:                 lPrice   R-squared:                       0.824\n",
       "Model:                            OLS   Adj. R-squared:                  0.824\n",
       "Method:                 Least Squares   F-statistic:                     5315.\n",
       "Date:                Mon, 18 Dec 2023   Prob (F-statistic):               0.00\n",
       "Time:                        23:55:05   Log-Likelihood:                 2426.6\n",
       "No. Observations:                4548   AIC:                            -4843.\n",
       "Df Residuals:                    4543   BIC:                            -4811.\n",
       "Df Model:                           4                                         \n",
       "Covariance Type:            nonrobust                                         \n",
       "=====================================================================================\n",
       "                        coef    std err          t      P>|t|      [0.025      0.975]\n",
       "-------------------------------------------------------------------------------------\n",
       "const                -7.3121      0.164    -44.525      0.000      -7.634      -6.990\n",
       "lAvg. Area Income     1.3099      0.013    100.527      0.000       1.284       1.335\n",
       "lHouse Age            0.8695      0.012     70.985      0.000       0.846       0.894\n",
       "Number of Rooms       0.1012      0.002     50.383      0.000       0.097       0.105\n",
       "lArea Population      0.4226      0.007     63.560      0.000       0.410       0.436\n",
       "==============================================================================\n",
       "Omnibus:                     4528.227   Durbin-Watson:                   2.008\n",
       "Prob(Omnibus):                  0.000   Jarque-Bera (JB):          1276540.159\n",
       "Skew:                          -4.236   Prob(JB):                         0.00\n",
       "Kurtosis:                      84.637   Cond. No.                     1.34e+03\n",
       "==============================================================================\n",
       "\n",
       "Notes:\n",
       "[1] Standard Errors assume that the covariance matrix of the errors is correctly specified.\n",
       "[2] The condition number is large, 1.34e+03. This might indicate that there are\n",
       "strong multicollinearity or other numerical problems.\n",
       "\"\"\""
      ]
     },
     "execution_count": 60,
     "metadata": {},
     "output_type": "execute_result"
    }
   ],
   "source": [
    "results3 = sm.OLS(y3, sm.add_constant(X3)).fit()\n",
    "\n",
    "results3.summary()"
   ]
  },
  {
   "cell_type": "markdown",
   "id": "ae174c27",
   "metadata": {},
   "source": [
    "<div class=\"alert alert-block alert-info\">\n",
    "<b>Podemos ver que ya no tenemos la variable Number of Bedrooms</b>  \n",
    "</div>"
   ]
  },
  {
   "cell_type": "markdown",
   "id": "1b6810de",
   "metadata": {},
   "source": [
    "### Vemos si hemos solucionado el problema"
   ]
  },
  {
   "cell_type": "code",
   "execution_count": 61,
   "id": "53046951",
   "metadata": {},
   "outputs": [
    {
     "data": {
      "text/plain": [
       "36.604318435645084"
      ]
     },
     "execution_count": 61,
     "metadata": {},
     "output_type": "execute_result"
    }
   ],
   "source": [
    "results3.condition_number ** 0.5"
   ]
  },
  {
   "cell_type": "markdown",
   "id": "210fa127",
   "metadata": {},
   "source": [
    "A pesar de no haber solucionado el problema de multicolinealidad, hemos reducido un poco su número de condición. Al estar bastante cerca de 30, aunque tengamos un problema, podemos continuar analizando nuestro modelo a pesar de la situación."
   ]
  },
  {
   "cell_type": "markdown",
   "id": "ae227e6d",
   "metadata": {},
   "source": [
    "<div class=\"alert alert-block alert-info\">\n",
    "<b>Volvemos a hacer la matriz de correlación para ver si podriamos eliminar alguna otra variable.</b>  \n",
    "</div>"
   ]
  },
  {
   "cell_type": "code",
   "execution_count": 62,
   "id": "cd5d1bf0",
   "metadata": {},
   "outputs": [
    {
     "name": "stdout",
     "output_type": "stream",
     "text": [
      "[[ 1.         -0.00737043 -0.00633276 -0.01452829]\n",
      " [-0.00737043  1.          0.01037491 -0.01750687]\n",
      " [-0.00633276  0.01037491  1.         -0.00511646]\n",
      " [-0.01452829 -0.01750687 -0.00511646  1.        ]]\n"
     ]
    }
   ],
   "source": [
    "corr_matrix=np.corrcoef(X3.T)\n",
    "print(corr_matrix)"
   ]
  },
  {
   "cell_type": "code",
   "execution_count": 63,
   "id": "9631aa49",
   "metadata": {
    "scrolled": false
   },
   "outputs": [
    {
     "data": {
      "image/png": "[encoded data removed]",
      "text/plain": [
       "<Figure size 640x480 with 2 Axes>"
      ]
     },
     "metadata": {},
     "output_type": "display_data"
    }
   ],
   "source": [
    "smg.plot_corr(corr_matrix, xnames=[\"lAvg. Area Income\", \"lHouse Age\", \"Number of Rooms\", \"lArea Population\"])\n",
    "plt.show()"
   ]
  },
  {
   "cell_type": "markdown",
   "id": "5cdff346",
   "metadata": {},
   "source": [
    "<div class=\"alert alert-block alert-info\">\n",
    "<b>Como podemos ver, no hay ningún par más de variables que tengan una gran relación entre sí, por lo que no podemos hacer nada más.</b>  \n",
    "</div>"
   ]
  },
  {
   "cell_type": "markdown",
   "id": "662d88a4",
   "metadata": {},
   "source": [
    "# NORMALIDAD DE LOS RESIDUOS"
   ]
  },
  {
   "cell_type": "code",
   "execution_count": 65,
   "id": "ef7e0827",
   "metadata": {
    "scrolled": true
   },
   "outputs": [
    {
     "data": {
      "image/png": "[encoded data removed]",
      "text/plain": [
       "<Figure size 640x480 with 1 Axes>"
      ]
     },
     "metadata": {},
     "output_type": "display_data"
    },
    {
     "data": {
      "image/png": "[encoded data removed]",
      "text/plain": [
       "<Figure size 640x480 with 1 Axes>"
      ]
     },
     "metadata": {},
     "output_type": "display_data"
    }
   ],
   "source": [
    "from matplotlib import pyplot\n",
    "from statsmodels.graphics.gofplots import qqplot\n",
    "pyplot.hist(results3.resid)\n",
    "pyplot.show()\n",
    "qqplot(results3.resid, line='s')\n",
    "pyplot.show()"
   ]
  },
  {
   "cell_type": "code",
   "execution_count": 81,
   "id": "3c2f999c",
   "metadata": {},
   "outputs": [
    {
     "data": {
      "text/plain": [
       "[('Jarque-Bera', 1276540.1592272397),\n",
       " ('Chi^2 two-tail prob.', 0.0),\n",
       " ('Skew', -4.235624796790127),\n",
       " ('Kurtosis', 84.63698677451713)]"
      ]
     },
     "execution_count": 81,
     "metadata": {},
     "output_type": "execute_result"
    }
   ],
   "source": [
    "import statsmodels.stats.api as sms\n",
    "from statsmodels.compat import lzip\n",
    "name = [\"Jarque-Bera\", \"Chi^2 two-tail prob.\", \"Skew\", \"Kurtosis\"]\n",
    "test = sms.jarque_bera(results3.resid)\n",
    "lzip(name, test)"
   ]
  },
  {
   "cell_type": "markdown",
   "id": "790c7ac8",
   "metadata": {},
   "source": [
    "- Jarque-Bera: Test de hipótesis que contrasta si los datos de la muestra tienen el coeficiente de simetría y la curtósis de una distribución normal. **1276540.1592272397**. Cuanto mayor sea este valor, más evidencia hay en contra de que los datos provienen de una distribución normal. En este caso, el valor es bastante alto, lo que sugiere que hay evidencia para rechazar la hipótesis de normalidad.\n",
    "- Chi^2 two-tail prob.(p-valor): p-valor del Test de Jaque-Bera. Nos sale **0.0** . Un valor p pequeño (generalmente menos de 0.05) sugiere que hay evidencia suficiente para rechazar la hipótesis nula. En este caso, el valor p es esencialmente cero, lo que indica fuerte evidencia en contra de la normalidad.\n",
    "- Skew: Coeficiente de Simetría de pearson de los residuos. **-4.235624796790127**. En este caso, el valor es negativo, lo que sugiere una ligera asimetría hacia la izquierda.\n",
    "- Kurtosis: Coeficiente de apuntamiento de los residuos. **84.63698677451713**. Es muy alto y sugiere una distribución con colas muy pesadas en comparación con una distribución normal. Esto podría implicar la presencia de valores extremos o datos que se alejan significativamente del centro de la distribución."
   ]
  },
  {
   "cell_type": "markdown",
   "id": "ac47707e",
   "metadata": {},
   "source": [
    "## Test de Kolmogórov-Smirnov"
   ]
  },
  {
   "cell_type": "markdown",
   "id": "eac62898",
   "metadata": {},
   "source": [
    "Test de Hipótesis para contrastar si una muestra proviene de una distribución (en este caso normal)."
   ]
  },
  {
   "cell_type": "code",
   "execution_count": 66,
   "id": "bf506527",
   "metadata": {},
   "outputs": [
    {
     "data": {
      "text/plain": [
       "(0.08568844297150324, 0.0009999999999998899)"
      ]
     },
     "execution_count": 66,
     "metadata": {},
     "output_type": "execute_result"
    }
   ],
   "source": [
    "import statsmodels.stats.diagnostic as diag\n",
    "\n",
    "diag.kstest_normal(results3.resid)"
   ]
  },
  {
   "cell_type": "markdown",
   "id": "782a79af",
   "metadata": {},
   "source": [
    "$H_0:$ LOS RESIDUOS SIGUEN UNA DISTRIBUCIÓN NORMAL"
   ]
  },
  {
   "cell_type": "markdown",
   "id": "90cd0071",
   "metadata": {},
   "source": [
    "$H_1:$ LOS RESIDUOS NO SIGUEN UNA DISTRIBUCIÓN NORMAL"
   ]
  },
  {
   "cell_type": "markdown",
   "id": "3e1e4c7c",
   "metadata": {},
   "source": [
    "Como nos sale un p-valor muy pequeño, concretamente de 0'00099, podemos rechazar que nuestros residuos sigan una distribución normal en todo su conjunto."
   ]
  },
  {
   "cell_type": "markdown",
   "id": "ec4bea7b",
   "metadata": {},
   "source": [
    "Sin embargo mirando el gráfico vemos como la mayoría de puntos se ajustan a la línea desviandose en los extremos, por lo que podemos afirmar que los residuos del modelo siguen una distribución normal en la mayoría de casos aportando valores que concuerden con los valores reales."
   ]
  },
  {
   "cell_type": "markdown",
   "id": "9f8df52d",
   "metadata": {},
   "source": [
    "# HETEROCEDASTICIDAD"
   ]
  },
  {
   "cell_type": "markdown",
   "id": "febb818e",
   "metadata": {},
   "source": [
    "## Contraste de Breusch-Pagan y White"
   ]
  },
  {
   "cell_type": "markdown",
   "id": "2a13b175",
   "metadata": {},
   "source": [
    "Para ver si en nuestro modelo tenemos un problema de heterocedasticidad, vamos a aplicar el contraste de Breusch-Pagan y White, ya que tenemos un número de muestras grande (4548 muestras).\n"
   ]
  },
  {
   "cell_type": "markdown",
   "id": "b90f8ece",
   "metadata": {},
   "source": [
    "*No usamos el contraste de Goldfeld Quandt porque es para un número de muestras pequeño (<100 observaciones).*"
   ]
  },
  {
   "cell_type": "markdown",
   "id": "e1795129",
   "metadata": {},
   "source": [
    "$H_0:$ EL MODELO ES HOMOCEDÁSTICO"
   ]
  },
  {
   "cell_type": "markdown",
   "id": "2f4b508b",
   "metadata": {},
   "source": [
    "$H_1:$ EL MODELO ES HETEROCEDÁSTICO"
   ]
  },
  {
   "cell_type": "code",
   "execution_count": 67,
   "id": "159c9f89",
   "metadata": {},
   "outputs": [
    {
     "name": "stdout",
     "output_type": "stream",
     "text": [
      "Breush Pagan:  (166.38702442473715, 6.234409757129061e-35, 43.1288806299887, 1.4364933249550008e-35)\n"
     ]
    }
   ],
   "source": [
    "import statsmodels.stats.api as sms\n",
    "#BREUSH-PAGAN\n",
    "BP=sms.het_breuschpagan(results3.resid, results3.model.exog)\n",
    "print(\"Breush Pagan: \", BP)"
   ]
  },
  {
   "cell_type": "code",
   "execution_count": 68,
   "id": "2830a95a",
   "metadata": {
    "scrolled": true
   },
   "outputs": [
    {
     "name": "stdout",
     "output_type": "stream",
     "text": [
      "White:  (681.7056504854213, 2.0666054948817607e-136, 57.08994996791756, 3.1181103348132363e-148)\n"
     ]
    }
   ],
   "source": [
    "#WHITE\n",
    "W=sms.het_white(results3.resid, results3.model.exog)\n",
    "print(\"White: \", W)"
   ]
  },
  {
   "cell_type": "markdown",
   "id": "c682c5bc",
   "metadata": {},
   "source": [
    "Como en ambos casos nos salen p-valores muy bajos para ambos contrastes (1.4364933249550008e-35 y 3.1181103348132363e-148 respectivamente), podemos rechazar la hipótesis nula y aceptar $H_1$. Por lo tanto, tenemos un **problema de heterocedasticidad**."
   ]
  },
  {
   "cell_type": "markdown",
   "id": "7a9c2d7a",
   "metadata": {},
   "source": [
    "# MITIGACIÓN DE LA HETEROCEDASTICIDAD"
   ]
  },
  {
   "cell_type": "markdown",
   "id": "801a32c4",
   "metadata": {},
   "source": [
    "## Test de Glesjer "
   ]
  },
  {
   "cell_type": "markdown",
   "id": "bf32f6ac",
   "metadata": {},
   "source": [
    "A continuación, haremos el test de Glesjer para determinar cuál es la variable que nos da el problema de heterocedasticidad. \n",
    "Sobre los valores de la h, debemos fijarnos en que p-valor sea menor que 0.05 y luego quedarnos con el que tenga el $R^2$ más alto."
   ]
  },
  {
   "cell_type": "code",
   "execution_count": 69,
   "id": "d942c432",
   "metadata": {},
   "outputs": [
    {
     "name": "stdout",
     "output_type": "stream",
     "text": [
      "h:  -2 -> pvalt: 4.829986157743819e-58 R2:  0.05516579078179007\n",
      "h:  -1 -> pvalt: 4.1939692692077343e-57 R2:  0.05427030121479548\n",
      "h:  -0.5 -> pvalt: 1.2377073589557528e-56 R2:  0.05382163659881012\n",
      "h:  0.5 -> pvalt: 1.0776627521496652e-55 R2:  0.05292382922543626\n",
      "h:  1 -> pvalt: 3.175851549491674e-55 R2:  0.05247516005236241\n",
      "h:  2 -> pvalt: 2.744299241961213e-54 R2:  0.05157932091176576\n"
     ]
    }
   ],
   "source": [
    "#GLEJSER\n",
    "z1=df[\"lAvg. Area Income\"] \n",
    "for h in [-2, -1, -0.5, 0.5, 1, 2]:\n",
    "    # |e| = delta_0 + delta_1 z^h + eps\n",
    "    mcoaux=sm.OLS(abs(results3.resid), sm.add_constant(z1**h)).fit()\n",
    "    pval=mcoaux.pvalues[1]\n",
    "    print(\"h: \", h, \"-> pvalt:\", pval, \"R2: \", mcoaux.rsquared)"
   ]
  },
  {
   "cell_type": "code",
   "execution_count": 70,
   "id": "8d57e18f",
   "metadata": {},
   "outputs": [
    {
     "name": "stdout",
     "output_type": "stream",
     "text": [
      "h:  -2 -> pvalt: 1.503078895043384e-32 R2:  0.030572338516229536\n",
      "h:  -1 -> pvalt: 1.4774579041847885e-31 R2:  0.02960390944610547\n",
      "h:  -0.5 -> pvalt: 8.884141010845317e-31 R2:  0.028843211115138656\n",
      "h:  0.5 -> pvalt: 7.437560333706962e-29 R2:  0.026963909514411633\n",
      "h:  1 -> pvalt: 8.904035396428633e-28 R2:  0.02590900372613203\n",
      "h:  2 -> pvalt: 1.634088600104929e-25 R2:  0.023691589062962648\n"
     ]
    }
   ],
   "source": [
    "z2=df[\"lHouse Age\"] \n",
    "for h in [-2, -1, -0.5, 0.5, 1, 2]:\n",
    "    # |e| = delta_0 + delta_1 z^h + eps\n",
    "    mcoaux=sm.OLS(abs(results3.resid), sm.add_constant(z2**h)).fit()\n",
    "    pval=mcoaux.pvalues[1]\n",
    "    print(\"h: \", h, \"-> pvalt:\", pval, \"R2: \", mcoaux.rsquared)"
   ]
  },
  {
   "cell_type": "code",
   "execution_count": 71,
   "id": "f5734583",
   "metadata": {},
   "outputs": [
    {
     "name": "stdout",
     "output_type": "stream",
     "text": [
      "h:  -2 -> pvalt: 6.510712850854505e-10 R2:  0.00836041743444782\n",
      "h:  -1 -> pvalt: 1.4386537885693944e-08 R2:  0.007044572214107703\n",
      "h:  -0.5 -> pvalt: 6.025756061366155e-08 R2:  0.006437249710281034\n",
      "h:  0.5 -> pvalt: 8.219937665215736e-07 R2:  0.005332909384489715\n",
      "h:  1 -> pvalt: 2.6739055714048728e-06 R2:  0.004836443639693377\n",
      "h:  2 -> pvalt: 2.211502885918225e-05 R2:  0.003951666948165733\n"
     ]
    }
   ],
   "source": [
    "z3=df[\"Number of Rooms\"] \n",
    "for h in [-2, -1, -0.5, 0.5, 1, 2]:\n",
    "    # |e| = delta_0 + delta_1 z^h + eps\n",
    "    mcoaux=sm.OLS(abs(results3.resid), sm.add_constant(z3**h)).fit()\n",
    "    pval=mcoaux.pvalues[1]\n",
    "    print(\"h: \", h, \"-> pvalt:\", pval, \"R2: \", mcoaux.rsquared)"
   ]
  },
  {
   "cell_type": "code",
   "execution_count": 72,
   "id": "dd43eee8",
   "metadata": {
    "scrolled": true
   },
   "outputs": [
    {
     "name": "stdout",
     "output_type": "stream",
     "text": [
      "h:  -2 -> pvalt: 2.1210562933929567e-65 R2:  0.06215717629635453\n",
      "h:  -1 -> pvalt: 2.1717786199876373e-54 R2:  0.05167655531882276\n",
      "h:  -0.5 -> pvalt: 2.8217781836709977e-49 R2:  0.0467719675351701\n",
      "h:  0.5 -> pvalt: 7.424104923838516e-41 R2:  0.03864637560067108\n",
      "h:  1 -> pvalt: 1.4998757115307814e-37 R2:  0.03544011522572821\n",
      "h:  2 -> pvalt: 2.1300895347527595e-32 R2:  0.030424648041465163\n"
     ]
    }
   ],
   "source": [
    "z4=df[\"lArea Population\"] \n",
    "for h in [-2, -1, -0.5, 0.5, 1, 2]:\n",
    "    # |e| = delta_0 + delta_1 z^h + eps\n",
    "    mcoaux=sm.OLS(abs(results3.resid), sm.add_constant(z4**h)).fit()\n",
    "    pval=mcoaux.pvalues[1]\n",
    "    print(\"h: \", h, \"-> pvalt:\", pval, \"R2: \", mcoaux.rsquared)"
   ]
  },
  {
   "cell_type": "markdown",
   "id": "db96e9e1",
   "metadata": {},
   "source": [
    "De esta forma, vemos cómo, de entre todas la variables, nos quedamos con la variable lArea population en la que encontramos el $R^2$ más alto, siendo 0.06215717629635453, por tanto, vemos que corresponde a h = -2 y aplicamos los cálculos oportunos para corregir esta variable. $w_4 = \\frac{1}{\\sqrt{z_4^-2}}$"
   ]
  },
  {
   "cell_type": "code",
   "execution_count": 73,
   "id": "6e6444c8",
   "metadata": {},
   "outputs": [
    {
     "data": {
      "text/html": [
       "<table class=\"simpletable\">\n",
       "<caption>WLS Regression Results</caption>\n",
       "<tr>\n",
       "  <th>Dep. Variable:</th>         <td>lPrice</td>      <th>  R-squared:         </th> <td>   0.828</td>\n",
       "</tr>\n",
       "<tr>\n",
       "  <th>Model:</th>                   <td>WLS</td>       <th>  Adj. R-squared:    </th> <td>   0.828</td>\n",
       "</tr>\n",
       "<tr>\n",
       "  <th>Method:</th>             <td>Least Squares</td>  <th>  F-statistic:       </th> <td>   5475.</td>\n",
       "</tr>\n",
       "<tr>\n",
       "  <th>Date:</th>             <td>Mon, 18 Dec 2023</td> <th>  Prob (F-statistic):</th>  <td>  0.00</td> \n",
       "</tr>\n",
       "<tr>\n",
       "  <th>Time:</th>                 <td>23:55:06</td>     <th>  Log-Likelihood:    </th> <td>  2509.1</td>\n",
       "</tr>\n",
       "<tr>\n",
       "  <th>No. Observations:</th>      <td>  4548</td>      <th>  AIC:               </th> <td>  -5008.</td>\n",
       "</tr>\n",
       "<tr>\n",
       "  <th>Df Residuals:</th>          <td>  4543</td>      <th>  BIC:               </th> <td>  -4976.</td>\n",
       "</tr>\n",
       "<tr>\n",
       "  <th>Df Model:</th>              <td>     4</td>      <th>                     </th>     <td> </td>   \n",
       "</tr>\n",
       "<tr>\n",
       "  <th>Covariance Type:</th>      <td>nonrobust</td>    <th>                     </th>     <td> </td>   \n",
       "</tr>\n",
       "</table>\n",
       "<table class=\"simpletable\">\n",
       "<tr>\n",
       "          <td></td>             <th>coef</th>     <th>std err</th>      <th>t</th>      <th>P>|t|</th>  <th>[0.025</th>    <th>0.975]</th>  \n",
       "</tr>\n",
       "<tr>\n",
       "  <th>const</th>             <td>   -7.3689</td> <td>    0.162</td> <td>  -45.469</td> <td> 0.000</td> <td>   -7.687</td> <td>   -7.051</td>\n",
       "</tr>\n",
       "<tr>\n",
       "  <th>lAvg. Area Income</th> <td>    1.3034</td> <td>    0.013</td> <td>  101.993</td> <td> 0.000</td> <td>    1.278</td> <td>    1.328</td>\n",
       "</tr>\n",
       "<tr>\n",
       "  <th>lHouse Age</th>        <td>    0.8632</td> <td>    0.012</td> <td>   71.777</td> <td> 0.000</td> <td>    0.840</td> <td>    0.887</td>\n",
       "</tr>\n",
       "<tr>\n",
       "  <th>Number of Rooms</th>   <td>    0.1009</td> <td>    0.002</td> <td>   51.175</td> <td> 0.000</td> <td>    0.097</td> <td>    0.105</td>\n",
       "</tr>\n",
       "<tr>\n",
       "  <th>lArea Population</th>  <td>    0.4362</td> <td>    0.007</td> <td>   64.672</td> <td> 0.000</td> <td>    0.423</td> <td>    0.449</td>\n",
       "</tr>\n",
       "</table>\n",
       "<table class=\"simpletable\">\n",
       "<tr>\n",
       "  <th>Omnibus:</th>       <td>4569.010</td> <th>  Durbin-Watson:     </th>  <td>   2.009</td>  \n",
       "</tr>\n",
       "<tr>\n",
       "  <th>Prob(Omnibus):</th>  <td> 0.000</td>  <th>  Jarque-Bera (JB):  </th> <td>1090757.933</td>\n",
       "</tr>\n",
       "<tr>\n",
       "  <th>Skew:</th>           <td>-4.366</td>  <th>  Prob(JB):          </th>  <td>    0.00</td>  \n",
       "</tr>\n",
       "<tr>\n",
       "  <th>Kurtosis:</th>       <td>78.364</td>  <th>  Cond. No.          </th>  <td>1.35e+03</td>  \n",
       "</tr>\n",
       "</table><br/><br/>Notes:<br/>[1] Standard Errors assume that the covariance matrix of the errors is correctly specified.<br/>[2] The condition number is large, 1.35e+03. This might indicate that there are<br/>strong multicollinearity or other numerical problems."
      ],
      "text/latex": [
       "\\begin{center}\n",
       "\\begin{tabular}{lclc}\n",
       "\\toprule\n",
       "\\textbf{Dep. Variable:}    &      lPrice      & \\textbf{  R-squared:         } &      0.828   \\\\\n",
       "\\textbf{Model:}            &       WLS        & \\textbf{  Adj. R-squared:    } &      0.828   \\\\\n",
       "\\textbf{Method:}           &  Least Squares   & \\textbf{  F-statistic:       } &      5475.   \\\\\n",
       "\\textbf{Date:}             & Mon, 18 Dec 2023 & \\textbf{  Prob (F-statistic):} &      0.00    \\\\\n",
       "\\textbf{Time:}             &     23:55:06     & \\textbf{  Log-Likelihood:    } &     2509.1   \\\\\n",
       "\\textbf{No. Observations:} &        4548      & \\textbf{  AIC:               } &     -5008.   \\\\\n",
       "\\textbf{Df Residuals:}     &        4543      & \\textbf{  BIC:               } &     -4976.   \\\\\n",
       "\\textbf{Df Model:}         &           4      & \\textbf{                     } &              \\\\\n",
       "\\textbf{Covariance Type:}  &    nonrobust     & \\textbf{                     } &              \\\\\n",
       "\\bottomrule\n",
       "\\end{tabular}\n",
       "\\begin{tabular}{lcccccc}\n",
       "                           & \\textbf{coef} & \\textbf{std err} & \\textbf{t} & \\textbf{P$> |$t$|$} & \\textbf{[0.025} & \\textbf{0.975]}  \\\\\n",
       "\\midrule\n",
       "\\textbf{const}             &      -7.3689  &        0.162     &   -45.469  &         0.000        &       -7.687    &       -7.051     \\\\\n",
       "\\textbf{lAvg. Area Income} &       1.3034  &        0.013     &   101.993  &         0.000        &        1.278    &        1.328     \\\\\n",
       "\\textbf{lHouse Age}        &       0.8632  &        0.012     &    71.777  &         0.000        &        0.840    &        0.887     \\\\\n",
       "\\textbf{Number of Rooms}   &       0.1009  &        0.002     &    51.175  &         0.000        &        0.097    &        0.105     \\\\\n",
       "\\textbf{lArea Population}  &       0.4362  &        0.007     &    64.672  &         0.000        &        0.423    &        0.449     \\\\\n",
       "\\bottomrule\n",
       "\\end{tabular}\n",
       "\\begin{tabular}{lclc}\n",
       "\\textbf{Omnibus:}       & 4569.010 & \\textbf{  Durbin-Watson:     } &      2.009   \\\\\n",
       "\\textbf{Prob(Omnibus):} &   0.000  & \\textbf{  Jarque-Bera (JB):  } & 1090757.933  \\\\\n",
       "\\textbf{Skew:}          &  -4.366  & \\textbf{  Prob(JB):          } &       0.00   \\\\\n",
       "\\textbf{Kurtosis:}      &  78.364  & \\textbf{  Cond. No.          } &   1.35e+03   \\\\\n",
       "\\bottomrule\n",
       "\\end{tabular}\n",
       "%\\caption{WLS Regression Results}\n",
       "\\end{center}\n",
       "\n",
       "Notes: \\newline\n",
       " [1] Standard Errors assume that the covariance matrix of the errors is correctly specified. \\newline\n",
       " [2] The condition number is large, 1.35e+03. This might indicate that there are \\newline\n",
       " strong multicollinearity or other numerical problems."
      ],
      "text/plain": [
       "<class 'statsmodels.iolib.summary.Summary'>\n",
       "\"\"\"\n",
       "                            WLS Regression Results                            \n",
       "==============================================================================\n",
       "Dep. Variable:                 lPrice   R-squared:                       0.828\n",
       "Model:                            WLS   Adj. R-squared:                  0.828\n",
       "Method:                 Least Squares   F-statistic:                     5475.\n",
       "Date:                Mon, 18 Dec 2023   Prob (F-statistic):               0.00\n",
       "Time:                        23:55:06   Log-Likelihood:                 2509.1\n",
       "No. Observations:                4548   AIC:                            -5008.\n",
       "Df Residuals:                    4543   BIC:                            -4976.\n",
       "Df Model:                           4                                         \n",
       "Covariance Type:            nonrobust                                         \n",
       "=====================================================================================\n",
       "                        coef    std err          t      P>|t|      [0.025      0.975]\n",
       "-------------------------------------------------------------------------------------\n",
       "const                -7.3689      0.162    -45.469      0.000      -7.687      -7.051\n",
       "lAvg. Area Income     1.3034      0.013    101.993      0.000       1.278       1.328\n",
       "lHouse Age            0.8632      0.012     71.777      0.000       0.840       0.887\n",
       "Number of Rooms       0.1009      0.002     51.175      0.000       0.097       0.105\n",
       "lArea Population      0.4362      0.007     64.672      0.000       0.423       0.449\n",
       "==============================================================================\n",
       "Omnibus:                     4569.010   Durbin-Watson:                   2.009\n",
       "Prob(Omnibus):                  0.000   Jarque-Bera (JB):          1090757.933\n",
       "Skew:                          -4.366   Prob(JB):                         0.00\n",
       "Kurtosis:                      78.364   Cond. No.                     1.35e+03\n",
       "==============================================================================\n",
       "\n",
       "Notes:\n",
       "[1] Standard Errors assume that the covariance matrix of the errors is correctly specified.\n",
       "[2] The condition number is large, 1.35e+03. This might indicate that there are\n",
       "strong multicollinearity or other numerical problems.\n",
       "\"\"\""
      ]
     },
     "execution_count": 73,
     "metadata": {},
     "output_type": "execute_result"
    }
   ],
   "source": [
    "mcp = sm.WLS(y3, sm.add_constant(X3), weights=1./np.sqrt(z4**-2)).fit()    \n",
    "mcp.summary()"
   ]
  },
  {
   "cell_type": "code",
   "execution_count": 74,
   "id": "b0beffde",
   "metadata": {
    "scrolled": true
   },
   "outputs": [
    {
     "name": "stdout",
     "output_type": "stream",
     "text": [
      "Breush Pagan:  (171.97936577426347, 3.932085649672865e-36, 44.63543045259865, 8.158278947017603e-37)\n"
     ]
    }
   ],
   "source": [
    "#BREUSH-PAGAN\n",
    "BP=sms.het_breuschpagan(mcp.resid, mcp.model.exog)\n",
    "print(\"Breush Pagan: \", BP)"
   ]
  },
  {
   "cell_type": "markdown",
   "id": "59577da2",
   "metadata": {},
   "source": [
    "<div class=\"alert alert-block alert-info\">\n",
    "<b>Hemos intentado arreglar el problema de heterocedasticidad, pero no lo hemos conseguido. Podemos ver que cuanto más lo intentamos arreglar, más va a empeorar la situación, ya que el p-valor nos sale cada vez más pequeño.</b>  \n",
    "</div>"
   ]
  },
  {
   "cell_type": "markdown",
   "id": "2d07eea4",
   "metadata": {},
   "source": [
    "# AUTOCORRELACIÓN"
   ]
  },
  {
   "cell_type": "code",
   "execution_count": 75,
   "id": "ac71a136",
   "metadata": {},
   "outputs": [
    {
     "name": "stdout",
     "output_type": "stream",
     "text": [
      "DW:  2.0075617343541197\n"
     ]
    }
   ],
   "source": [
    "from statsmodels.stats.stattools import durbin_watson\n",
    "dw=durbin_watson(results3.resid)\n",
    "print(\"DW: \", dw)"
   ]
  },
  {
   "cell_type": "markdown",
   "id": "86d917c5",
   "metadata": {},
   "source": [
    "<div class=\"alert alert-block alert-info\">\n",
    "<b>Como no hemos encontrado ninguna tabla con un número de muestras parecido al que usamos en nuestro modelo. Podemos deducir que cómo nos ha salido un número muy cercano a 2, no tenemos problema de autocorrelación en nuestro modelo.</b>  \n",
    "</div>"
   ]
  },
  {
   "cell_type": "markdown",
   "id": "4a05b76b",
   "metadata": {},
   "source": [
    "# CONCLUSIONES FINALES"
   ]
  },
  {
   "cell_type": "markdown",
   "id": "2a3716d2",
   "metadata": {},
   "source": [
    "Primeramente, vimos como aplicando el modelo inicial, nos daban unos valores que nos iban a complicar el desarrollo del modelo de predicción, por lo que decidimos optar por aplicarle logaritmos a nuestro modelo para que se nos \"suavizaran\" los resultados. Comparamos ambos modelos observando los valores del AIC y el BIC y, efectivamente, era mejor utilizar el modelo en el cual habíamos aplicado logaritmos.\n",
    "\n",
    "A continuación, empezamos a ver características del modelo como la significación individual de las variables, la significación global del modelo, los intervalos de confianza de las variables, los residuos, etc. También hicimos la estimación de la varianza de la perturbación aleatoria, así como una predicción con unos datos inventados. Indicando todos estos cálculos que nuestro modelo permitía unas buenas predicciones.\n",
    "\n",
    "Tras esto, estudiamos la multicolinealidad del modelo, y vimos que había un problema moderado al ver el valor que nos salía en el número condición (37.28), optamos por hacer la matriz de correlación, y vimos que había una gran relación entre *Number of Rooms* y *Number of Bedrooms*, cosa que tiene bastante sentido. Teníamos que desprendernos de una de ellas para intentar solucionar este problema de multicolinealidad, para seleccionarla, nos guiamos con las conclusiones que habíamos obtenido tanto de la significación individual como de los intervalos de confianza, siendo la seleccionada *Number of Bedrooms*. Si bien el problema no terminó de arreglarse, pudimos ver una cierta mejoría en su número de condición.\n",
    "\n",
    "Más adelante, hemos analizado si nuestros residuos seguían una distribución normal o no. Para ello, hemos hecho el test de Kolmogorov-Smirnov con el que hemos visto que nuestros residuos no seguían una distribución normal. Sin embargo, al hacer la gráfica de los residuos, hemos podido comprobar que, aunque se desvía en los extremos, en la mayoría de su recorrido los residuos siguen una distribución normal.\n",
    "\n",
    "El siguiente paso, fue ver si teníamos un problema de heterocedasticidad, para ello, utilizamos el contraste de Breusch-Pagan y White, donde comprobamos que el modelo tenía este problema. Para solucionarlo, hicimos el test de Glesjer de las diferentes variables y tratamos de mitigar el problema sin obtener un resultado positivo. \n",
    "\n",
    "Por último, comprobamos si teníamos un problema de autocorrelación, en este caso vimos que, tras hacer el test de Durbin-Watson, no teníamos problema alguno al ser este valor muy cercano al 2.\n",
    "\n",
    "Como conclusión, tras todas estas comprobaciones, podemos establecer que, si bien el modelo tiene algunos problemas leves de multicolinealidad o heterocedasticidad, en general, es un modelo consistente que nos ayudará a hacer unas predicciones sobre el precio de viviendas que en la mayoría de casos se acercarán mucho a la realidad."
   ]
  }
 ],
 "metadata": {
  "kernelspec": {
   "display_name": "Python 3 (ipykernel)",
   "language": "python",
   "name": "python3"
  },
  "language_info": {
   "codemirror_mode": {
    "name": "ipython",
    "version": 3
   },
   "file_extension": ".py",
   "mimetype": "text/x-python",
   "name": "python",
   "nbconvert_exporter": "python",
   "pygments_lexer": "ipython3",
   "version": "3.11.4"
  }
 },
 "nbformat": 4,
 "nbformat_minor": 5
}
