{
  "cells": [
    {
      "cell_type": "markdown",
      "metadata": {
        "id": "S0vGbMW9gZcU"
      },
      "source": [
        "# Práctica 2: Estimación e Inferencia en Modelos de Regresión Lineales"
      ]
    },
    {
      "cell_type": "markdown",
      "metadata": {
        "id": "tBo4QC_ygZca"
      },
      "source": [
        "## Cuestiones"
      ]
    },
    {
      "cell_type": "code",
      "execution_count": 2,
      "metadata": {
        "id": "u1MyU5t1gZca",
        "outputId": "dfbb6527-4e67-42a0-dd25-5522adc7e81d",
        "colab": {
          "base_uri": "https://localhost:8080/"
        }
      },
      "outputs": [
        {
          "output_type": "stream",
          "name": "stdout",
          "text": [
            "Collecting wooldridge\n",
            "  Downloading wooldridge-0.4.4-py3-none-any.whl (5.1 MB)\n",
            "\u001b[2K     \u001b[90m━━━━━━━━━━━━━━━━━━━━━━━━━━━━━━━━━━━━━━━━\u001b[0m \u001b[32m5.1/5.1 MB\u001b[0m \u001b[31m11.0 MB/s\u001b[0m eta \u001b[36m0:00:00\u001b[0m\n",
            "\u001b[?25hRequirement already satisfied: pandas in /usr/local/lib/python3.10/dist-packages (from wooldridge) (1.5.3)\n",
            "Requirement already satisfied: python-dateutil>=2.8.1 in /usr/local/lib/python3.10/dist-packages (from pandas->wooldridge) (2.8.2)\n",
            "Requirement already satisfied: pytz>=2020.1 in /usr/local/lib/python3.10/dist-packages (from pandas->wooldridge) (2023.3.post1)\n",
            "Requirement already satisfied: numpy>=1.21.0 in /usr/local/lib/python3.10/dist-packages (from pandas->wooldridge) (1.23.5)\n",
            "Requirement already satisfied: six>=1.5 in /usr/local/lib/python3.10/dist-packages (from python-dateutil>=2.8.1->pandas->wooldridge) (1.16.0)\n",
            "Installing collected packages: wooldridge\n",
            "Successfully installed wooldridge-0.4.4\n"
          ]
        }
      ],
      "source": [
        "import numpy as np\n",
        "import statsmodels.api as sm\n",
        "import statsmodels.formula.api as smf\n",
        "import matplotlib.pylab as plt\n",
        "!pip install wooldridge\n",
        "from wooldridge import *"
      ]
    },
    {
      "cell_type": "markdown",
      "metadata": {
        "id": "g0S_80mGgZcc"
      },
      "source": [
        "1. Utilizando la base de datos **hprice1**:\n",
        "    - Estimar el modelo $\\log {\\rm price} = \\beta_0 + \\beta_1 \\log {\\rm lotsize} + \\beta_2 \\log{\\rm sqrft} + \\beta_3 {\\rm bdrms} + u$. Interpretar los resultados obtenidos.\n",
        "    - Obtener la predicción de $\\log {\\rm price}$ cuando ${\\rm lotsize}=20000$, ${\\rm sqrft}=2500$ y ${\\rm bdrms}=4$.\n",
        "    - Para explicar la variación de ${\\rm price}$, se considera también el modelo: ${\\rm price} = \\beta^\\prime_0 + \\beta_1^\\prime {\\rm sqrtft} + \\beta_2^\\prime {\\rm bdrms} + u^\\prime$. ¿Que modelo es más útil?"
      ]
    },
    {
      "cell_type": "code",
      "source": [
        "dataWoo(\"hprice1\", description=True)"
      ],
      "metadata": {
        "id": "GmywGGY5gzz2",
        "outputId": "9488c6e9-22c3-4a4f-9a10-b8c74952d1e0",
        "colab": {
          "base_uri": "https://localhost:8080/"
        }
      },
      "execution_count": 3,
      "outputs": [
        {
          "output_type": "stream",
          "name": "stdout",
          "text": [
            "name of dataset: hprice1\n",
            "no of variables: 10\n",
            "no of observations: 88\n",
            "\n",
            "+----------+------------------------------+\n",
            "| variable | label                        |\n",
            "+----------+------------------------------+\n",
            "| price    | house price, $1000s          |\n",
            "| assess   | assessed value, $1000s       |\n",
            "| bdrms    | number of bdrms              |\n",
            "| lotsize  | size of lot in square feet   |\n",
            "| sqrft    | size of house in square feet |\n",
            "| colonial | =1 if home is colonial style |\n",
            "| lprice   | log(price)                   |\n",
            "| lassess  | log(assess                   |\n",
            "| llotsize | log(lotsize)                 |\n",
            "| lsqrft   | log(sqrft)                   |\n",
            "+----------+------------------------------+\n",
            "\n",
            "Collected from the real estate pages of the Boston Globe during 1990.\n",
            "These are homes that sold in the Boston, MA area.\n"
          ]
        }
      ]
    },
    {
      "cell_type": "code",
      "execution_count": 16,
      "metadata": {
        "id": "aLbdnuyfgZcd",
        "outputId": "b754faaa-a216-4654-8f50-7a8051019353",
        "colab": {
          "base_uri": "https://localhost:8080/",
          "height": 99
        }
      },
      "outputs": [
        {
          "output_type": "stream",
          "name": "stdout",
          "text": [
            "[5.99289846] [400.5739777]\n"
          ]
        },
        {
          "output_type": "execute_result",
          "data": {
            "text/plain": [
              "       mean   mean_se  mean_ci_lower  mean_ci_upper  obs_ci_lower  \\\n",
              "0  5.992898  0.042142       5.909094       6.076702      5.616352   \n",
              "\n",
              "   obs_ci_upper  \n",
              "0      6.369445  "
            ],
            "text/html": [
              "\n",
              "  <div id=\"df-602c8a8f-7efe-44bc-98de-6853d6b91425\" class=\"colab-df-container\">\n",
              "    <div>\n",
              "<style scoped>\n",
              "    .dataframe tbody tr th:only-of-type {\n",
              "        vertical-align: middle;\n",
              "    }\n",
              "\n",
              "    .dataframe tbody tr th {\n",
              "        vertical-align: top;\n",
              "    }\n",
              "\n",
              "    .dataframe thead th {\n",
              "        text-align: right;\n",
              "    }\n",
              "</style>\n",
              "<table border=\"1\" class=\"dataframe\">\n",
              "  <thead>\n",
              "    <tr style=\"text-align: right;\">\n",
              "      <th></th>\n",
              "      <th>mean</th>\n",
              "      <th>mean_se</th>\n",
              "      <th>mean_ci_lower</th>\n",
              "      <th>mean_ci_upper</th>\n",
              "      <th>obs_ci_lower</th>\n",
              "      <th>obs_ci_upper</th>\n",
              "    </tr>\n",
              "  </thead>\n",
              "  <tbody>\n",
              "    <tr>\n",
              "      <th>0</th>\n",
              "      <td>5.992898</td>\n",
              "      <td>0.042142</td>\n",
              "      <td>5.909094</td>\n",
              "      <td>6.076702</td>\n",
              "      <td>5.616352</td>\n",
              "      <td>6.369445</td>\n",
              "    </tr>\n",
              "  </tbody>\n",
              "</table>\n",
              "</div>\n",
              "    <div class=\"colab-df-buttons\">\n",
              "\n",
              "  <div class=\"colab-df-container\">\n",
              "    <button class=\"colab-df-convert\" onclick=\"convertToInteractive('df-602c8a8f-7efe-44bc-98de-6853d6b91425')\"\n",
              "            title=\"Convert this dataframe to an interactive table.\"\n",
              "            style=\"display:none;\">\n",
              "\n",
              "  <svg xmlns=\"http://www.w3.org/2000/svg\" height=\"24px\" viewBox=\"0 -960 960 960\">\n",
              "    <path d=\"M120-120v-720h720v720H120Zm60-500h600v-160H180v160Zm220 220h160v-160H400v160Zm0 220h160v-160H400v160ZM180-400h160v-160H180v160Zm440 0h160v-160H620v160ZM180-180h160v-160H180v160Zm440 0h160v-160H620v160Z\"/>\n",
              "  </svg>\n",
              "    </button>\n",
              "\n",
              "  <style>\n",
              "    .colab-df-container {\n",
              "      display:flex;\n",
              "      gap: 12px;\n",
              "    }\n",
              "\n",
              "    .colab-df-convert {\n",
              "      background-color: #E8F0FE;\n",
              "      border: none;\n",
              "      border-radius: 50%;\n",
              "      cursor: pointer;\n",
              "      display: none;\n",
              "      fill: #1967D2;\n",
              "      height: 32px;\n",
              "      padding: 0 0 0 0;\n",
              "      width: 32px;\n",
              "    }\n",
              "\n",
              "    .colab-df-convert:hover {\n",
              "      background-color: #E2EBFA;\n",
              "      box-shadow: 0px 1px 2px rgba(60, 64, 67, 0.3), 0px 1px 3px 1px rgba(60, 64, 67, 0.15);\n",
              "      fill: #174EA6;\n",
              "    }\n",
              "\n",
              "    .colab-df-buttons div {\n",
              "      margin-bottom: 4px;\n",
              "    }\n",
              "\n",
              "    [theme=dark] .colab-df-convert {\n",
              "      background-color: #3B4455;\n",
              "      fill: #D2E3FC;\n",
              "    }\n",
              "\n",
              "    [theme=dark] .colab-df-convert:hover {\n",
              "      background-color: #434B5C;\n",
              "      box-shadow: 0px 1px 3px 1px rgba(0, 0, 0, 0.15);\n",
              "      filter: drop-shadow(0px 1px 2px rgba(0, 0, 0, 0.3));\n",
              "      fill: #FFFFFF;\n",
              "    }\n",
              "  </style>\n",
              "\n",
              "    <script>\n",
              "      const buttonEl =\n",
              "        document.querySelector('#df-602c8a8f-7efe-44bc-98de-6853d6b91425 button.colab-df-convert');\n",
              "      buttonEl.style.display =\n",
              "        google.colab.kernel.accessAllowed ? 'block' : 'none';\n",
              "\n",
              "      async function convertToInteractive(key) {\n",
              "        const element = document.querySelector('#df-602c8a8f-7efe-44bc-98de-6853d6b91425');\n",
              "        const dataTable =\n",
              "          await google.colab.kernel.invokeFunction('convertToInteractive',\n",
              "                                                    [key], {});\n",
              "        if (!dataTable) return;\n",
              "\n",
              "        const docLinkHtml = 'Like what you see? Visit the ' +\n",
              "          '<a target=\"_blank\" href=https://colab.research.google.com/notebooks/data_table.ipynb>data table notebook</a>'\n",
              "          + ' to learn more about interactive tables.';\n",
              "        element.innerHTML = '';\n",
              "        dataTable['output_type'] = 'display_data';\n",
              "        await google.colab.output.renderOutput(dataTable, element);\n",
              "        const docLink = document.createElement('div');\n",
              "        docLink.innerHTML = docLinkHtml;\n",
              "        element.appendChild(docLink);\n",
              "      }\n",
              "    </script>\n",
              "  </div>\n",
              "\n",
              "    </div>\n",
              "  </div>\n"
            ]
          },
          "metadata": {},
          "execution_count": 16
        }
      ],
      "source": [
        "datos=dataWoo(\"hprice1\")\n",
        "y=datos[\"lprice\"]\n",
        "X=datos[[\"llotsize\", \"lsqrft\", \"bdrms\"]]\n",
        "\n",
        "mco1 = sm.OLS(y, sm.add_constant(X)).fit()\n",
        "mco1.summary()\n",
        "\n",
        "x0=[1, np.log(20000), np.log(2500), 4]\n",
        "y0=mco1.predict(exog=x0)\n",
        "\n",
        "print(y0, np.exp(y0))\n",
        "\n",
        "predictions = mco1.get_prediction(x0)\n",
        "predictions.summary_frame(alpha=0.05)\n",
        "\n",
        "#np.exp(predictions.summary_frame(alpha=0.05).mean_ci_lower), np.exp(predictions.summary_frame(alpha=0.05).mean_ci_upper)"
      ]
    },
    {
      "cell_type": "code",
      "source": [
        "mco1.summary()"
      ],
      "metadata": {
        "id": "h55bSMNFkd48",
        "outputId": "f8f78690-7b7b-44e1-a01c-a36217760454",
        "colab": {
          "base_uri": "https://localhost:8080/",
          "height": 490
        }
      },
      "execution_count": 18,
      "outputs": [
        {
          "output_type": "execute_result",
          "data": {
            "text/plain": [
              "<class 'statsmodels.iolib.summary.Summary'>\n",
              "\"\"\"\n",
              "                            OLS Regression Results                            \n",
              "==============================================================================\n",
              "Dep. Variable:                 lprice   R-squared:                       0.643\n",
              "Model:                            OLS   Adj. R-squared:                  0.630\n",
              "Method:                 Least Squares   F-statistic:                     50.42\n",
              "Date:                Tue, 24 Oct 2023   Prob (F-statistic):           9.74e-19\n",
              "Time:                        07:24:00   Log-Likelihood:                 25.861\n",
              "No. Observations:                  88   AIC:                            -43.72\n",
              "Df Residuals:                      84   BIC:                            -33.81\n",
              "Df Model:                           3                                         \n",
              "Covariance Type:            nonrobust                                         \n",
              "==============================================================================\n",
              "                 coef    std err          t      P>|t|      [0.025      0.975]\n",
              "------------------------------------------------------------------------------\n",
              "const         -1.2970      0.651     -1.992      0.050      -2.592      -0.002\n",
              "llotsize       0.1680      0.038      4.388      0.000       0.092       0.244\n",
              "lsqrft         0.7002      0.093      7.540      0.000       0.516       0.885\n",
              "bdrms          0.0370      0.028      1.342      0.183      -0.018       0.092\n",
              "==============================================================================\n",
              "Omnibus:                       12.060   Durbin-Watson:                   2.089\n",
              "Prob(Omnibus):                  0.002   Jarque-Bera (JB):               34.889\n",
              "Skew:                          -0.188   Prob(JB):                     2.65e-08\n",
              "Kurtosis:                       6.062   Cond. No.                         410.\n",
              "==============================================================================\n",
              "\n",
              "Notes:\n",
              "[1] Standard Errors assume that the covariance matrix of the errors is correctly specified.\n",
              "\"\"\""
            ],
            "text/html": [
              "<table class=\"simpletable\">\n",
              "<caption>OLS Regression Results</caption>\n",
              "<tr>\n",
              "  <th>Dep. Variable:</th>         <td>lprice</td>      <th>  R-squared:         </th> <td>   0.643</td>\n",
              "</tr>\n",
              "<tr>\n",
              "  <th>Model:</th>                   <td>OLS</td>       <th>  Adj. R-squared:    </th> <td>   0.630</td>\n",
              "</tr>\n",
              "<tr>\n",
              "  <th>Method:</th>             <td>Least Squares</td>  <th>  F-statistic:       </th> <td>   50.42</td>\n",
              "</tr>\n",
              "<tr>\n",
              "  <th>Date:</th>             <td>Tue, 24 Oct 2023</td> <th>  Prob (F-statistic):</th> <td>9.74e-19</td>\n",
              "</tr>\n",
              "<tr>\n",
              "  <th>Time:</th>                 <td>07:24:00</td>     <th>  Log-Likelihood:    </th> <td>  25.861</td>\n",
              "</tr>\n",
              "<tr>\n",
              "  <th>No. Observations:</th>      <td>    88</td>      <th>  AIC:               </th> <td>  -43.72</td>\n",
              "</tr>\n",
              "<tr>\n",
              "  <th>Df Residuals:</th>          <td>    84</td>      <th>  BIC:               </th> <td>  -33.81</td>\n",
              "</tr>\n",
              "<tr>\n",
              "  <th>Df Model:</th>              <td>     3</td>      <th>                     </th>     <td> </td>   \n",
              "</tr>\n",
              "<tr>\n",
              "  <th>Covariance Type:</th>      <td>nonrobust</td>    <th>                     </th>     <td> </td>   \n",
              "</tr>\n",
              "</table>\n",
              "<table class=\"simpletable\">\n",
              "<tr>\n",
              "      <td></td>        <th>coef</th>     <th>std err</th>      <th>t</th>      <th>P>|t|</th>  <th>[0.025</th>    <th>0.975]</th>  \n",
              "</tr>\n",
              "<tr>\n",
              "  <th>const</th>    <td>   -1.2970</td> <td>    0.651</td> <td>   -1.992</td> <td> 0.050</td> <td>   -2.592</td> <td>   -0.002</td>\n",
              "</tr>\n",
              "<tr>\n",
              "  <th>llotsize</th> <td>    0.1680</td> <td>    0.038</td> <td>    4.388</td> <td> 0.000</td> <td>    0.092</td> <td>    0.244</td>\n",
              "</tr>\n",
              "<tr>\n",
              "  <th>lsqrft</th>   <td>    0.7002</td> <td>    0.093</td> <td>    7.540</td> <td> 0.000</td> <td>    0.516</td> <td>    0.885</td>\n",
              "</tr>\n",
              "<tr>\n",
              "  <th>bdrms</th>    <td>    0.0370</td> <td>    0.028</td> <td>    1.342</td> <td> 0.183</td> <td>   -0.018</td> <td>    0.092</td>\n",
              "</tr>\n",
              "</table>\n",
              "<table class=\"simpletable\">\n",
              "<tr>\n",
              "  <th>Omnibus:</th>       <td>12.060</td> <th>  Durbin-Watson:     </th> <td>   2.089</td>\n",
              "</tr>\n",
              "<tr>\n",
              "  <th>Prob(Omnibus):</th> <td> 0.002</td> <th>  Jarque-Bera (JB):  </th> <td>  34.889</td>\n",
              "</tr>\n",
              "<tr>\n",
              "  <th>Skew:</th>          <td>-0.188</td> <th>  Prob(JB):          </th> <td>2.65e-08</td>\n",
              "</tr>\n",
              "<tr>\n",
              "  <th>Kurtosis:</th>      <td> 6.062</td> <th>  Cond. No.          </th> <td>    410.</td>\n",
              "</tr>\n",
              "</table><br/><br/>Notes:<br/>[1] Standard Errors assume that the covariance matrix of the errors is correctly specified."
            ],
            "text/latex": "\\begin{center}\n\\begin{tabular}{lclc}\n\\toprule\n\\textbf{Dep. Variable:}    &      lprice      & \\textbf{  R-squared:         } &     0.643   \\\\\n\\textbf{Model:}            &       OLS        & \\textbf{  Adj. R-squared:    } &     0.630   \\\\\n\\textbf{Method:}           &  Least Squares   & \\textbf{  F-statistic:       } &     50.42   \\\\\n\\textbf{Date:}             & Tue, 24 Oct 2023 & \\textbf{  Prob (F-statistic):} &  9.74e-19   \\\\\n\\textbf{Time:}             &     07:24:00     & \\textbf{  Log-Likelihood:    } &    25.861   \\\\\n\\textbf{No. Observations:} &          88      & \\textbf{  AIC:               } &    -43.72   \\\\\n\\textbf{Df Residuals:}     &          84      & \\textbf{  BIC:               } &    -33.81   \\\\\n\\textbf{Df Model:}         &           3      & \\textbf{                     } &             \\\\\n\\textbf{Covariance Type:}  &    nonrobust     & \\textbf{                     } &             \\\\\n\\bottomrule\n\\end{tabular}\n\\begin{tabular}{lcccccc}\n                  & \\textbf{coef} & \\textbf{std err} & \\textbf{t} & \\textbf{P$> |$t$|$} & \\textbf{[0.025} & \\textbf{0.975]}  \\\\\n\\midrule\n\\textbf{const}    &      -1.2970  &        0.651     &    -1.992  &         0.050        &       -2.592    &       -0.002     \\\\\n\\textbf{llotsize} &       0.1680  &        0.038     &     4.388  &         0.000        &        0.092    &        0.244     \\\\\n\\textbf{lsqrft}   &       0.7002  &        0.093     &     7.540  &         0.000        &        0.516    &        0.885     \\\\\n\\textbf{bdrms}    &       0.0370  &        0.028     &     1.342  &         0.183        &       -0.018    &        0.092     \\\\\n\\bottomrule\n\\end{tabular}\n\\begin{tabular}{lclc}\n\\textbf{Omnibus:}       & 12.060 & \\textbf{  Durbin-Watson:     } &    2.089  \\\\\n\\textbf{Prob(Omnibus):} &  0.002 & \\textbf{  Jarque-Bera (JB):  } &   34.889  \\\\\n\\textbf{Skew:}          & -0.188 & \\textbf{  Prob(JB):          } & 2.65e-08  \\\\\n\\textbf{Kurtosis:}      &  6.062 & \\textbf{  Cond. No.          } &     410.  \\\\\n\\bottomrule\n\\end{tabular}\n%\\caption{OLS Regression Results}\n\\end{center}\n\nNotes: \\newline\n [1] Standard Errors assume that the covariance matrix of the errors is correctly specified."
          },
          "metadata": {},
          "execution_count": 18
        }
      ]
    },
    {
      "cell_type": "code",
      "execution_count": 17,
      "metadata": {
        "id": "R9tEBDxqgZce",
        "outputId": "c12c7b39-1ab9-479f-8336-1867f488fa5f",
        "colab": {
          "base_uri": "https://localhost:8080/"
        }
      },
      "outputs": [
        {
          "output_type": "stream",
          "name": "stdout",
          "text": [
            "                            OLS Regression Results                            \n",
            "==============================================================================\n",
            "Dep. Variable:                  price   R-squared:                       0.632\n",
            "Model:                            OLS   Adj. R-squared:                  0.623\n",
            "Method:                 Least Squares   F-statistic:                     72.96\n",
            "Date:                Tue, 24 Oct 2023   Prob (F-statistic):           3.57e-19\n",
            "Time:                        07:21:59   Log-Likelihood:                -488.00\n",
            "No. Observations:                  88   AIC:                             982.0\n",
            "Df Residuals:                      85   BIC:                             989.4\n",
            "Df Model:                           2                                         \n",
            "Covariance Type:            nonrobust                                         \n",
            "==============================================================================\n",
            "                 coef    std err          t      P>|t|      [0.025      0.975]\n",
            "------------------------------------------------------------------------------\n",
            "const        -19.3150     31.047     -0.622      0.536     -81.044      42.414\n",
            "sqrft          0.1284      0.014      9.291      0.000       0.101       0.156\n",
            "bdrms         15.1982      9.484      1.603      0.113      -3.658      34.054\n",
            "==============================================================================\n",
            "Omnibus:                       25.221   Durbin-Watson:                   1.858\n",
            "Prob(Omnibus):                  0.000   Jarque-Bera (JB):               44.973\n",
            "Skew:                           1.122   Prob(JB):                     1.72e-10\n",
            "Kurtosis:                       5.689   Cond. No.                     9.85e+03\n",
            "==============================================================================\n",
            "\n",
            "Notes:\n",
            "[1] Standard Errors assume that the covariance matrix of the errors is correctly specified.\n",
            "[2] The condition number is large, 9.85e+03. This might indicate that there are\n",
            "strong multicollinearity or other numerical problems.\n",
            "AIC1:  -43.72132133338272 AIC2:  981.9977734399669\n",
            "BIC1:  -33.81197407546989 BIC2:  989.4297838834015\n"
          ]
        }
      ],
      "source": [
        "y1=datos[\"price\"]\n",
        "X1=datos[[\"sqrft\", \"bdrms\"]]\n",
        "\n",
        "mco2 = sm.OLS(y1, sm.add_constant(X1)).fit()\n",
        "print(mco2.summary())\n",
        "\n",
        "\n",
        "print(\"AIC1: \", mco1.aic, \"AIC2: \", mco2.aic)\n",
        "print(\"BIC1: \", mco1.bic, \"BIC2: \", mco2.bic)"
      ]
    },
    {
      "cell_type": "markdown",
      "metadata": {
        "id": "BBbmE_fdgZcf"
      },
      "source": [
        "\n",
        "\n",
        "\n",
        "\n",
        "\n",
        "\n",
        "3. Con los datos disponibles en **mlb1** se pretende analizar el efecto de diversas características de los jugadores de la liga de béisbol americana en su salario. Se propone el siguiente modelo:\n",
        "$$\n",
        "\\log (salary) = \\beta_0 + \\beta_1 years + \\beta_2 gamesyr + \\beta_3 bavg + \\beta_4 hrunsyr + \\beta_5 rbisyr + \\beta_6 runsyr + \\beta_7 fldperc + \\beta_8 allstar + \\beta_9 black + \\beta_{10} hispan + \\beta_{11} black \\times percblck + \\beta_{12} hispan \\times perchisp + u\n",
        "$$\n",
        "    - Estimar el modelo.\n",
        "    - ¿Son las variables $black$, $hispan$, $black\\times percblck$ y $hispan\\times perchisp$ conjuntamente significativas?\n",
        "    - ¿Cómo interpretarías los coeficientes de las variables \"raciales\"?\n",
        "    \n",
        "    \n",
        "    \n",
        "    \n",
        "    \n",
        "    \n",
        "    "
      ]
    },
    {
      "cell_type": "code",
      "execution_count": null,
      "metadata": {
        "id": "p3SP2bG-gZcf"
      },
      "outputs": [],
      "source": [
        "datos=dataWoo(\"mlb1\")\n",
        "#print(len(datos))\n",
        "#datos=datos.dropna(subset=['blckpb'])#para quitar valores faltantes en la variable 'blckpb'\n",
        "#print(len(datos))"
      ]
    },
    {
      "cell_type": "code",
      "execution_count": null,
      "metadata": {
        "id": "VEYBYvaAgZcg"
      },
      "outputs": [],
      "source": [
        "#dataWoo(\"mlb1\", description=True)\n",
        "datos=dataWoo(\"mlb1\")\n",
        "\n",
        "datos=datos.dropna(subset=['blckpb'])#para quitar valores faltantes en la variable 'blckpb'\n",
        "y=datos['lsalary']\n",
        "X=datos[['years', 'gamesyr', 'bavg', 'hrunsyr', 'rbisyr', 'runsyr', 'fldperc', 'allstar', 'black', 'hispan', 'blckpb', 'hispph']]\n",
        "\n",
        "mco4 = sm.OLS(y, sm.add_constant(X)).fit()\n",
        "\n",
        "mco4.summary()"
      ]
    },
    {
      "cell_type": "code",
      "execution_count": null,
      "metadata": {
        "id": "r9tiiBIrgZcg"
      },
      "outputs": [],
      "source": [
        "R=[[0,0,0,0,0,0,0,0,0,1,0,0,0], [0,0,0,0,0,0,0,0,0,0,1,0,0], [0,0,0,0,0,0,0,0,0,0,0,1,0], [0,0,0,0,0,0,0,0,0,0,0,0,1]]\n",
        "mco4.f_test(R).summary()"
      ]
    },
    {
      "cell_type": "markdown",
      "metadata": {
        "id": "cR6bJro2gZch"
      },
      "source": [
        "4. Utilizar los datos de **gpa3** para analizar los promedios generales de calificaciones ($cumgpa$) de atletas universitarios en base a la puntuación del examen de acceso a la universidad ($sat$), el percentil alcanzado en bachiller ($hsperc$) y las horas de cursos universitarios ($totrs$):\n",
        "$$\n",
        "cumgpa = \\beta_0 + \\beta_1 sat + \\beta_2 hsperc + \\beta_3 tothrs + u\n",
        "$$\n",
        "    - Estimar el modelo anterior e interpreta los resultados.\n",
        "    - ¿Está el modelo adecuadamente espeficicado de forma lineal según los tests de Harvey-Collier y RESET de Ramsey?\n",
        "    - Para determinar si hay diferencias en las calificaciones entre hombres y mujeres del modelo anterior, considera el modelo con interacciones:\n",
        "    $$\n",
        "cumgpa = \\delta_0 + \\delta_1 sat + \\delta_2 hsperc + \\delta_3 tothrs + \\delta_4 female + \\delta_5 female\\times sat + \\delta_6 female \\times hsperc + \\delta_7 female \\times tothrs +  u\n",
        "$$  \n",
        "Estima el modelo e interpreta los coeficientes obtenidos.\n",
        "    - Contrasta la hipótesis $H_0: \\delta_4=\\delta_5=\\delta_6=\\delta_7=0$. ¿Qué se puede deducir de lo obtenido?"
      ]
    },
    {
      "cell_type": "code",
      "execution_count": null,
      "metadata": {
        "scrolled": true,
        "id": "bwfj27tEgZch",
        "outputId": "4f64e5ce-18ad-46ef-ef48-99c4522e705c"
      },
      "outputs": [
        {
          "data": {
            "text/html": [
              "<table class=\"simpletable\">\n",
              "<caption>OLS Regression Results</caption>\n",
              "<tr>\n",
              "  <th>Dep. Variable:</th>         <td>cumgpa</td>      <th>  R-squared:         </th> <td>   0.254</td>\n",
              "</tr>\n",
              "<tr>\n",
              "  <th>Model:</th>                   <td>OLS</td>       <th>  Adj. R-squared:    </th> <td>   0.246</td>\n",
              "</tr>\n",
              "<tr>\n",
              "  <th>Method:</th>             <td>Least Squares</td>  <th>  F-statistic:       </th> <td>   35.15</td>\n",
              "</tr>\n",
              "<tr>\n",
              "  <th>Date:</th>             <td>Sun, 22 Oct 2023</td> <th>  Prob (F-statistic):</th> <td>2.54e-42</td>\n",
              "</tr>\n",
              "<tr>\n",
              "  <th>Time:</th>                 <td>16:44:29</td>     <th>  Log-Likelihood:    </th> <td> -923.44</td>\n",
              "</tr>\n",
              "<tr>\n",
              "  <th>No. Observations:</th>      <td>   732</td>      <th>  AIC:               </th> <td>   1863.</td>\n",
              "</tr>\n",
              "<tr>\n",
              "  <th>Df Residuals:</th>          <td>   724</td>      <th>  BIC:               </th> <td>   1900.</td>\n",
              "</tr>\n",
              "<tr>\n",
              "  <th>Df Model:</th>              <td>     7</td>      <th>                     </th>     <td> </td>   \n",
              "</tr>\n",
              "<tr>\n",
              "  <th>Covariance Type:</th>      <td>nonrobust</td>    <th>                     </th>     <td> </td>   \n",
              "</tr>\n",
              "</table>\n",
              "<table class=\"simpletable\">\n",
              "<tr>\n",
              "     <td></td>       <th>coef</th>     <th>std err</th>      <th>t</th>      <th>P>|t|</th>  <th>[0.025</th>    <th>0.975]</th>  \n",
              "</tr>\n",
              "<tr>\n",
              "  <th>const</th>  <td>    1.2140</td> <td>    0.265</td> <td>    4.584</td> <td> 0.000</td> <td>    0.694</td> <td>    1.734</td>\n",
              "</tr>\n",
              "<tr>\n",
              "  <th>sat</th>    <td>    0.0006</td> <td>    0.000</td> <td>    2.601</td> <td> 0.009</td> <td>    0.000</td> <td>    0.001</td>\n",
              "</tr>\n",
              "<tr>\n",
              "  <th>hsperc</th> <td>   -0.0060</td> <td>    0.002</td> <td>   -3.359</td> <td> 0.001</td> <td>   -0.009</td> <td>   -0.002</td>\n",
              "</tr>\n",
              "<tr>\n",
              "  <th>tothrs</th> <td>    0.0103</td> <td>    0.001</td> <td>    9.425</td> <td> 0.000</td> <td>    0.008</td> <td>    0.012</td>\n",
              "</tr>\n",
              "<tr>\n",
              "  <th>female</th> <td>   -1.1136</td> <td>    0.529</td> <td>   -2.107</td> <td> 0.035</td> <td>   -2.151</td> <td>   -0.076</td>\n",
              "</tr>\n",
              "<tr>\n",
              "  <th>fsat</th>   <td>    0.0011</td> <td>    0.001</td> <td>    2.233</td> <td> 0.026</td> <td>    0.000</td> <td>    0.002</td>\n",
              "</tr>\n",
              "<tr>\n",
              "  <th>fhperc</th> <td> 5.076e-05</td> <td>    0.004</td> <td>    0.012</td> <td> 0.990</td> <td>   -0.008</td> <td>    0.008</td>\n",
              "</tr>\n",
              "<tr>\n",
              "  <th>ftot</th>   <td>    0.0056</td> <td>    0.002</td> <td>    2.686</td> <td> 0.007</td> <td>    0.001</td> <td>    0.010</td>\n",
              "</tr>\n",
              "</table>\n",
              "<table class=\"simpletable\">\n",
              "<tr>\n",
              "  <th>Omnibus:</th>       <td>11.900</td> <th>  Durbin-Watson:     </th> <td>   2.021</td>\n",
              "</tr>\n",
              "<tr>\n",
              "  <th>Prob(Omnibus):</th> <td> 0.003</td> <th>  Jarque-Bera (JB):  </th> <td>  19.881</td>\n",
              "</tr>\n",
              "<tr>\n",
              "  <th>Skew:</th>          <td> 0.043</td> <th>  Prob(JB):          </th> <td>4.82e-05</td>\n",
              "</tr>\n",
              "<tr>\n",
              "  <th>Kurtosis:</th>      <td> 3.803</td> <th>  Cond. No.          </th> <td>1.64e+04</td>\n",
              "</tr>\n",
              "</table><br/><br/>Notes:<br/>[1] Standard Errors assume that the covariance matrix of the errors is correctly specified.<br/>[2] The condition number is large, 1.64e+04. This might indicate that there are<br/>strong multicollinearity or other numerical problems."
            ],
            "text/latex": [
              "\\begin{center}\n",
              "\\begin{tabular}{lclc}\n",
              "\\toprule\n",
              "\\textbf{Dep. Variable:}    &      cumgpa      & \\textbf{  R-squared:         } &     0.254   \\\\\n",
              "\\textbf{Model:}            &       OLS        & \\textbf{  Adj. R-squared:    } &     0.246   \\\\\n",
              "\\textbf{Method:}           &  Least Squares   & \\textbf{  F-statistic:       } &     35.15   \\\\\n",
              "\\textbf{Date:}             & Sun, 22 Oct 2023 & \\textbf{  Prob (F-statistic):} &  2.54e-42   \\\\\n",
              "\\textbf{Time:}             &     16:44:29     & \\textbf{  Log-Likelihood:    } &   -923.44   \\\\\n",
              "\\textbf{No. Observations:} &         732      & \\textbf{  AIC:               } &     1863.   \\\\\n",
              "\\textbf{Df Residuals:}     &         724      & \\textbf{  BIC:               } &     1900.   \\\\\n",
              "\\textbf{Df Model:}         &           7      & \\textbf{                     } &             \\\\\n",
              "\\textbf{Covariance Type:}  &    nonrobust     & \\textbf{                     } &             \\\\\n",
              "\\bottomrule\n",
              "\\end{tabular}\n",
              "\\begin{tabular}{lcccccc}\n",
              "                & \\textbf{coef} & \\textbf{std err} & \\textbf{t} & \\textbf{P$> |$t$|$} & \\textbf{[0.025} & \\textbf{0.975]}  \\\\\n",
              "\\midrule\n",
              "\\textbf{const}  &       1.2140  &        0.265     &     4.584  &         0.000        &        0.694    &        1.734     \\\\\n",
              "\\textbf{sat}    &       0.0006  &        0.000     &     2.601  &         0.009        &        0.000    &        0.001     \\\\\n",
              "\\textbf{hsperc} &      -0.0060  &        0.002     &    -3.359  &         0.001        &       -0.009    &       -0.002     \\\\\n",
              "\\textbf{tothrs} &       0.0103  &        0.001     &     9.425  &         0.000        &        0.008    &        0.012     \\\\\n",
              "\\textbf{female} &      -1.1136  &        0.529     &    -2.107  &         0.035        &       -2.151    &       -0.076     \\\\\n",
              "\\textbf{fsat}   &       0.0011  &        0.001     &     2.233  &         0.026        &        0.000    &        0.002     \\\\\n",
              "\\textbf{fhperc} &    5.076e-05  &        0.004     &     0.012  &         0.990        &       -0.008    &        0.008     \\\\\n",
              "\\textbf{ftot}   &       0.0056  &        0.002     &     2.686  &         0.007        &        0.001    &        0.010     \\\\\n",
              "\\bottomrule\n",
              "\\end{tabular}\n",
              "\\begin{tabular}{lclc}\n",
              "\\textbf{Omnibus:}       & 11.900 & \\textbf{  Durbin-Watson:     } &    2.021  \\\\\n",
              "\\textbf{Prob(Omnibus):} &  0.003 & \\textbf{  Jarque-Bera (JB):  } &   19.881  \\\\\n",
              "\\textbf{Skew:}          &  0.043 & \\textbf{  Prob(JB):          } & 4.82e-05  \\\\\n",
              "\\textbf{Kurtosis:}      &  3.803 & \\textbf{  Cond. No.          } & 1.64e+04  \\\\\n",
              "\\bottomrule\n",
              "\\end{tabular}\n",
              "%\\caption{OLS Regression Results}\n",
              "\\end{center}\n",
              "\n",
              "Notes: \\newline\n",
              " [1] Standard Errors assume that the covariance matrix of the errors is correctly specified. \\newline\n",
              " [2] The condition number is large, 1.64e+04. This might indicate that there are \\newline\n",
              " strong multicollinearity or other numerical problems."
            ],
            "text/plain": [
              "<class 'statsmodels.iolib.summary.Summary'>\n",
              "\"\"\"\n",
              "                            OLS Regression Results                            \n",
              "==============================================================================\n",
              "Dep. Variable:                 cumgpa   R-squared:                       0.254\n",
              "Model:                            OLS   Adj. R-squared:                  0.246\n",
              "Method:                 Least Squares   F-statistic:                     35.15\n",
              "Date:                Sun, 22 Oct 2023   Prob (F-statistic):           2.54e-42\n",
              "Time:                        16:44:29   Log-Likelihood:                -923.44\n",
              "No. Observations:                 732   AIC:                             1863.\n",
              "Df Residuals:                     724   BIC:                             1900.\n",
              "Df Model:                           7                                         \n",
              "Covariance Type:            nonrobust                                         \n",
              "==============================================================================\n",
              "                 coef    std err          t      P>|t|      [0.025      0.975]\n",
              "------------------------------------------------------------------------------\n",
              "const          1.2140      0.265      4.584      0.000       0.694       1.734\n",
              "sat            0.0006      0.000      2.601      0.009       0.000       0.001\n",
              "hsperc        -0.0060      0.002     -3.359      0.001      -0.009      -0.002\n",
              "tothrs         0.0103      0.001      9.425      0.000       0.008       0.012\n",
              "female        -1.1136      0.529     -2.107      0.035      -2.151      -0.076\n",
              "fsat           0.0011      0.001      2.233      0.026       0.000       0.002\n",
              "fhperc      5.076e-05      0.004      0.012      0.990      -0.008       0.008\n",
              "ftot           0.0056      0.002      2.686      0.007       0.001       0.010\n",
              "==============================================================================\n",
              "Omnibus:                       11.900   Durbin-Watson:                   2.021\n",
              "Prob(Omnibus):                  0.003   Jarque-Bera (JB):               19.881\n",
              "Skew:                           0.043   Prob(JB):                     4.82e-05\n",
              "Kurtosis:                       3.803   Cond. No.                     1.64e+04\n",
              "==============================================================================\n",
              "\n",
              "Notes:\n",
              "[1] Standard Errors assume that the covariance matrix of the errors is correctly specified.\n",
              "[2] The condition number is large, 1.64e+04. This might indicate that there are\n",
              "strong multicollinearity or other numerical problems.\n",
              "\"\"\""
            ]
          },
          "execution_count": 11,
          "metadata": {},
          "output_type": "execute_result"
        }
      ],
      "source": [
        "#dataWoo(\"gpa3\", description=True)\n",
        "\n",
        "datos=dataWoo(\"gpa3\")\n",
        "\n",
        "y=datos[\"cumgpa\"]\n",
        "X=datos[[\"sat\", \"hsperc\", \"tothrs\"]]\n",
        "\n",
        "mco5 = sm.OLS(y, sm.add_constant(X)).fit()\n",
        "\n",
        "mco5.summary()\n",
        "\n",
        "\n",
        "\n",
        "datos[\"fsat\"]=datos[\"female\"]*datos[\"sat\"]\n",
        "datos[\"fhperc\"]=datos[\"female\"]*datos[\"hsperc\"]\n",
        "datos[\"ftot\"]=datos[\"female\"]*datos[\"tothrs\"]\n",
        "\n",
        "\n",
        "#datos[[\"female\", \"sat\", \"hsperc\", \"tothrs\", \"fsat\", \"fhperc\", \"ftot\"]]\n",
        "\n",
        "y1=datos[\"cumgpa\"]\n",
        "X1=datos[[\"sat\", \"hsperc\", \"tothrs\", \"female\", \"fsat\", \"fhperc\", \"ftot\"]]\n",
        "\n",
        "mco6 = sm.OLS(y1, sm.add_constant(X1)).fit()\n",
        "\n",
        "mco6.summary()"
      ]
    },
    {
      "cell_type": "markdown",
      "metadata": {
        "id": "gWrcA_QJgZch"
      },
      "source": [
        "5. Usando los datos de **sleep75**, y sabiendo que el modelo de interés es:\n",
        "$$\n",
        "sleep = \\beta_0 + \\beta_1 totwrk + \\beta_2 educ + \\beta_3 age + \\beta_4 age^2 + \\beta_5 yngkid + u\n",
        "$$\n",
        "    - Estimar el modelo por separado para hombres y mujeres y deducir su hay diferencias importantes entre los dos modelos estimados. Obtener las sumas de cuadrados de los residuos $SCR_H$ y $SCR_M$.\n",
        "    - Estimar el modelo sin distinguir por género, y obtener $SCR$. Construir el estadístico:\n",
        "    $$\n",
        "    F_{exp} = \\frac{n-2k -2}{k+1} \\frac{SCR - (SCR_H+SCR_M)}{SCR_H + SCR_M} \\sim F_{k+1, n-2k-1}\n",
        "    $$\n",
        "    donde $n$ es el número total de observaciones y $k$ el número de variables del modelo ($5$).\n",
        "    - El estadístico $F_{exp}$ (**Test de Chow**) permite contrastar la hipótesis de que coeficientes de los modelos para hombres y mujeres coinciden. Comprobar si se rechaza o no esta hipótesis."
      ]
    },
    {
      "cell_type": "markdown",
      "source": [],
      "metadata": {
        "id": "gomukFBSlpvG"
      }
    },
    {
      "cell_type": "code",
      "source": [
        "dataWoo(\"sleep75\", description=True)"
      ],
      "metadata": {
        "id": "_ehz8BoJlqN1",
        "outputId": "b72e7efc-c35d-4b2b-bb03-74820bf04b4c",
        "colab": {
          "base_uri": "https://localhost:8080/"
        }
      },
      "execution_count": 20,
      "outputs": [
        {
          "output_type": "stream",
          "name": "stdout",
          "text": [
            "name of dataset: sleep75\n",
            "no of variables: 34\n",
            "no of observations: 706\n",
            "\n",
            "+----------+--------------------------------+\n",
            "| variable | label                          |\n",
            "+----------+--------------------------------+\n",
            "| age      | in years                       |\n",
            "| black    | =1 if black                    |\n",
            "| case     | identifier                     |\n",
            "| clerical | =1 if clerical worker          |\n",
            "| construc | =1 if construction worker      |\n",
            "| educ     | years of schooling             |\n",
            "| earns74  | total earnings, 1974           |\n",
            "| gdhlth   | =1 if in good or excel. health |\n",
            "| inlf     | =1 if in labor force           |\n",
            "| leis1    | sleep - totwrk                 |\n",
            "| leis2    | slpnaps - totwrk               |\n",
            "| leis3    | rlxall - totwrk                |\n",
            "| smsa     | =1 if live in smsa             |\n",
            "| lhrwage  | log hourly wage                |\n",
            "| lothinc  | log othinc, unless othinc < 0  |\n",
            "| male     | =1 if male                     |\n",
            "| marr     | =1 if married                  |\n",
            "| prot     | =1 if Protestant               |\n",
            "| rlxall   | slpnaps + personal activs      |\n",
            "| selfe    | =1 if self employed            |\n",
            "| sleep    | mins sleep at night, per wk    |\n",
            "| slpnaps  | minutes sleep, inc. naps       |\n",
            "| south    | =1 if live in south            |\n",
            "| spsepay  | spousal wage income            |\n",
            "| spwrk75  | =1 if spouse works             |\n",
            "| totwrk   | mins worked per week           |\n",
            "| union    | =1 if belong to union          |\n",
            "| worknrm  | mins work main job             |\n",
            "| workscnd | mins work second job           |\n",
            "| exper    | age - educ - 6                 |\n",
            "| yngkid   | =1 if children < 3 present     |\n",
            "| yrsmarr  | years married                  |\n",
            "| hrwage   | hourly wage                    |\n",
            "| agesq    | age^2                          |\n",
            "+----------+--------------------------------+\n",
            "\n",
            "J.E. Biddle and D.S. Hamermesh (1990), “Sleep and the Allocation of\n",
            "Time,” Journal of Political Economy 98, 922-943. Professor Biddle\n",
            "kindly provided the data.\n"
          ]
        }
      ]
    },
    {
      "cell_type": "code",
      "execution_count": 22,
      "metadata": {
        "id": "Sg8C4JdhgZci"
      },
      "outputs": [],
      "source": [
        "datos=dataWoo(\"sleep75\")\n",
        "\n",
        "datosH=datos[datos[\"male\"]==1]\n",
        "\n",
        "yH=datosH[\"sleep\"]\n",
        "XH=datosH[[\"totwrk\", \"educ\", \"age\", \"agesq\", \"yngkid\"]]\n",
        "\n",
        "\n",
        "datosM=datos[datos[\"male\"]==0]\n",
        "\n",
        "yM=datosM[\"sleep\"]\n",
        "XM=datosM[[\"totwrk\", \"educ\", \"age\", \"agesq\", \"yngkid\"]]\n",
        "\n",
        "\n",
        "\n",
        "\n"
      ]
    },
    {
      "cell_type": "code",
      "source": [
        "mcoH = sm.OLS(yH, sm.add_constant(XH)).fit()\n",
        "mcoH.summary()"
      ],
      "metadata": {
        "id": "I2fQuFmLmuad",
        "outputId": "7f78c4b6-40d7-4b36-f080-8f423e2c0c42",
        "colab": {
          "base_uri": "https://localhost:8080/",
          "height": 567
        }
      },
      "execution_count": 23,
      "outputs": [
        {
          "output_type": "execute_result",
          "data": {
            "text/plain": [
              "<class 'statsmodels.iolib.summary.Summary'>\n",
              "\"\"\"\n",
              "                            OLS Regression Results                            \n",
              "==============================================================================\n",
              "Dep. Variable:                  sleep   R-squared:                       0.156\n",
              "Model:                            OLS   Adj. R-squared:                  0.146\n",
              "Method:                 Least Squares   F-statistic:                     14.59\n",
              "Date:                Tue, 24 Oct 2023   Prob (F-statistic):           3.95e-13\n",
              "Time:                        07:33:59   Log-Likelihood:                -2963.4\n",
              "No. Observations:                 400   AIC:                             5939.\n",
              "Df Residuals:                     394   BIC:                             5963.\n",
              "Df Model:                           5                                         \n",
              "Covariance Type:            nonrobust                                         \n",
              "==============================================================================\n",
              "                 coef    std err          t      P>|t|      [0.025      0.975]\n",
              "------------------------------------------------------------------------------\n",
              "const       3648.2083    310.039     11.767      0.000    3038.670    4257.747\n",
              "totwrk        -0.1821      0.024     -7.438      0.000      -0.230      -0.134\n",
              "educ         -13.0524      7.414     -1.760      0.079     -27.629       1.524\n",
              "age            7.1566     14.320      0.500      0.618     -20.997      35.310\n",
              "agesq         -0.0448      0.168     -0.266      0.791      -0.376       0.286\n",
              "yngkid        60.3802     59.023      1.023      0.307     -55.659     176.419\n",
              "==============================================================================\n",
              "Omnibus:                       21.716   Durbin-Watson:                   2.061\n",
              "Prob(Omnibus):                  0.000   Jarque-Bera (JB):               42.802\n",
              "Skew:                          -0.305   Prob(JB):                     5.08e-10\n",
              "Kurtosis:                       4.482   Cond. No.                     4.71e+04\n",
              "==============================================================================\n",
              "\n",
              "Notes:\n",
              "[1] Standard Errors assume that the covariance matrix of the errors is correctly specified.\n",
              "[2] The condition number is large, 4.71e+04. This might indicate that there are\n",
              "strong multicollinearity or other numerical problems.\n",
              "\"\"\""
            ],
            "text/html": [
              "<table class=\"simpletable\">\n",
              "<caption>OLS Regression Results</caption>\n",
              "<tr>\n",
              "  <th>Dep. Variable:</th>          <td>sleep</td>      <th>  R-squared:         </th> <td>   0.156</td>\n",
              "</tr>\n",
              "<tr>\n",
              "  <th>Model:</th>                   <td>OLS</td>       <th>  Adj. R-squared:    </th> <td>   0.146</td>\n",
              "</tr>\n",
              "<tr>\n",
              "  <th>Method:</th>             <td>Least Squares</td>  <th>  F-statistic:       </th> <td>   14.59</td>\n",
              "</tr>\n",
              "<tr>\n",
              "  <th>Date:</th>             <td>Tue, 24 Oct 2023</td> <th>  Prob (F-statistic):</th> <td>3.95e-13</td>\n",
              "</tr>\n",
              "<tr>\n",
              "  <th>Time:</th>                 <td>07:33:59</td>     <th>  Log-Likelihood:    </th> <td> -2963.4</td>\n",
              "</tr>\n",
              "<tr>\n",
              "  <th>No. Observations:</th>      <td>   400</td>      <th>  AIC:               </th> <td>   5939.</td>\n",
              "</tr>\n",
              "<tr>\n",
              "  <th>Df Residuals:</th>          <td>   394</td>      <th>  BIC:               </th> <td>   5963.</td>\n",
              "</tr>\n",
              "<tr>\n",
              "  <th>Df Model:</th>              <td>     5</td>      <th>                     </th>     <td> </td>   \n",
              "</tr>\n",
              "<tr>\n",
              "  <th>Covariance Type:</th>      <td>nonrobust</td>    <th>                     </th>     <td> </td>   \n",
              "</tr>\n",
              "</table>\n",
              "<table class=\"simpletable\">\n",
              "<tr>\n",
              "     <td></td>       <th>coef</th>     <th>std err</th>      <th>t</th>      <th>P>|t|</th>  <th>[0.025</th>    <th>0.975]</th>  \n",
              "</tr>\n",
              "<tr>\n",
              "  <th>const</th>  <td> 3648.2083</td> <td>  310.039</td> <td>   11.767</td> <td> 0.000</td> <td> 3038.670</td> <td> 4257.747</td>\n",
              "</tr>\n",
              "<tr>\n",
              "  <th>totwrk</th> <td>   -0.1821</td> <td>    0.024</td> <td>   -7.438</td> <td> 0.000</td> <td>   -0.230</td> <td>   -0.134</td>\n",
              "</tr>\n",
              "<tr>\n",
              "  <th>educ</th>   <td>  -13.0524</td> <td>    7.414</td> <td>   -1.760</td> <td> 0.079</td> <td>  -27.629</td> <td>    1.524</td>\n",
              "</tr>\n",
              "<tr>\n",
              "  <th>age</th>    <td>    7.1566</td> <td>   14.320</td> <td>    0.500</td> <td> 0.618</td> <td>  -20.997</td> <td>   35.310</td>\n",
              "</tr>\n",
              "<tr>\n",
              "  <th>agesq</th>  <td>   -0.0448</td> <td>    0.168</td> <td>   -0.266</td> <td> 0.791</td> <td>   -0.376</td> <td>    0.286</td>\n",
              "</tr>\n",
              "<tr>\n",
              "  <th>yngkid</th> <td>   60.3802</td> <td>   59.023</td> <td>    1.023</td> <td> 0.307</td> <td>  -55.659</td> <td>  176.419</td>\n",
              "</tr>\n",
              "</table>\n",
              "<table class=\"simpletable\">\n",
              "<tr>\n",
              "  <th>Omnibus:</th>       <td>21.716</td> <th>  Durbin-Watson:     </th> <td>   2.061</td>\n",
              "</tr>\n",
              "<tr>\n",
              "  <th>Prob(Omnibus):</th> <td> 0.000</td> <th>  Jarque-Bera (JB):  </th> <td>  42.802</td>\n",
              "</tr>\n",
              "<tr>\n",
              "  <th>Skew:</th>          <td>-0.305</td> <th>  Prob(JB):          </th> <td>5.08e-10</td>\n",
              "</tr>\n",
              "<tr>\n",
              "  <th>Kurtosis:</th>      <td> 4.482</td> <th>  Cond. No.          </th> <td>4.71e+04</td>\n",
              "</tr>\n",
              "</table><br/><br/>Notes:<br/>[1] Standard Errors assume that the covariance matrix of the errors is correctly specified.<br/>[2] The condition number is large, 4.71e+04. This might indicate that there are<br/>strong multicollinearity or other numerical problems."
            ],
            "text/latex": "\\begin{center}\n\\begin{tabular}{lclc}\n\\toprule\n\\textbf{Dep. Variable:}    &      sleep       & \\textbf{  R-squared:         } &     0.156   \\\\\n\\textbf{Model:}            &       OLS        & \\textbf{  Adj. R-squared:    } &     0.146   \\\\\n\\textbf{Method:}           &  Least Squares   & \\textbf{  F-statistic:       } &     14.59   \\\\\n\\textbf{Date:}             & Tue, 24 Oct 2023 & \\textbf{  Prob (F-statistic):} &  3.95e-13   \\\\\n\\textbf{Time:}             &     07:33:59     & \\textbf{  Log-Likelihood:    } &   -2963.4   \\\\\n\\textbf{No. Observations:} &         400      & \\textbf{  AIC:               } &     5939.   \\\\\n\\textbf{Df Residuals:}     &         394      & \\textbf{  BIC:               } &     5963.   \\\\\n\\textbf{Df Model:}         &           5      & \\textbf{                     } &             \\\\\n\\textbf{Covariance Type:}  &    nonrobust     & \\textbf{                     } &             \\\\\n\\bottomrule\n\\end{tabular}\n\\begin{tabular}{lcccccc}\n                & \\textbf{coef} & \\textbf{std err} & \\textbf{t} & \\textbf{P$> |$t$|$} & \\textbf{[0.025} & \\textbf{0.975]}  \\\\\n\\midrule\n\\textbf{const}  &    3648.2083  &      310.039     &    11.767  &         0.000        &     3038.670    &     4257.747     \\\\\n\\textbf{totwrk} &      -0.1821  &        0.024     &    -7.438  &         0.000        &       -0.230    &       -0.134     \\\\\n\\textbf{educ}   &     -13.0524  &        7.414     &    -1.760  &         0.079        &      -27.629    &        1.524     \\\\\n\\textbf{age}    &       7.1566  &       14.320     &     0.500  &         0.618        &      -20.997    &       35.310     \\\\\n\\textbf{agesq}  &      -0.0448  &        0.168     &    -0.266  &         0.791        &       -0.376    &        0.286     \\\\\n\\textbf{yngkid} &      60.3802  &       59.023     &     1.023  &         0.307        &      -55.659    &      176.419     \\\\\n\\bottomrule\n\\end{tabular}\n\\begin{tabular}{lclc}\n\\textbf{Omnibus:}       & 21.716 & \\textbf{  Durbin-Watson:     } &    2.061  \\\\\n\\textbf{Prob(Omnibus):} &  0.000 & \\textbf{  Jarque-Bera (JB):  } &   42.802  \\\\\n\\textbf{Skew:}          & -0.305 & \\textbf{  Prob(JB):          } & 5.08e-10  \\\\\n\\textbf{Kurtosis:}      &  4.482 & \\textbf{  Cond. No.          } & 4.71e+04  \\\\\n\\bottomrule\n\\end{tabular}\n%\\caption{OLS Regression Results}\n\\end{center}\n\nNotes: \\newline\n [1] Standard Errors assume that the covariance matrix of the errors is correctly specified. \\newline\n [2] The condition number is large, 4.71e+04. This might indicate that there are \\newline\n strong multicollinearity or other numerical problems."
          },
          "metadata": {},
          "execution_count": 23
        }
      ]
    },
    {
      "cell_type": "code",
      "execution_count": 24,
      "metadata": {
        "id": "yrWr2wrIgZci",
        "outputId": "7a365dbe-b70d-4e2f-b376-36a4f79a4695",
        "colab": {
          "base_uri": "https://localhost:8080/",
          "height": 567
        }
      },
      "outputs": [
        {
          "output_type": "execute_result",
          "data": {
            "text/plain": [
              "<class 'statsmodels.iolib.summary.Summary'>\n",
              "\"\"\"\n",
              "                            OLS Regression Results                            \n",
              "==============================================================================\n",
              "Dep. Variable:                  sleep   R-squared:                       0.098\n",
              "Model:                            OLS   Adj. R-squared:                  0.083\n",
              "Method:                 Least Squares   F-statistic:                     6.495\n",
              "Date:                Tue, 24 Oct 2023   Prob (F-statistic):           9.42e-06\n",
              "Time:                        07:35:00   Log-Likelihood:                -2291.6\n",
              "No. Observations:                 306   AIC:                             4595.\n",
              "Df Residuals:                     300   BIC:                             4618.\n",
              "Df Model:                           5                                         \n",
              "Covariance Type:            nonrobust                                         \n",
              "==============================================================================\n",
              "                 coef    std err          t      P>|t|      [0.025      0.975]\n",
              "------------------------------------------------------------------------------\n",
              "const       4238.7293    384.892     11.013      0.000    3481.299    4996.160\n",
              "totwrk        -0.1399      0.028     -5.060      0.000      -0.194      -0.086\n",
              "educ         -10.2051      9.589     -1.064      0.288     -29.075       8.665\n",
              "age          -30.3566     18.531     -1.638      0.102     -66.824       6.110\n",
              "agesq          0.3679      0.223      1.647      0.101      -0.072       0.807\n",
              "yngkid      -118.2826     93.188     -1.269      0.205    -301.667      65.102\n",
              "==============================================================================\n",
              "Omnibus:                       54.909   Durbin-Watson:                   1.931\n",
              "Prob(Omnibus):                  0.000   Jarque-Bera (JB):              192.655\n",
              "Skew:                          -0.730   Prob(JB):                     1.46e-42\n",
              "Kurtosis:                       6.602   Cond. No.                     3.93e+04\n",
              "==============================================================================\n",
              "\n",
              "Notes:\n",
              "[1] Standard Errors assume that the covariance matrix of the errors is correctly specified.\n",
              "[2] The condition number is large, 3.93e+04. This might indicate that there are\n",
              "strong multicollinearity or other numerical problems.\n",
              "\"\"\""
            ],
            "text/html": [
              "<table class=\"simpletable\">\n",
              "<caption>OLS Regression Results</caption>\n",
              "<tr>\n",
              "  <th>Dep. Variable:</th>          <td>sleep</td>      <th>  R-squared:         </th> <td>   0.098</td>\n",
              "</tr>\n",
              "<tr>\n",
              "  <th>Model:</th>                   <td>OLS</td>       <th>  Adj. R-squared:    </th> <td>   0.083</td>\n",
              "</tr>\n",
              "<tr>\n",
              "  <th>Method:</th>             <td>Least Squares</td>  <th>  F-statistic:       </th> <td>   6.495</td>\n",
              "</tr>\n",
              "<tr>\n",
              "  <th>Date:</th>             <td>Tue, 24 Oct 2023</td> <th>  Prob (F-statistic):</th> <td>9.42e-06</td>\n",
              "</tr>\n",
              "<tr>\n",
              "  <th>Time:</th>                 <td>07:35:00</td>     <th>  Log-Likelihood:    </th> <td> -2291.6</td>\n",
              "</tr>\n",
              "<tr>\n",
              "  <th>No. Observations:</th>      <td>   306</td>      <th>  AIC:               </th> <td>   4595.</td>\n",
              "</tr>\n",
              "<tr>\n",
              "  <th>Df Residuals:</th>          <td>   300</td>      <th>  BIC:               </th> <td>   4618.</td>\n",
              "</tr>\n",
              "<tr>\n",
              "  <th>Df Model:</th>              <td>     5</td>      <th>                     </th>     <td> </td>   \n",
              "</tr>\n",
              "<tr>\n",
              "  <th>Covariance Type:</th>      <td>nonrobust</td>    <th>                     </th>     <td> </td>   \n",
              "</tr>\n",
              "</table>\n",
              "<table class=\"simpletable\">\n",
              "<tr>\n",
              "     <td></td>       <th>coef</th>     <th>std err</th>      <th>t</th>      <th>P>|t|</th>  <th>[0.025</th>    <th>0.975]</th>  \n",
              "</tr>\n",
              "<tr>\n",
              "  <th>const</th>  <td> 4238.7293</td> <td>  384.892</td> <td>   11.013</td> <td> 0.000</td> <td> 3481.299</td> <td> 4996.160</td>\n",
              "</tr>\n",
              "<tr>\n",
              "  <th>totwrk</th> <td>   -0.1399</td> <td>    0.028</td> <td>   -5.060</td> <td> 0.000</td> <td>   -0.194</td> <td>   -0.086</td>\n",
              "</tr>\n",
              "<tr>\n",
              "  <th>educ</th>   <td>  -10.2051</td> <td>    9.589</td> <td>   -1.064</td> <td> 0.288</td> <td>  -29.075</td> <td>    8.665</td>\n",
              "</tr>\n",
              "<tr>\n",
              "  <th>age</th>    <td>  -30.3566</td> <td>   18.531</td> <td>   -1.638</td> <td> 0.102</td> <td>  -66.824</td> <td>    6.110</td>\n",
              "</tr>\n",
              "<tr>\n",
              "  <th>agesq</th>  <td>    0.3679</td> <td>    0.223</td> <td>    1.647</td> <td> 0.101</td> <td>   -0.072</td> <td>    0.807</td>\n",
              "</tr>\n",
              "<tr>\n",
              "  <th>yngkid</th> <td> -118.2826</td> <td>   93.188</td> <td>   -1.269</td> <td> 0.205</td> <td> -301.667</td> <td>   65.102</td>\n",
              "</tr>\n",
              "</table>\n",
              "<table class=\"simpletable\">\n",
              "<tr>\n",
              "  <th>Omnibus:</th>       <td>54.909</td> <th>  Durbin-Watson:     </th> <td>   1.931</td>\n",
              "</tr>\n",
              "<tr>\n",
              "  <th>Prob(Omnibus):</th> <td> 0.000</td> <th>  Jarque-Bera (JB):  </th> <td> 192.655</td>\n",
              "</tr>\n",
              "<tr>\n",
              "  <th>Skew:</th>          <td>-0.730</td> <th>  Prob(JB):          </th> <td>1.46e-42</td>\n",
              "</tr>\n",
              "<tr>\n",
              "  <th>Kurtosis:</th>      <td> 6.602</td> <th>  Cond. No.          </th> <td>3.93e+04</td>\n",
              "</tr>\n",
              "</table><br/><br/>Notes:<br/>[1] Standard Errors assume that the covariance matrix of the errors is correctly specified.<br/>[2] The condition number is large, 3.93e+04. This might indicate that there are<br/>strong multicollinearity or other numerical problems."
            ],
            "text/latex": "\\begin{center}\n\\begin{tabular}{lclc}\n\\toprule\n\\textbf{Dep. Variable:}    &      sleep       & \\textbf{  R-squared:         } &     0.098   \\\\\n\\textbf{Model:}            &       OLS        & \\textbf{  Adj. R-squared:    } &     0.083   \\\\\n\\textbf{Method:}           &  Least Squares   & \\textbf{  F-statistic:       } &     6.495   \\\\\n\\textbf{Date:}             & Tue, 24 Oct 2023 & \\textbf{  Prob (F-statistic):} &  9.42e-06   \\\\\n\\textbf{Time:}             &     07:35:00     & \\textbf{  Log-Likelihood:    } &   -2291.6   \\\\\n\\textbf{No. Observations:} &         306      & \\textbf{  AIC:               } &     4595.   \\\\\n\\textbf{Df Residuals:}     &         300      & \\textbf{  BIC:               } &     4618.   \\\\\n\\textbf{Df Model:}         &           5      & \\textbf{                     } &             \\\\\n\\textbf{Covariance Type:}  &    nonrobust     & \\textbf{                     } &             \\\\\n\\bottomrule\n\\end{tabular}\n\\begin{tabular}{lcccccc}\n                & \\textbf{coef} & \\textbf{std err} & \\textbf{t} & \\textbf{P$> |$t$|$} & \\textbf{[0.025} & \\textbf{0.975]}  \\\\\n\\midrule\n\\textbf{const}  &    4238.7293  &      384.892     &    11.013  &         0.000        &     3481.299    &     4996.160     \\\\\n\\textbf{totwrk} &      -0.1399  &        0.028     &    -5.060  &         0.000        &       -0.194    &       -0.086     \\\\\n\\textbf{educ}   &     -10.2051  &        9.589     &    -1.064  &         0.288        &      -29.075    &        8.665     \\\\\n\\textbf{age}    &     -30.3566  &       18.531     &    -1.638  &         0.102        &      -66.824    &        6.110     \\\\\n\\textbf{agesq}  &       0.3679  &        0.223     &     1.647  &         0.101        &       -0.072    &        0.807     \\\\\n\\textbf{yngkid} &    -118.2826  &       93.188     &    -1.269  &         0.205        &     -301.667    &       65.102     \\\\\n\\bottomrule\n\\end{tabular}\n\\begin{tabular}{lclc}\n\\textbf{Omnibus:}       & 54.909 & \\textbf{  Durbin-Watson:     } &    1.931  \\\\\n\\textbf{Prob(Omnibus):} &  0.000 & \\textbf{  Jarque-Bera (JB):  } &  192.655  \\\\\n\\textbf{Skew:}          & -0.730 & \\textbf{  Prob(JB):          } & 1.46e-42  \\\\\n\\textbf{Kurtosis:}      &  6.602 & \\textbf{  Cond. No.          } & 3.93e+04  \\\\\n\\bottomrule\n\\end{tabular}\n%\\caption{OLS Regression Results}\n\\end{center}\n\nNotes: \\newline\n [1] Standard Errors assume that the covariance matrix of the errors is correctly specified. \\newline\n [2] The condition number is large, 3.93e+04. This might indicate that there are \\newline\n strong multicollinearity or other numerical problems."
          },
          "metadata": {},
          "execution_count": 24
        }
      ],
      "source": [
        "\n",
        "mcoM = sm.OLS(yM, sm.add_constant(XM)).fit()\n",
        "mcoM.summary()"
      ]
    },
    {
      "cell_type": "code",
      "execution_count": 26,
      "metadata": {
        "id": "FVvcljVugZci",
        "outputId": "0409dcb4-7592-4eee-f665-b107a213b437",
        "colab": {
          "base_uri": "https://localhost:8080/"
        }
      },
      "outputs": [
        {
          "output_type": "stream",
          "name": "stdout",
          "text": [
            "63763978.9893062 57288575.940988824\n"
          ]
        }
      ],
      "source": [
        "scrH=mcoH.ssr\n",
        "scrM=mcoM.ssr\n",
        "print(scrH, scrM)"
      ]
    },
    {
      "cell_type": "code",
      "source": [
        "y=datos[\"sleep\"]\n",
        "X=datos[[\"totwrk\", \"educ\", \"age\", \"agesq\", \"yngkid\"]]\n",
        "mco = sm.OLS(y, sm.add_constant(X)).fit()\n",
        "scr = mco.ssr\n",
        "print(scr)"
      ],
      "metadata": {
        "id": "xJsGJYhVp4np",
        "outputId": "99fa47d5-3d2d-4f45-8c30-b3857285dcef",
        "colab": {
          "base_uri": "https://localhost:8080/"
        }
      },
      "execution_count": 36,
      "outputs": [
        {
          "output_type": "stream",
          "name": "stdout",
          "text": [
            "123267451.0461509\n"
          ]
        }
      ]
    },
    {
      "cell_type": "code",
      "source": [
        "n = 706\n",
        "k = 6\n",
        "\n",
        "FChow =( (n - 2*k -2 )/ (k+1) ) * (scr - (scrH+scrM))/(scrH+scrM)\n",
        "FChow"
      ],
      "metadata": {
        "id": "gYfZiZRFqQxU",
        "outputId": "26841e64-43e1-4602-b515-a3ffe3eeaa5d",
        "colab": {
          "base_uri": "https://localhost:8080/"
        }
      },
      "execution_count": 34,
      "outputs": [
        {
          "output_type": "execute_result",
          "data": {
            "text/plain": [
              "1.8087871161825235"
            ]
          },
          "metadata": {},
          "execution_count": 34
        }
      ]
    },
    {
      "cell_type": "code",
      "source": [
        "from scipy import stats\n",
        "alpha=0.05\n",
        "Fteo= stats.f.ppf(1-alpha, k-1, n-2*k-1)\n",
        "Fteo"
      ],
      "metadata": {
        "id": "CRKmlhFTrG3E",
        "outputId": "061ed0cc-c645-467f-a7a8-a222c84e8d39",
        "colab": {
          "base_uri": "https://localhost:8080/"
        }
      },
      "execution_count": 35,
      "outputs": [
        {
          "output_type": "execute_result",
          "data": {
            "text/plain": [
              "2.2270304414430027"
            ]
          },
          "metadata": {},
          "execution_count": 35
        }
      ]
    },
    {
      "cell_type": "markdown",
      "metadata": {
        "id": "2ONogUh-gZci"
      },
      "source": [
        "6. Aplicar el test de Chow del ejercicio anterior para determinar si existen diferencias entre géneros al analizar el modelo $\\log (wage) = \\beta_0 + \\beta_1 educ + \\beta_2 exper + \\beta_3 exper^2 + \\beta_4 tenure + \\beta_5 tenure^2 + u$ con los datos de **wage1**."
      ]
    },
    {
      "cell_type": "code",
      "execution_count": null,
      "metadata": {
        "id": "cvghgNzCgZcj"
      },
      "outputs": [],
      "source": [
        "datos"
      ]
    },
    {
      "cell_type": "markdown",
      "metadata": {
        "id": "Y554rsN1gZcj"
      },
      "source": [
        "7. Utilizando **apple**:\n",
        "    - Definir la variable binaria $eco=1$ si $ecolbs>0$ y $eco=0$ y si $ecolbs=0$. ¿Qué indica esa variable? ¿Cuál es la proporcion de familias que asegura que comprará manzanas ecoetiquetadas?\n",
        "    - Estimar el modelo $eco = \\beta_0 + \\beta_1 ecoprc + \\beta_2 regprc +\\beta_3 faminc + \\beta_4 hhsize + \\beta_5 educ + \\beta_6 age + u$. Interpretar $\\beta_1$ y $\\beta_2$.\n",
        "    - ¿Son conjuntamente significativas las variables que no corresponden a precios del modelo? ¿Qué variable independiente, además de las relacionadas con precios, parecen tener unefecto más importante sobre la decisión de comprar manzanas ecológicas? ¿Tiene sentido?\n",
        "    - Sustituir en el modelo la variable $faminc$ por $\\log (faminc)$ y estimar el nuevo modelo. ¿Qué modelo se ajusta mejor?\n",
        "    - Utilizar el Test de Chow para determinar si hay diferencias entre hombres y mujeres en su intención de comprar manzanas ecológicas."
      ]
    },
    {
      "cell_type": "code",
      "execution_count": null,
      "metadata": {
        "id": "4svjH4XCgZcj"
      },
      "outputs": [],
      "source": [
        "datos=dataWoo(\"apple\")\n",
        "#datos[datos[\"ecolbs\"] ==0, \"eco\"] = 0\n",
        "datos[\"eco\"]=0\n",
        "datos.loc[datos['ecolbs']>0.01, 'eco'] = 1\n",
        "datos[\"lfaminc\"]=np.log(datos[\"faminc\"])"
      ]
    },
    {
      "cell_type": "code",
      "execution_count": null,
      "metadata": {
        "id": "eWGOY0gFgZcj"
      },
      "outputs": [],
      "source": [
        "datos"
      ]
    },
    {
      "cell_type": "code",
      "execution_count": null,
      "metadata": {
        "id": "OlE3zYC_gZcj"
      },
      "outputs": [],
      "source": []
    }
  ],
  "metadata": {
    "kernelspec": {
      "display_name": "Python 3 (ipykernel)",
      "language": "python",
      "name": "python3"
    },
    "language_info": {
      "codemirror_mode": {
        "name": "ipython",
        "version": 3
      },
      "file_extension": ".py",
      "mimetype": "text/x-python",
      "name": "python",
      "nbconvert_exporter": "python",
      "pygments_lexer": "ipython3",
      "version": "3.11.5"
    },
    "colab": {
      "provenance": []
    }
  },
  "nbformat": 4,
  "nbformat_minor": 0
}