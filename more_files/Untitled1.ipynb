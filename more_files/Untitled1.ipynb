{
 "cells": [
  {
   "cell_type": "code",
   "execution_count": 8,
   "id": "beaa6196",
   "metadata": {},
   "outputs": [
    {
     "data": {
      "text/plain": [
       "array([[1, '05-02-2010', 1643690.9, ..., 2.572, 211.0963582, 8.106],\n",
       "       [1, '12-02-2010', 1641957.44, ..., 2.548, 211.2421698, 8.106],\n",
       "       [1, '19-02-2010', 1611968.17, ..., 2.514, 211.2891429, 8.106],\n",
       "       ...,\n",
       "       [45, '12-10-2012', 734464.36, ..., 4.0, 192.3272654, 8.667],\n",
       "       [45, '19-10-2012', 718125.53, ..., 3.969, 192.3308542, 8.667],\n",
       "       [45, '26-10-2012', 760281.43, ..., 3.882, 192.3088989, 8.667]],\n",
       "      dtype=object)"
      ]
     },
     "execution_count": 8,
     "metadata": {},
     "output_type": "execute_result"
    }
   ],
   "source": [
    "import pandas as pd #Libreria para manejo de la base de datos\n",
    "\n",
    "data = pd.read_csv(\"Walmart.csv\",sep=\",\")\n",
    "y = data.values\n",
    "y"
   ]
  },
  {
   "cell_type": "code",
   "execution_count": null,
   "id": "437a3ba9",
   "metadata": {},
   "outputs": [],
   "source": []
  }
 ],
 "metadata": {
  "kernelspec": {
   "display_name": "Python 3 (ipykernel)",
   "language": "python",
   "name": "python3"
  },
  "language_info": {
   "codemirror_mode": {
    "name": "ipython",
    "version": 3
   },
   "file_extension": ".py",
   "mimetype": "text/x-python",
   "name": "python",
   "nbconvert_exporter": "python",
   "pygments_lexer": "ipython3",
   "version": "3.11.5"
  }
 },
 "nbformat": 4,
 "nbformat_minor": 5
}
